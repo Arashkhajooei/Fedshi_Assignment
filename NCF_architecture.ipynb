{
 "cells": [
  {
   "cell_type": "code",
   "execution_count": 1,
   "id": "9cf7197a",
   "metadata": {},
   "outputs": [
    {
     "data": {
      "application/vnd.jupyter.widget-view+json": {
       "model_id": "2d1eb0d6517a4913875daee37f21910b",
       "version_major": 2,
       "version_minor": 0
      },
      "text/plain": [
       "Training:   0%|          | 0/15 [00:00<?, ?it/s]"
      ]
     },
     "metadata": {},
     "output_type": "display_data"
    },
    {
     "data": {
      "application/vnd.jupyter.widget-view+json": {
       "model_id": "10be06281b644a868a89972a275c75ef",
       "version_major": 2,
       "version_minor": 0
      },
      "text/plain": [
       "Epoch 1:   0%|          | 0/174 [00:00<?, ?it/s]"
      ]
     },
     "metadata": {},
     "output_type": "display_data"
    },
    {
     "data": {
      "application/vnd.jupyter.widget-view+json": {
       "model_id": "31fe29be5fb44939b49e171450ee0c62",
       "version_major": 2,
       "version_minor": 0
      },
      "text/plain": [
       "Evaluating:   0%|          | 0/2000 [00:00<?, ?it/s]"
      ]
     },
     "metadata": {},
     "output_type": "display_data"
    },
    {
     "name": "stdout",
     "output_type": "stream",
     "text": [
      "Epoch 01 │ Loss: 0.6958 │ Recall@10: 0.1665 │ NDCG@10: 0.0895\n"
     ]
    },
    {
     "data": {
      "application/vnd.jupyter.widget-view+json": {
       "model_id": "a380fa5c850c4ffd920521b059ba16d2",
       "version_major": 2,
       "version_minor": 0
      },
      "text/plain": [
       "Epoch 2:   0%|          | 0/174 [00:00<?, ?it/s]"
      ]
     },
     "metadata": {},
     "output_type": "display_data"
    },
    {
     "data": {
      "application/vnd.jupyter.widget-view+json": {
       "model_id": "b5affc5bbb784792a69a1a5b95b4b181",
       "version_major": 2,
       "version_minor": 0
      },
      "text/plain": [
       "Evaluating:   0%|          | 0/2000 [00:00<?, ?it/s]"
      ]
     },
     "metadata": {},
     "output_type": "display_data"
    },
    {
     "name": "stdout",
     "output_type": "stream",
     "text": [
      "Epoch 02 │ Loss: 0.6844 │ Recall@10: 0.2710 │ NDCG@10: 0.1856\n"
     ]
    },
    {
     "data": {
      "application/vnd.jupyter.widget-view+json": {
       "model_id": "f7942dc0e0724d378a4f939c5430e30a",
       "version_major": 2,
       "version_minor": 0
      },
      "text/plain": [
       "Epoch 3:   0%|          | 0/174 [00:00<?, ?it/s]"
      ]
     },
     "metadata": {},
     "output_type": "display_data"
    },
    {
     "data": {
      "application/vnd.jupyter.widget-view+json": {
       "model_id": "d8265d8f8b48497d9a84a203297f764a",
       "version_major": 2,
       "version_minor": 0
      },
      "text/plain": [
       "Evaluating:   0%|          | 0/2000 [00:00<?, ?it/s]"
      ]
     },
     "metadata": {},
     "output_type": "display_data"
    },
    {
     "name": "stdout",
     "output_type": "stream",
     "text": [
      "Epoch 03 │ Loss: 0.6688 │ Recall@10: 0.3700 │ NDCG@10: 0.2806\n"
     ]
    },
    {
     "data": {
      "application/vnd.jupyter.widget-view+json": {
       "model_id": "06d7cbbd6bae4711bb36652abd78e6dd",
       "version_major": 2,
       "version_minor": 0
      },
      "text/plain": [
       "Epoch 4:   0%|          | 0/174 [00:00<?, ?it/s]"
      ]
     },
     "metadata": {},
     "output_type": "display_data"
    },
    {
     "data": {
      "application/vnd.jupyter.widget-view+json": {
       "model_id": "5ef20200f93e431e8f55737e8a0453e4",
       "version_major": 2,
       "version_minor": 0
      },
      "text/plain": [
       "Evaluating:   0%|          | 0/2000 [00:00<?, ?it/s]"
      ]
     },
     "metadata": {},
     "output_type": "display_data"
    },
    {
     "name": "stdout",
     "output_type": "stream",
     "text": [
      "Epoch 04 │ Loss: 0.6540 │ Recall@10: 0.4240 │ NDCG@10: 0.3280\n"
     ]
    },
    {
     "data": {
      "application/vnd.jupyter.widget-view+json": {
       "model_id": "40ab4e18e69d4f5d9333416febf9aa93",
       "version_major": 2,
       "version_minor": 0
      },
      "text/plain": [
       "Epoch 5:   0%|          | 0/174 [00:00<?, ?it/s]"
      ]
     },
     "metadata": {},
     "output_type": "display_data"
    },
    {
     "data": {
      "application/vnd.jupyter.widget-view+json": {
       "model_id": "0c80165acf6045db8cf331be9feb031f",
       "version_major": 2,
       "version_minor": 0
      },
      "text/plain": [
       "Evaluating:   0%|          | 0/2000 [00:00<?, ?it/s]"
      ]
     },
     "metadata": {},
     "output_type": "display_data"
    },
    {
     "name": "stdout",
     "output_type": "stream",
     "text": [
      "Epoch 05 │ Loss: 0.6424 │ Recall@10: 0.4745 │ NDCG@10: 0.3650\n"
     ]
    },
    {
     "data": {
      "application/vnd.jupyter.widget-view+json": {
       "model_id": "de3e0759701b46a692767423110df29f",
       "version_major": 2,
       "version_minor": 0
      },
      "text/plain": [
       "Epoch 6:   0%|          | 0/174 [00:00<?, ?it/s]"
      ]
     },
     "metadata": {},
     "output_type": "display_data"
    },
    {
     "data": {
      "application/vnd.jupyter.widget-view+json": {
       "model_id": "7fa2779286ad4b269859f0cd00426587",
       "version_major": 2,
       "version_minor": 0
      },
      "text/plain": [
       "Evaluating:   0%|          | 0/2000 [00:00<?, ?it/s]"
      ]
     },
     "metadata": {},
     "output_type": "display_data"
    },
    {
     "name": "stdout",
     "output_type": "stream",
     "text": [
      "Epoch 06 │ Loss: 0.6316 │ Recall@10: 0.5150 │ NDCG@10: 0.3952\n"
     ]
    },
    {
     "data": {
      "application/vnd.jupyter.widget-view+json": {
       "model_id": "90dd23c943cd44aaaa82a62f38e32f1b",
       "version_major": 2,
       "version_minor": 0
      },
      "text/plain": [
       "Epoch 7:   0%|          | 0/174 [00:00<?, ?it/s]"
      ]
     },
     "metadata": {},
     "output_type": "display_data"
    },
    {
     "data": {
      "application/vnd.jupyter.widget-view+json": {
       "model_id": "0de40633b50b400c8633298fe42cba30",
       "version_major": 2,
       "version_minor": 0
      },
      "text/plain": [
       "Evaluating:   0%|          | 0/2000 [00:00<?, ?it/s]"
      ]
     },
     "metadata": {},
     "output_type": "display_data"
    },
    {
     "name": "stdout",
     "output_type": "stream",
     "text": [
      "Epoch 07 │ Loss: 0.6220 │ Recall@10: 0.5445 │ NDCG@10: 0.4082\n"
     ]
    },
    {
     "data": {
      "application/vnd.jupyter.widget-view+json": {
       "model_id": "c26c29407a13422aae859c1d4d8208b2",
       "version_major": 2,
       "version_minor": 0
      },
      "text/plain": [
       "Epoch 8:   0%|          | 0/174 [00:00<?, ?it/s]"
      ]
     },
     "metadata": {},
     "output_type": "display_data"
    },
    {
     "data": {
      "application/vnd.jupyter.widget-view+json": {
       "model_id": "41520118b059413fb8445dc950c56f12",
       "version_major": 2,
       "version_minor": 0
      },
      "text/plain": [
       "Evaluating:   0%|          | 0/2000 [00:00<?, ?it/s]"
      ]
     },
     "metadata": {},
     "output_type": "display_data"
    },
    {
     "name": "stdout",
     "output_type": "stream",
     "text": [
      "Epoch 08 │ Loss: 0.6135 │ Recall@10: 0.5790 │ NDCG@10: 0.4219\n"
     ]
    },
    {
     "data": {
      "application/vnd.jupyter.widget-view+json": {
       "model_id": "9cad5b1908354466a230da7282108b68",
       "version_major": 2,
       "version_minor": 0
      },
      "text/plain": [
       "Epoch 9:   0%|          | 0/174 [00:00<?, ?it/s]"
      ]
     },
     "metadata": {},
     "output_type": "display_data"
    },
    {
     "data": {
      "application/vnd.jupyter.widget-view+json": {
       "model_id": "88b44f8e09c9410e8fb51e1d5cdb875f",
       "version_major": 2,
       "version_minor": 0
      },
      "text/plain": [
       "Evaluating:   0%|          | 0/2000 [00:00<?, ?it/s]"
      ]
     },
     "metadata": {},
     "output_type": "display_data"
    },
    {
     "name": "stdout",
     "output_type": "stream",
     "text": [
      "Epoch 09 │ Loss: 0.6035 │ Recall@10: 0.6000 │ NDCG@10: 0.4292\n"
     ]
    },
    {
     "data": {
      "application/vnd.jupyter.widget-view+json": {
       "model_id": "cecc8f2ff02c47029b2f05fdacc68067",
       "version_major": 2,
       "version_minor": 0
      },
      "text/plain": [
       "Epoch 10:   0%|          | 0/174 [00:00<?, ?it/s]"
      ]
     },
     "metadata": {},
     "output_type": "display_data"
    },
    {
     "data": {
      "application/vnd.jupyter.widget-view+json": {
       "model_id": "60391cf28c8645f18db6f7be96dd2205",
       "version_major": 2,
       "version_minor": 0
      },
      "text/plain": [
       "Evaluating:   0%|          | 0/2000 [00:00<?, ?it/s]"
      ]
     },
     "metadata": {},
     "output_type": "display_data"
    },
    {
     "name": "stdout",
     "output_type": "stream",
     "text": [
      "Epoch 10 │ Loss: 0.5909 │ Recall@10: 0.6230 │ NDCG@10: 0.4440\n"
     ]
    },
    {
     "data": {
      "application/vnd.jupyter.widget-view+json": {
       "model_id": "0e9cb8d27afc4bc0812b76c390417598",
       "version_major": 2,
       "version_minor": 0
      },
      "text/plain": [
       "Epoch 11:   0%|          | 0/174 [00:00<?, ?it/s]"
      ]
     },
     "metadata": {},
     "output_type": "display_data"
    },
    {
     "data": {
      "application/vnd.jupyter.widget-view+json": {
       "model_id": "666dec536110482a85420fe281e938e4",
       "version_major": 2,
       "version_minor": 0
      },
      "text/plain": [
       "Evaluating:   0%|          | 0/2000 [00:00<?, ?it/s]"
      ]
     },
     "metadata": {},
     "output_type": "display_data"
    },
    {
     "name": "stdout",
     "output_type": "stream",
     "text": [
      "Epoch 11 │ Loss: 0.5726 │ Recall@10: 0.6385 │ NDCG@10: 0.4486\n"
     ]
    },
    {
     "data": {
      "application/vnd.jupyter.widget-view+json": {
       "model_id": "4bb38e35627b4f0aa7d279f585b0beb4",
       "version_major": 2,
       "version_minor": 0
      },
      "text/plain": [
       "Epoch 12:   0%|          | 0/174 [00:00<?, ?it/s]"
      ]
     },
     "metadata": {},
     "output_type": "display_data"
    },
    {
     "data": {
      "application/vnd.jupyter.widget-view+json": {
       "model_id": "fe8e5fb4c54a4b9680be73a7c2c0962d",
       "version_major": 2,
       "version_minor": 0
      },
      "text/plain": [
       "Evaluating:   0%|          | 0/2000 [00:00<?, ?it/s]"
      ]
     },
     "metadata": {},
     "output_type": "display_data"
    },
    {
     "name": "stdout",
     "output_type": "stream",
     "text": [
      "Epoch 12 │ Loss: 0.5465 │ Recall@10: 0.6430 │ NDCG@10: 0.4423\n"
     ]
    },
    {
     "data": {
      "application/vnd.jupyter.widget-view+json": {
       "model_id": "afb656a03bdb440fae46afd4d10ef8a8",
       "version_major": 2,
       "version_minor": 0
      },
      "text/plain": [
       "Epoch 13:   0%|          | 0/174 [00:00<?, ?it/s]"
      ]
     },
     "metadata": {},
     "output_type": "display_data"
    },
    {
     "data": {
      "application/vnd.jupyter.widget-view+json": {
       "model_id": "4f0ceb917bf8416bb38869538250a700",
       "version_major": 2,
       "version_minor": 0
      },
      "text/plain": [
       "Evaluating:   0%|          | 0/2000 [00:00<?, ?it/s]"
      ]
     },
     "metadata": {},
     "output_type": "display_data"
    },
    {
     "name": "stdout",
     "output_type": "stream",
     "text": [
      "Epoch 13 │ Loss: 0.5051 │ Recall@10: 0.6295 │ NDCG@10: 0.4327\n"
     ]
    },
    {
     "data": {
      "application/vnd.jupyter.widget-view+json": {
       "model_id": "c665ce5956044b56b76a86b9acaef60e",
       "version_major": 2,
       "version_minor": 0
      },
      "text/plain": [
       "Epoch 14:   0%|          | 0/174 [00:00<?, ?it/s]"
      ]
     },
     "metadata": {},
     "output_type": "display_data"
    },
    {
     "data": {
      "application/vnd.jupyter.widget-view+json": {
       "model_id": "38cd0336b39d48fabb520f9dc8f81859",
       "version_major": 2,
       "version_minor": 0
      },
      "text/plain": [
       "Evaluating:   0%|          | 0/2000 [00:00<?, ?it/s]"
      ]
     },
     "metadata": {},
     "output_type": "display_data"
    },
    {
     "name": "stdout",
     "output_type": "stream",
     "text": [
      "Epoch 14 │ Loss: 0.4455 │ Recall@10: 0.6110 │ NDCG@10: 0.4227\n"
     ]
    },
    {
     "data": {
      "application/vnd.jupyter.widget-view+json": {
       "model_id": "e92da2bd7e5f46c99352842b2499137f",
       "version_major": 2,
       "version_minor": 0
      },
      "text/plain": [
       "Epoch 15:   0%|          | 0/174 [00:00<?, ?it/s]"
      ]
     },
     "metadata": {},
     "output_type": "display_data"
    },
    {
     "data": {
      "application/vnd.jupyter.widget-view+json": {
       "model_id": "5e004f394ab34300a3a216f808df7ede",
       "version_major": 2,
       "version_minor": 0
      },
      "text/plain": [
       "Evaluating:   0%|          | 0/2000 [00:00<?, ?it/s]"
      ]
     },
     "metadata": {},
     "output_type": "display_data"
    },
    {
     "name": "stdout",
     "output_type": "stream",
     "text": [
      "Epoch 15 │ Loss: 0.3741 │ Recall@10: 0.6085 │ NDCG@10: 0.4165\n"
     ]
    },
    {
     "data": {
      "image/png": "[encoded data removed]",
      "text/plain": [
       "<Figure size 1500x400 with 3 Axes>"
      ]
     },
     "metadata": {},
     "output_type": "display_data"
    }
   ],
   "source": [
    "# ─── 1 │ Imports & Config ─────────────────────────────────────────────\n",
    "import pandas as pd\n",
    "import torch\n",
    "import numpy as np\n",
    "import matplotlib.pyplot as plt\n",
    "from torch.utils.data import Dataset, DataLoader\n",
    "import torch.nn as nn\n",
    "from tqdm.auto import tqdm, trange\n",
    "\n",
    "# ---------------- Hyper‑parameters ----------------\n",
    "LIKE_TH = 1\n",
    "EPOCHS = 15  # NCF often converges faster than BPR\n",
    "EMB_DIM = 64  # Start with a reasonable embedding size for NCF\n",
    "MLP_LAYERS = [EMB_DIM * 2, 256, 128, 64] # Input layer is 2x embedding dim (user+item)\n",
    "BATCH_SIZE = 4096\n",
    "LEARNING_RATE = 1e-3\n",
    "WEIGHT_DECAY = 1e-5\n",
    "DEVICE = \"cuda\" if torch.cuda.is_available() else \"cpu\"\n",
    "\n",
    "# ─── 2 │ Load & Filter Ratings ────────────────────────────────────────\n",
    "try:\n",
    "    ratings_raw = pd.read_csv(\"data/Ratings.csv\")\n",
    "except FileNotFoundError:\n",
    "    print(\"Error: 'data/Ratings.csv' not found.\")\n",
    "    exit()\n",
    "\n",
    "ratings_raw = ratings_raw[ratings_raw[\"Book-Rating\"] >= LIKE_TH]\n",
    "\n",
    "# ─── 3 │ Train/Test Split ─────────────────────────────────────────────\n",
    "def train_test_split(df):\n",
    "    df['rank_latest'] = df.groupby(['User-ID'])['Book-Rating'].rank(method='first', ascending=False)\n",
    "    train_df = df[df['rank_latest'] != 1]\n",
    "    test_df = df[df['rank_latest'] == 1]\n",
    "    return train_df.drop(columns='rank_latest'), test_df.drop(columns='rank_latest')\n",
    "\n",
    "train_df, test_df = train_test_split(ratings_raw)\n",
    "\n",
    "# ─── 4 │ Encode IDs ───────────────────────────────────────────────────\n",
    "user2idx = {u: i for i, u in enumerate(train_df[\"User-ID\"].unique())}\n",
    "book2idx = {b: i for i, b in enumerate(train_df[\"ISBN\"].unique())}\n",
    "\n",
    "train_df[\"user_idx\"] = train_df[\"User-ID\"].map(user2idx)\n",
    "train_df[\"book_idx\"] = train_df[\"ISBN\"].map(book2idx)\n",
    "test_df[\"user_idx\"] = test_df[\"User-ID\"].map(user2idx)\n",
    "test_df[\"book_idx\"] = test_df[\"ISBN\"].map(book2idx)\n",
    "\n",
    "test_df = test_df.dropna().astype({\"user_idx\": int, \"book_idx\": int})\n",
    "test_df = test_df.sample(n=min(len(test_df), 2000), random_state=42)\n",
    "\n",
    "n_users, n_books = len(user2idx), len(book2idx)\n",
    "\n",
    "# ─── 5 │ NCF Dataset (Pointwise Labels) ───────────────────────────────\n",
    "class NCFDataset(Dataset):\n",
    "    def __init__(self, df, n_books, is_training=True):\n",
    "        self.users = df[\"user_idx\"].values\n",
    "        self.items = df[\"book_idx\"].values\n",
    "        self.n_books = n_books\n",
    "        self.is_training = is_training\n",
    "        if self.is_training:\n",
    "            self.user_item_set = set(zip(self.users, self.items))\n",
    "\n",
    "    def __len__(self):\n",
    "        return len(self.users)\n",
    "\n",
    "    def __getitem__(self, idx):\n",
    "        user = self.users[idx]\n",
    "        item_pos = self.items[idx]\n",
    "        \n",
    "        if self.is_training:\n",
    "            # For every positive sample, create one negative sample\n",
    "            item_neg = np.random.randint(self.n_books)\n",
    "            while (user, item_neg) in self.user_item_set:\n",
    "                item_neg = np.random.randint(self.n_books)\n",
    "            \n",
    "            return (\n",
    "                torch.tensor(user, dtype=torch.long),\n",
    "                torch.tensor([item_pos, item_neg], dtype=torch.long)\n",
    "            )\n",
    "        else:\n",
    "            # For testing, we only need the positive user-item pair\n",
    "            return (\n",
    "                torch.tensor(user, dtype=torch.long),\n",
    "                torch.tensor(item_pos, dtype=torch.long)\n",
    "            )\n",
    "\n",
    "def collate_ncf(batch):\n",
    "    users, items = zip(*batch)\n",
    "    # Stack along a new dimension, then reshape\n",
    "    users = torch.stack(users).repeat_interleave(2) # [u1, u1, u2, u2, ...]\n",
    "    items = torch.stack(items).flatten() # [i1_pos, i1_neg, i2_pos, i2_neg, ...]\n",
    "    # Create labels: 1 for positive, 0 for negative\n",
    "    labels = torch.tensor([1, 0] * (len(batch)), dtype=torch.float32)\n",
    "    return users, items, labels\n",
    "\n",
    "\n",
    "train_ds = NCFDataset(train_df, n_books)\n",
    "train_dl = DataLoader(train_ds, batch_size=BATCH_SIZE // 2, shuffle=True, collate_fn=collate_ncf, num_workers=0)\n",
    "\n",
    "\n",
    "# ─── 6 │ NCF Model Definition ─────────────────────────────────────────\n",
    "class NCF(nn.Module):\n",
    "    def __init__(self, n_users, n_items, emb_dim, mlp_layers):\n",
    "        super().__init__()\n",
    "        # GMF Path\n",
    "        self.gmf_user_embedding = nn.Embedding(n_users, emb_dim)\n",
    "        self.gmf_item_embedding = nn.Embedding(n_items, emb_dim)\n",
    "\n",
    "        # MLP Path\n",
    "        self.mlp_user_embedding = nn.Embedding(n_users, emb_dim)\n",
    "        self.mlp_item_embedding = nn.Embedding(n_items, emb_dim)\n",
    "        \n",
    "        mlp_modules = []\n",
    "        for i in range(len(mlp_layers) - 1):\n",
    "            mlp_modules.append(nn.Linear(mlp_layers[i], mlp_layers[i+1]))\n",
    "            mlp_modules.append(nn.ReLU())\n",
    "        self.mlp = nn.Sequential(*mlp_modules)\n",
    "\n",
    "        # Prediction Layer\n",
    "        # Input size is emb_dim (from GMF) + last mlp_layer size\n",
    "        predict_size = emb_dim + mlp_layers[-1]\n",
    "        self.predict_layer = nn.Linear(predict_size, 1)\n",
    "\n",
    "    def forward(self, user, item):\n",
    "        # GMF Path\n",
    "        gmf_user_emb = self.gmf_user_embedding(user)\n",
    "        gmf_item_emb = self.gmf_item_embedding(item)\n",
    "        gmf_vector = gmf_user_emb * gmf_item_emb\n",
    "\n",
    "        # MLP Path\n",
    "        mlp_user_emb = self.mlp_user_embedding(user)\n",
    "        mlp_item_emb = self.mlp_item_embedding(item)\n",
    "        mlp_input = torch.cat([mlp_user_emb, mlp_item_emb], dim=-1)\n",
    "        mlp_vector = self.mlp(mlp_input)\n",
    "        \n",
    "        # Concatenate GMF and MLP paths\n",
    "        final_vector = torch.cat([gmf_vector, mlp_vector], dim=-1)\n",
    "        \n",
    "        # Final prediction\n",
    "        prediction = self.predict_layer(final_vector)\n",
    "        return prediction.squeeze()\n",
    "\n",
    "model = NCF(n_users, n_books, EMB_DIM, MLP_LAYERS).to(DEVICE)\n",
    "opt = torch.optim.Adam(model.parameters(), lr=LEARNING_RATE, weight_decay=WEIGHT_DECAY)\n",
    "loss_fn = nn.BCEWithLogitsLoss() # Use Binary Cross-Entropy for NCF\n",
    "\n",
    "# ─── 7 │ Evaluation Function ──────────────────────────────────────────\n",
    "def evaluate(model, test_df, train_df, top_k=10, n_neg_samples=100):\n",
    "    model.eval()\n",
    "    train_history = train_df.groupby(\"user_idx\")[\"book_idx\"].apply(set).to_dict()\n",
    "    all_book_indices = np.arange(n_books)\n",
    "\n",
    "    hits = ndcg_sum = total = 0\n",
    "    with torch.no_grad():\n",
    "        for _, row in tqdm(test_df.iterrows(), total=len(test_df), desc=\"Evaluating\", leave=False):\n",
    "            u_idx, pos_b_idx = int(row[\"user_idx\"]), int(row[\"book_idx\"])\n",
    "            seen_books = train_history.get(u_idx, set())\n",
    "            \n",
    "            neg_b_indices = []\n",
    "            while len(neg_b_indices) < n_neg_samples:\n",
    "                samples = np.random.choice(all_book_indices, n_neg_samples)\n",
    "                neg_b_indices.extend([b for b in samples if b != pos_b_idx and b not in seen_books])\n",
    "            neg_b_indices = neg_b_indices[:n_neg_samples]\n",
    "\n",
    "            eval_b_indices = torch.tensor([pos_b_idx] + neg_b_indices, device=DEVICE)\n",
    "            u_tensor = torch.tensor([u_idx] * len(eval_b_indices), device=DEVICE)\n",
    "            scores = model(u_tensor, eval_b_indices).cpu().numpy()\n",
    "\n",
    "            rank = np.sum(scores >= scores[0])\n",
    "            if rank <= top_k:\n",
    "                hits += 1\n",
    "                ndcg_sum += 1 / np.log2(rank + 1)\n",
    "            total += 1\n",
    "\n",
    "    return (hits / total, ndcg_sum / total) if total else (0, 0)\n",
    "\n",
    "# ─── 8 │ Training & Evaluation Loop ──────────────────────────────────\n",
    "loss_hist, recall_hist, ndcg_hist = [], [], []\n",
    "for epoch in trange(EPOCHS, desc=\"Training\"):\n",
    "    model.train()\n",
    "    epoch_loss = 0.0\n",
    "    for users, items, labels in tqdm(train_dl, leave=False, desc=f\"Epoch {epoch+1}\"):\n",
    "        users, items, labels = users.to(DEVICE), items.to(DEVICE), labels.to(DEVICE)\n",
    "        \n",
    "        opt.zero_grad()\n",
    "        predictions = model(users, items)\n",
    "        loss = loss_fn(predictions, labels)\n",
    "        loss.backward()\n",
    "        opt.step()\n",
    "        epoch_loss += loss.item()\n",
    "\n",
    "    recall, ndcg = evaluate(model, test_df, train_df, top_k=10)\n",
    "    loss_hist.append(epoch_loss / len(train_dl))\n",
    "    recall_hist.append(recall)\n",
    "    ndcg_hist.append(ndcg)\n",
    "    print(f\"Epoch {epoch+1:02d} │ Loss: {loss_hist[-1]:.4f} │ Recall@10: {recall:.4f} │ NDCG@10: {ndcg:.4f}\")\n",
    "\n",
    "# ─── 9 │ Plotting Results ─────────────────────────────────────────────\n",
    "window_size = 3\n",
    "recall_ma = pd.Series(recall_hist).rolling(window_size, min_periods=1).mean()\n",
    "ndcg_ma = pd.Series(ndcg_hist).rolling(window_size, min_periods=1).mean()\n",
    "\n",
    "plt.figure(figsize=(15, 4))\n",
    "epochs_range = range(1, EPOCHS + 1)\n",
    "\n",
    "# Loss\n",
    "plt.subplot(1, 3, 1)\n",
    "plt.plot(epochs_range, loss_hist, marker='o', linestyle='-', label='BCE Loss')\n",
    "plt.title(\"NCF Training Loss\")\n",
    "plt.xlabel(\"Epoch\"); plt.ylabel(\"Loss\")\n",
    "plt.legend()\n",
    "\n",
    "# Recall@10\n",
    "plt.subplot(1, 3, 2)\n",
    "plt.plot(epochs_range, recall_hist, marker='o', linestyle=':', color='lightgreen', label='Per-Epoch Recall')\n",
    "plt.plot(epochs_range, recall_ma, color='green', label=f'{window_size}-Epoch MA')\n",
    "plt.title(\"Recall@10\")\n",
    "plt.xlabel(\"Epoch\"); plt.ylabel(\"Recall\")\n",
    "plt.legend()\n",
    "\n",
    "# NDCG@10\n",
    "plt.subplot(1, 3, 3)\n",
    "plt.plot(epochs_range, ndcg_hist, marker='o', linestyle=':', color='moccasin', label='Per-Epoch NDCG')\n",
    "plt.plot(epochs_range, ndcg_ma, color='orange', label=f'{window_size}-Epoch MA')\n",
    "plt.title(\"NDCG@10\")\n",
    "plt.xlabel(\"Epoch\"); plt.ylabel(\"NDCG\")\n",
    "plt.legend()\n",
    "\n",
    "plt.tight_layout()\n",
    "plt.show()"
   ]
  },
  {
   "cell_type": "code",
   "execution_count": 3,
   "id": "6f4b8d30",
   "metadata": {},
   "outputs": [
    {
     "data": {
      "application/vnd.jupyter.widget-view+json": {
       "model_id": "cb1f3bfd37be4d99aa7e5b225790a020",
       "version_major": 2,
       "version_minor": 0
      },
      "text/plain": [
       "Training:   0%|          | 0/20 [00:00<?, ?it/s]"
      ]
     },
     "metadata": {},
     "output_type": "display_data"
    },
    {
     "data": {
      "application/vnd.jupyter.widget-view+json": {
       "model_id": "65c5e577fe724fe29df812de79654a46",
       "version_major": 2,
       "version_minor": 0
      },
      "text/plain": [
       "Epoch 1:   0%|          | 0/174 [00:00<?, ?it/s]"
      ]
     },
     "metadata": {},
     "output_type": "display_data"
    },
    {
     "data": {
      "application/vnd.jupyter.widget-view+json": {
       "model_id": "c957c353246b4f6ab75d80c684d31c05",
       "version_major": 2,
       "version_minor": 0
      },
      "text/plain": [
       "Evaluating:   0%|          | 0/2000 [00:00<?, ?it/s]"
      ]
     },
     "metadata": {},
     "output_type": "display_data"
    },
    {
     "name": "stdout",
     "output_type": "stream",
     "text": [
      "Epoch 01 │ Loss: 0.6984 │ Recall@10: 0.1995 │ NDCG@10: 0.1052\n"
     ]
    },
    {
     "data": {
      "application/vnd.jupyter.widget-view+json": {
       "model_id": "8a7c3d78afdf48d68fcfd66c3ab3c2a6",
       "version_major": 2,
       "version_minor": 0
      },
      "text/plain": [
       "Epoch 2:   0%|          | 0/174 [00:00<?, ?it/s]"
      ]
     },
     "metadata": {},
     "output_type": "display_data"
    },
    {
     "data": {
      "application/vnd.jupyter.widget-view+json": {
       "model_id": "258e9c038ebe432c8c08b2d4d161e980",
       "version_major": 2,
       "version_minor": 0
      },
      "text/plain": [
       "Evaluating:   0%|          | 0/2000 [00:00<?, ?it/s]"
      ]
     },
     "metadata": {},
     "output_type": "display_data"
    },
    {
     "name": "stdout",
     "output_type": "stream",
     "text": [
      "Epoch 02 │ Loss: 0.6813 │ Recall@10: 0.3055 │ NDCG@10: 0.2229\n"
     ]
    },
    {
     "data": {
      "application/vnd.jupyter.widget-view+json": {
       "model_id": "6e867c11d5e4482097e5f858cb729a47",
       "version_major": 2,
       "version_minor": 0
      },
      "text/plain": [
       "Epoch 3:   0%|          | 0/174 [00:00<?, ?it/s]"
      ]
     },
     "metadata": {},
     "output_type": "display_data"
    },
    {
     "data": {
      "application/vnd.jupyter.widget-view+json": {
       "model_id": "69a746ac88594a8fae3c62b2bbc30d22",
       "version_major": 2,
       "version_minor": 0
      },
      "text/plain": [
       "Evaluating:   0%|          | 0/2000 [00:00<?, ?it/s]"
      ]
     },
     "metadata": {},
     "output_type": "display_data"
    },
    {
     "name": "stdout",
     "output_type": "stream",
     "text": [
      "Epoch 03 │ Loss: 0.6646 │ Recall@10: 0.3885 │ NDCG@10: 0.2931\n"
     ]
    },
    {
     "data": {
      "application/vnd.jupyter.widget-view+json": {
       "model_id": "72f037766cb64e5b9c3b78890358749f",
       "version_major": 2,
       "version_minor": 0
      },
      "text/plain": [
       "Epoch 4:   0%|          | 0/174 [00:00<?, ?it/s]"
      ]
     },
     "metadata": {},
     "output_type": "display_data"
    },
    {
     "data": {
      "application/vnd.jupyter.widget-view+json": {
       "model_id": "501c4954a4894a6190eaa13e8db5f64f",
       "version_major": 2,
       "version_minor": 0
      },
      "text/plain": [
       "Evaluating:   0%|          | 0/2000 [00:00<?, ?it/s]"
      ]
     },
     "metadata": {},
     "output_type": "display_data"
    },
    {
     "name": "stdout",
     "output_type": "stream",
     "text": [
      "Epoch 04 │ Loss: 0.6516 │ Recall@10: 0.4445 │ NDCG@10: 0.3442\n"
     ]
    },
    {
     "data": {
      "application/vnd.jupyter.widget-view+json": {
       "model_id": "38c80d0069d349baa2f823d753783941",
       "version_major": 2,
       "version_minor": 0
      },
      "text/plain": [
       "Epoch 5:   0%|          | 0/174 [00:00<?, ?it/s]"
      ]
     },
     "metadata": {},
     "output_type": "display_data"
    },
    {
     "data": {
      "application/vnd.jupyter.widget-view+json": {
       "model_id": "52c03fa8729b42d1971106040400c3cc",
       "version_major": 2,
       "version_minor": 0
      },
      "text/plain": [
       "Evaluating:   0%|          | 0/2000 [00:00<?, ?it/s]"
      ]
     },
     "metadata": {},
     "output_type": "display_data"
    },
    {
     "name": "stdout",
     "output_type": "stream",
     "text": [
      "Epoch 05 │ Loss: 0.6415 │ Recall@10: 0.4805 │ NDCG@10: 0.3689\n"
     ]
    },
    {
     "data": {
      "application/vnd.jupyter.widget-view+json": {
       "model_id": "67aad94ca2f54fafb388ecbdcec4e403",
       "version_major": 2,
       "version_minor": 0
      },
      "text/plain": [
       "Epoch 6:   0%|          | 0/174 [00:00<?, ?it/s]"
      ]
     },
     "metadata": {},
     "output_type": "display_data"
    },
    {
     "data": {
      "application/vnd.jupyter.widget-view+json": {
       "model_id": "ba54da2320e54adb8e6b617345895a81",
       "version_major": 2,
       "version_minor": 0
      },
      "text/plain": [
       "Evaluating:   0%|          | 0/2000 [00:00<?, ?it/s]"
      ]
     },
     "metadata": {},
     "output_type": "display_data"
    },
    {
     "name": "stdout",
     "output_type": "stream",
     "text": [
      "Epoch 06 │ Loss: 0.6323 │ Recall@10: 0.5195 │ NDCG@10: 0.3938\n"
     ]
    },
    {
     "data": {
      "application/vnd.jupyter.widget-view+json": {
       "model_id": "fff02718807445459e8d4176db389eaa",
       "version_major": 2,
       "version_minor": 0
      },
      "text/plain": [
       "Epoch 7:   0%|          | 0/174 [00:00<?, ?it/s]"
      ]
     },
     "metadata": {},
     "output_type": "display_data"
    },
    {
     "data": {
      "application/vnd.jupyter.widget-view+json": {
       "model_id": "ae3b85e7c1d84d84bc1bfff203048010",
       "version_major": 2,
       "version_minor": 0
      },
      "text/plain": [
       "Evaluating:   0%|          | 0/2000 [00:00<?, ?it/s]"
      ]
     },
     "metadata": {},
     "output_type": "display_data"
    },
    {
     "name": "stdout",
     "output_type": "stream",
     "text": [
      "Epoch 07 │ Loss: 0.6243 │ Recall@10: 0.5560 │ NDCG@10: 0.4086\n"
     ]
    },
    {
     "data": {
      "application/vnd.jupyter.widget-view+json": {
       "model_id": "aa86dbb151fe4692984101efb15ab885",
       "version_major": 2,
       "version_minor": 0
      },
      "text/plain": [
       "Epoch 8:   0%|          | 0/174 [00:00<?, ?it/s]"
      ]
     },
     "metadata": {},
     "output_type": "display_data"
    },
    {
     "data": {
      "application/vnd.jupyter.widget-view+json": {
       "model_id": "bb1984093dcd4136846d266729cc5a3a",
       "version_major": 2,
       "version_minor": 0
      },
      "text/plain": [
       "Evaluating:   0%|          | 0/2000 [00:00<?, ?it/s]"
      ]
     },
     "metadata": {},
     "output_type": "display_data"
    },
    {
     "name": "stdout",
     "output_type": "stream",
     "text": [
      "Epoch 08 │ Loss: 0.6168 │ Recall@10: 0.5780 │ NDCG@10: 0.4227\n"
     ]
    },
    {
     "data": {
      "application/vnd.jupyter.widget-view+json": {
       "model_id": "0e640eedba52488098c87be735da6975",
       "version_major": 2,
       "version_minor": 0
      },
      "text/plain": [
       "Epoch 9:   0%|          | 0/174 [00:00<?, ?it/s]"
      ]
     },
     "metadata": {},
     "output_type": "display_data"
    },
    {
     "data": {
      "application/vnd.jupyter.widget-view+json": {
       "model_id": "86cc155513c9483dbaac6aaae3219fea",
       "version_major": 2,
       "version_minor": 0
      },
      "text/plain": [
       "Evaluating:   0%|          | 0/2000 [00:00<?, ?it/s]"
      ]
     },
     "metadata": {},
     "output_type": "display_data"
    },
    {
     "name": "stdout",
     "output_type": "stream",
     "text": [
      "Epoch 09 │ Loss: 0.6077 │ Recall@10: 0.6115 │ NDCG@10: 0.4375\n"
     ]
    },
    {
     "data": {
      "application/vnd.jupyter.widget-view+json": {
       "model_id": "1d70f8bb34194f1884d877bb22b1bfdd",
       "version_major": 2,
       "version_minor": 0
      },
      "text/plain": [
       "Epoch 10:   0%|          | 0/174 [00:00<?, ?it/s]"
      ]
     },
     "metadata": {},
     "output_type": "display_data"
    },
    {
     "data": {
      "application/vnd.jupyter.widget-view+json": {
       "model_id": "354c68fed0b54eb68be6985784e92edb",
       "version_major": 2,
       "version_minor": 0
      },
      "text/plain": [
       "Evaluating:   0%|          | 0/2000 [00:00<?, ?it/s]"
      ]
     },
     "metadata": {},
     "output_type": "display_data"
    },
    {
     "name": "stdout",
     "output_type": "stream",
     "text": [
      "Epoch 10 │ Loss: 0.5978 │ Recall@10: 0.6160 │ NDCG@10: 0.4449\n"
     ]
    },
    {
     "data": {
      "application/vnd.jupyter.widget-view+json": {
       "model_id": "3869a16433d64c5294e017281d8e64e9",
       "version_major": 2,
       "version_minor": 0
      },
      "text/plain": [
       "Epoch 11:   0%|          | 0/174 [00:00<?, ?it/s]"
      ]
     },
     "metadata": {},
     "output_type": "display_data"
    },
    {
     "data": {
      "application/vnd.jupyter.widget-view+json": {
       "model_id": "7aae4f09a23c48458c21c6463e16af83",
       "version_major": 2,
       "version_minor": 0
      },
      "text/plain": [
       "Evaluating:   0%|          | 0/2000 [00:00<?, ?it/s]"
      ]
     },
     "metadata": {},
     "output_type": "display_data"
    },
    {
     "name": "stdout",
     "output_type": "stream",
     "text": [
      "Epoch 11 │ Loss: 0.5842 │ Recall@10: 0.6155 │ NDCG@10: 0.4373\n"
     ]
    },
    {
     "data": {
      "application/vnd.jupyter.widget-view+json": {
       "model_id": "5e8068c109284afa99731ab1ed3e14bd",
       "version_major": 2,
       "version_minor": 0
      },
      "text/plain": [
       "Epoch 12:   0%|          | 0/174 [00:00<?, ?it/s]"
      ]
     },
     "metadata": {},
     "output_type": "display_data"
    },
    {
     "data": {
      "application/vnd.jupyter.widget-view+json": {
       "model_id": "58b70e4b176b42309a7ec5b69ee4e42f",
       "version_major": 2,
       "version_minor": 0
      },
      "text/plain": [
       "Evaluating:   0%|          | 0/2000 [00:00<?, ?it/s]"
      ]
     },
     "metadata": {},
     "output_type": "display_data"
    },
    {
     "name": "stdout",
     "output_type": "stream",
     "text": [
      "Epoch 12 │ Loss: 0.5647 │ Recall@10: 0.6285 │ NDCG@10: 0.4436\n"
     ]
    },
    {
     "data": {
      "application/vnd.jupyter.widget-view+json": {
       "model_id": "ff925e7cbe9c4ddead39d5f2b1c92f5c",
       "version_major": 2,
       "version_minor": 0
      },
      "text/plain": [
       "Epoch 13:   0%|          | 0/174 [00:00<?, ?it/s]"
      ]
     },
     "metadata": {},
     "output_type": "display_data"
    },
    {
     "data": {
      "application/vnd.jupyter.widget-view+json": {
       "model_id": "9a9c8ffa0960473e917eb90868d4e3ed",
       "version_major": 2,
       "version_minor": 0
      },
      "text/plain": [
       "Evaluating:   0%|          | 0/2000 [00:00<?, ?it/s]"
      ]
     },
     "metadata": {},
     "output_type": "display_data"
    },
    {
     "name": "stdout",
     "output_type": "stream",
     "text": [
      "Epoch 13 │ Loss: 0.5350 │ Recall@10: 0.6305 │ NDCG@10: 0.4413\n"
     ]
    },
    {
     "data": {
      "application/vnd.jupyter.widget-view+json": {
       "model_id": "6fd604867f5d4ab2bb21135fecf13625",
       "version_major": 2,
       "version_minor": 0
      },
      "text/plain": [
       "Epoch 14:   0%|          | 0/174 [00:00<?, ?it/s]"
      ]
     },
     "metadata": {},
     "output_type": "display_data"
    },
    {
     "data": {
      "application/vnd.jupyter.widget-view+json": {
       "model_id": "92c95b448ead4bff9b70b1ebfb31d12b",
       "version_major": 2,
       "version_minor": 0
      },
      "text/plain": [
       "Evaluating:   0%|          | 0/2000 [00:00<?, ?it/s]"
      ]
     },
     "metadata": {},
     "output_type": "display_data"
    },
    {
     "name": "stdout",
     "output_type": "stream",
     "text": [
      "Epoch 14 │ Loss: 0.4870 │ Recall@10: 0.6215 │ NDCG@10: 0.4288\n"
     ]
    },
    {
     "data": {
      "application/vnd.jupyter.widget-view+json": {
       "model_id": "91c2ca918a2b457aa569b2f386b0ab00",
       "version_major": 2,
       "version_minor": 0
      },
      "text/plain": [
       "Epoch 15:   0%|          | 0/174 [00:00<?, ?it/s]"
      ]
     },
     "metadata": {},
     "output_type": "display_data"
    },
    {
     "data": {
      "application/vnd.jupyter.widget-view+json": {
       "model_id": "77857efec2404410ba84f7685a11a652",
       "version_major": 2,
       "version_minor": 0
      },
      "text/plain": [
       "Evaluating:   0%|          | 0/2000 [00:00<?, ?it/s]"
      ]
     },
     "metadata": {},
     "output_type": "display_data"
    },
    {
     "name": "stdout",
     "output_type": "stream",
     "text": [
      "Epoch 15 │ Loss: 0.4216 │ Recall@10: 0.6210 │ NDCG@10: 0.4322\n"
     ]
    },
    {
     "data": {
      "application/vnd.jupyter.widget-view+json": {
       "model_id": "2dec137949bd40799f61dbeaa28f5634",
       "version_major": 2,
       "version_minor": 0
      },
      "text/plain": [
       "Epoch 16:   0%|          | 0/174 [00:00<?, ?it/s]"
      ]
     },
     "metadata": {},
     "output_type": "display_data"
    },
    {
     "data": {
      "application/vnd.jupyter.widget-view+json": {
       "model_id": "203157e34dc44ddfae7c0a38d7be0c0e",
       "version_major": 2,
       "version_minor": 0
      },
      "text/plain": [
       "Evaluating:   0%|          | 0/2000 [00:00<?, ?it/s]"
      ]
     },
     "metadata": {},
     "output_type": "display_data"
    },
    {
     "name": "stdout",
     "output_type": "stream",
     "text": [
      "Epoch 16 │ Loss: 0.3533 │ Recall@10: 0.6125 │ NDCG@10: 0.4169\n"
     ]
    },
    {
     "data": {
      "application/vnd.jupyter.widget-view+json": {
       "model_id": "1a293d50c2db4b0b9890d9158877fa24",
       "version_major": 2,
       "version_minor": 0
      },
      "text/plain": [
       "Epoch 17:   0%|          | 0/174 [00:00<?, ?it/s]"
      ]
     },
     "metadata": {},
     "output_type": "display_data"
    },
    {
     "data": {
      "application/vnd.jupyter.widget-view+json": {
       "model_id": "6f600bd8aa1040c1b583d997872d150f",
       "version_major": 2,
       "version_minor": 0
      },
      "text/plain": [
       "Evaluating:   0%|          | 0/2000 [00:00<?, ?it/s]"
      ]
     },
     "metadata": {},
     "output_type": "display_data"
    },
    {
     "name": "stdout",
     "output_type": "stream",
     "text": [
      "Epoch 17 │ Loss: 0.2555 │ Recall@10: 0.6170 │ NDCG@10: 0.4248\n"
     ]
    },
    {
     "data": {
      "application/vnd.jupyter.widget-view+json": {
       "model_id": "8d52485be0d3451fafa1a6f2df09d90f",
       "version_major": 2,
       "version_minor": 0
      },
      "text/plain": [
       "Epoch 18:   0%|          | 0/174 [00:00<?, ?it/s]"
      ]
     },
     "metadata": {},
     "output_type": "display_data"
    },
    {
     "data": {
      "application/vnd.jupyter.widget-view+json": {
       "model_id": "6c3f6b91241f42a28d22ddadf0fe5da8",
       "version_major": 2,
       "version_minor": 0
      },
      "text/plain": [
       "Evaluating:   0%|          | 0/2000 [00:00<?, ?it/s]"
      ]
     },
     "metadata": {},
     "output_type": "display_data"
    },
    {
     "name": "stdout",
     "output_type": "stream",
     "text": [
      "Epoch 18 │ Loss: 0.2048 │ Recall@10: 0.6115 │ NDCG@10: 0.4184\n"
     ]
    },
    {
     "data": {
      "application/vnd.jupyter.widget-view+json": {
       "model_id": "ed712fe98981481f96330b4163a598e7",
       "version_major": 2,
       "version_minor": 0
      },
      "text/plain": [
       "Epoch 19:   0%|          | 0/174 [00:00<?, ?it/s]"
      ]
     },
     "metadata": {},
     "output_type": "display_data"
    },
    {
     "data": {
      "application/vnd.jupyter.widget-view+json": {
       "model_id": "dfcf1e805bd7416a99ba4a5feb13d5c8",
       "version_major": 2,
       "version_minor": 0
      },
      "text/plain": [
       "Evaluating:   0%|          | 0/2000 [00:00<?, ?it/s]"
      ]
     },
     "metadata": {},
     "output_type": "display_data"
    },
    {
     "name": "stdout",
     "output_type": "stream",
     "text": [
      "Epoch 19 │ Loss: 0.1766 │ Recall@10: 0.6140 │ NDCG@10: 0.4166\n"
     ]
    },
    {
     "data": {
      "application/vnd.jupyter.widget-view+json": {
       "model_id": "10652b0a82ea4899a6f30d3dd90918c9",
       "version_major": 2,
       "version_minor": 0
      },
      "text/plain": [
       "Epoch 20:   0%|          | 0/174 [00:00<?, ?it/s]"
      ]
     },
     "metadata": {},
     "output_type": "display_data"
    },
    {
     "data": {
      "application/vnd.jupyter.widget-view+json": {
       "model_id": "4952da0f853f45c681129d9f21c2a2e6",
       "version_major": 2,
       "version_minor": 0
      },
      "text/plain": [
       "Evaluating:   0%|          | 0/2000 [00:00<?, ?it/s]"
      ]
     },
     "metadata": {},
     "output_type": "display_data"
    },
    {
     "name": "stdout",
     "output_type": "stream",
     "text": [
      "Epoch 20 │ Loss: 0.1548 │ Recall@10: 0.6105 │ NDCG@10: 0.4183\n"
     ]
    },
    {
     "data": {
      "image/png": "[encoded data removed]",
      "text/plain": [
       "<Figure size 1500x400 with 3 Axes>"
      ]
     },
     "metadata": {},
     "output_type": "display_data"
    }
   ],
   "source": [
    "# ─── 1 │ Imports & Config ─────────────────────────────────────────────\n",
    "import pandas as pd\n",
    "import torch\n",
    "import numpy as np\n",
    "import matplotlib.pyplot as plt\n",
    "from torch.utils.data import Dataset, DataLoader\n",
    "import torch.nn as nn\n",
    "from tqdm.auto import tqdm, trange\n",
    "from torch.optim.lr_scheduler import ReduceLROnPlateau\n",
    "\n",
    "# ---------------- Hyper‑parameters ----------------\n",
    "LIKE_TH = 1\n",
    "EPOCHS = 20 # Increased epochs slightly to give scheduler time to work\n",
    "EMB_DIM = 64\n",
    "# Deeper MLP Layers: added a 32-neuron layer\n",
    "MLP_LAYERS = [EMB_DIM * 2, 256, 128, 64, 32] \n",
    "BATCH_SIZE = 4096\n",
    "LEARNING_RATE = 1e-3\n",
    "WEIGHT_DECAY = 1e-5\n",
    "DEVICE = \"cuda\" if torch.cuda.is_available() else \"cpu\"\n",
    "\n",
    "# ─── 2 │ Load & Filter Ratings ────────────────────────────────────────\n",
    "try:\n",
    "    ratings_raw = pd.read_csv(\"data/Ratings.csv\")\n",
    "except FileNotFoundError:\n",
    "    print(\"Error: 'data/Ratings.csv' not found.\")\n",
    "    exit()\n",
    "\n",
    "ratings_raw = ratings_raw[ratings_raw[\"Book-Rating\"] >= LIKE_TH]\n",
    "\n",
    "# ─── 3 │ Train/Test Split ─────────────────────────────────────────────\n",
    "def train_test_split(df):\n",
    "    df['rank_latest'] = df.groupby(['User-ID'])['Book-Rating'].rank(method='first', ascending=False)\n",
    "    train_df = df[df['rank_latest'] != 1]\n",
    "    test_df = df[df['rank_latest'] == 1]\n",
    "    return train_df.drop(columns='rank_latest'), test_df.drop(columns='rank_latest')\n",
    "\n",
    "train_df, test_df = train_test_split(ratings_raw)\n",
    "\n",
    "# ─── 4 │ Encode IDs ───────────────────────────────────────────────────\n",
    "user2idx = {u: i for i, u in enumerate(train_df[\"User-ID\"].unique())}\n",
    "book2idx = {b: i for i, b in enumerate(train_df[\"ISBN\"].unique())}\n",
    "\n",
    "train_df[\"user_idx\"] = train_df[\"User-ID\"].map(user2idx)\n",
    "train_df[\"book_idx\"] = train_df[\"ISBN\"].map(book2idx)\n",
    "test_df[\"user_idx\"] = test_df[\"User-ID\"].map(user2idx)\n",
    "test_df[\"book_idx\"] = test_df[\"ISBN\"].map(book2idx)\n",
    "\n",
    "test_df = test_df.dropna().astype({\"user_idx\": int, \"book_idx\": int})\n",
    "test_df = test_df.sample(n=min(len(test_df), 2000), random_state=42)\n",
    "\n",
    "n_users, n_books = len(user2idx), len(book2idx)\n",
    "\n",
    "# ─── 5 │ NCF Dataset (Pointwise Labels) ───────────────────────────────\n",
    "class NCFDataset(Dataset):\n",
    "    def __init__(self, df, n_books, is_training=True):\n",
    "        self.users = df[\"user_idx\"].values\n",
    "        self.items = df[\"book_idx\"].values\n",
    "        self.n_books = n_books\n",
    "        self.is_training = is_training\n",
    "        if self.is_training:\n",
    "            self.user_item_set = set(zip(self.users, self.items))\n",
    "\n",
    "    def __len__(self):\n",
    "        return len(self.users)\n",
    "\n",
    "    def __getitem__(self, idx):\n",
    "        user = self.users[idx]\n",
    "        item_pos = self.items[idx]\n",
    "        \n",
    "        if self.is_training:\n",
    "            # For every positive sample, create one negative sample\n",
    "            item_neg = np.random.randint(self.n_books)\n",
    "            while (user, item_neg) in self.user_item_set:\n",
    "                item_neg = np.random.randint(self.n_books)\n",
    "            \n",
    "            return (\n",
    "                torch.tensor(user, dtype=torch.long),\n",
    "                torch.tensor([item_pos, item_neg], dtype=torch.long)\n",
    "            )\n",
    "        else:\n",
    "            # For testing, we only need the positive user-item pair\n",
    "            return (\n",
    "                torch.tensor(user, dtype=torch.long),\n",
    "                torch.tensor(item_pos, dtype=torch.long)\n",
    "            )\n",
    "\n",
    "def collate_ncf(batch):\n",
    "    users, items = zip(*batch)\n",
    "    # Stack along a new dimension, then reshape\n",
    "    users = torch.stack(users).repeat_interleave(2)\n",
    "    items = torch.stack(items).flatten()\n",
    "    # Create labels: 1 for positive, 0 for negative\n",
    "    labels = torch.tensor([1, 0] * (len(batch)), dtype=torch.float32)\n",
    "    return users, items, labels\n",
    "\n",
    "train_ds = NCFDataset(train_df, n_books)\n",
    "train_dl = DataLoader(train_ds, batch_size=BATCH_SIZE // 2, shuffle=True, collate_fn=collate_ncf, num_workers=0)\n",
    "\n",
    "# ─── 6 │ NCF Model Definition ─────────────────────────────────────────\n",
    "class NCF(nn.Module):\n",
    "    def __init__(self, n_users, n_items, emb_dim, mlp_layers):\n",
    "        super().__init__()\n",
    "        self.gmf_user_embedding = nn.Embedding(n_users, emb_dim)\n",
    "        self.gmf_item_embedding = nn.Embedding(n_items, emb_dim)\n",
    "        self.mlp_user_embedding = nn.Embedding(n_users, emb_dim)\n",
    "        self.mlp_item_embedding = nn.Embedding(n_items, emb_dim)\n",
    "        \n",
    "        mlp_modules = []\n",
    "        for i in range(len(mlp_layers) - 1):\n",
    "            mlp_modules.append(nn.Linear(mlp_layers[i], mlp_layers[i+1]))\n",
    "            mlp_modules.append(nn.ReLU())\n",
    "        self.mlp = nn.Sequential(*mlp_modules)\n",
    "\n",
    "        predict_size = emb_dim + mlp_layers[-1]\n",
    "        self.predict_layer = nn.Linear(predict_size, 1)\n",
    "\n",
    "    def forward(self, user, item):\n",
    "        gmf_user_emb = self.gmf_user_embedding(user)\n",
    "        gmf_item_emb = self.gmf_item_embedding(item)\n",
    "        gmf_vector = gmf_user_emb * gmf_item_emb\n",
    "\n",
    "        mlp_user_emb = self.mlp_user_embedding(user)\n",
    "        mlp_item_emb = self.mlp_item_embedding(item)\n",
    "        mlp_input = torch.cat([mlp_user_emb, mlp_item_emb], dim=-1)\n",
    "        mlp_vector = self.mlp(mlp_input)\n",
    "        \n",
    "        final_vector = torch.cat([gmf_vector, mlp_vector], dim=-1)\n",
    "        prediction = self.predict_layer(final_vector)\n",
    "        return prediction.squeeze()\n",
    "\n",
    "model = NCF(n_users, n_books, EMB_DIM, MLP_LAYERS).to(DEVICE)\n",
    "opt = torch.optim.Adam(model.parameters(), lr=LEARNING_RATE, weight_decay=WEIGHT_DECAY)\n",
    "loss_fn = nn.BCEWithLogitsLoss()\n",
    "\n",
    "# Add the learning rate scheduler\n",
    "scheduler = ReduceLROnPlateau(opt, mode='max', factor=0.2, patience=2)\n",
    "\n",
    "# ─── 7 │ Evaluation Function ──────────────────────────────────────────\n",
    "def evaluate(model, test_df, train_df, top_k=10, n_neg_samples=100):\n",
    "    model.eval()\n",
    "    train_history = train_df.groupby(\"user_idx\")[\"book_idx\"].apply(set).to_dict()\n",
    "    all_book_indices = np.arange(n_books)\n",
    "\n",
    "    hits = ndcg_sum = total = 0\n",
    "    with torch.no_grad():\n",
    "        for _, row in tqdm(test_df.iterrows(), total=len(test_df), desc=\"Evaluating\", leave=False):\n",
    "            u_idx, pos_b_idx = int(row[\"user_idx\"]), int(row[\"book_idx\"])\n",
    "            seen_books = train_history.get(u_idx, set())\n",
    "            \n",
    "            neg_b_indices = []\n",
    "            while len(neg_b_indices) < n_neg_samples:\n",
    "                samples = np.random.choice(all_book_indices, n_neg_samples)\n",
    "                neg_b_indices.extend([b for b in samples if b != pos_b_idx and b not in seen_books])\n",
    "            neg_b_indices = neg_b_indices[:n_neg_samples]\n",
    "\n",
    "            eval_b_indices = torch.tensor([pos_b_idx] + neg_b_indices, device=DEVICE)\n",
    "            u_tensor = torch.tensor([u_idx] * len(eval_b_indices), device=DEVICE)\n",
    "            scores = model(u_tensor, eval_b_indices).cpu().numpy()\n",
    "\n",
    "            rank = np.sum(scores >= scores[0])\n",
    "            if rank <= top_k:\n",
    "                hits += 1\n",
    "                ndcg_sum += 1 / np.log2(rank + 1)\n",
    "            total += 1\n",
    "\n",
    "    return (hits / total, ndcg_sum / total) if total else (0, 0)\n",
    "\n",
    "# ─── 8 │ Training & Evaluation Loop ──────────────────────────────────\n",
    "loss_hist, recall_hist, ndcg_hist = [], [], []\n",
    "for epoch in trange(EPOCHS, desc=\"Training\"):\n",
    "    model.train()\n",
    "    epoch_loss = 0.0\n",
    "    for users, items, labels in tqdm(train_dl, leave=False, desc=f\"Epoch {epoch+1}\"):\n",
    "        users, items, labels = users.to(DEVICE), items.to(DEVICE), labels.to(DEVICE)\n",
    "        \n",
    "        opt.zero_grad()\n",
    "        predictions = model(users, items)\n",
    "        loss = loss_fn(predictions, labels)\n",
    "        loss.backward()\n",
    "        opt.step()\n",
    "        epoch_loss += loss.item()\n",
    "\n",
    "    recall, ndcg = evaluate(model, test_df, train_df, top_k=10)\n",
    "    loss_hist.append(epoch_loss / len(train_dl))\n",
    "    recall_hist.append(recall)\n",
    "    ndcg_hist.append(ndcg)\n",
    "    \n",
    "    print(f\"Epoch {epoch+1:02d} │ Loss: {loss_hist[-1]:.4f} │ Recall@10: {recall:.4f} │ NDCG@10: {ndcg:.4f}\")\n",
    "    \n",
    "    # Step the scheduler based on the validation recall\n",
    "    scheduler.step(recall)\n",
    "\n",
    "# ─── 9 │ Plotting Results ─────────────────────────────────────────────\n",
    "window_size = 3\n",
    "recall_ma = pd.Series(recall_hist).rolling(window_size, min_periods=1).mean()\n",
    "ndcg_ma = pd.Series(ndcg_hist).rolling(window_size, min_periods=1).mean()\n",
    "\n",
    "plt.figure(figsize=(15, 4))\n",
    "epochs_range = range(1, EPOCHS + 1)\n",
    "\n",
    "plt.subplot(1, 3, 1)\n",
    "plt.plot(epochs_range, loss_hist, marker='o', linestyle='-', label='BCE Loss')\n",
    "plt.title(\"NCF Training Loss\")\n",
    "plt.xlabel(\"Epoch\"); plt.ylabel(\"Loss\")\n",
    "plt.legend()\n",
    "\n",
    "plt.subplot(1, 3, 2)\n",
    "plt.plot(epochs_range, recall_hist, marker='o', linestyle=':', color='lightgreen', label='Per-Epoch Recall')\n",
    "plt.plot(epochs_range, recall_ma, color='green', label=f'{window_size}-Epoch MA')\n",
    "plt.title(\"Recall@10\")\n",
    "plt.xlabel(\"Epoch\"); plt.ylabel(\"Recall\")\n",
    "plt.legend()\n",
    "\n",
    "plt.subplot(1, 3, 3)\n",
    "plt.plot(epochs_range, ndcg_hist, marker='o', linestyle=':', color='moccasin', label='Per-Epoch NDCG')\n",
    "plt.plot(epochs_range, ndcg_ma, color='orange', label=f'{window_size}-Epoch MA')\n",
    "plt.title(\"NDCG@10\")\n",
    "plt.xlabel(\"Epoch\"); plt.ylabel(\"NDCG\")\n",
    "plt.legend()\n",
    "\n",
    "plt.tight_layout()\n",
    "plt.show()"
   ]
  },
  {
   "cell_type": "code",
   "execution_count": 1,
   "id": "09c99f16",
   "metadata": {},
   "outputs": [
    {
     "data": {
      "application/vnd.jupyter.widget-view+json": {
       "model_id": "73a5e8f264924f91976f3a3f27bc98f0",
       "version_major": 2,
       "version_minor": 0
      },
      "text/plain": [
       "Training:   0%|          | 0/15 [00:00<?, ?it/s]"
      ]
     },
     "metadata": {},
     "output_type": "display_data"
    },
    {
     "data": {
      "application/vnd.jupyter.widget-view+json": {
       "model_id": "9117ab85bb2947448cc21a9e5fd3678c",
       "version_major": 2,
       "version_minor": 0
      },
      "text/plain": [
       "Epoch 1:   0%|          | 0/154 [00:00<?, ?it/s]"
      ]
     },
     "metadata": {},
     "output_type": "display_data"
    },
    {
     "data": {
      "application/vnd.jupyter.widget-view+json": {
       "model_id": "04b5d87b89744b55b2ac00a28f93d7ca",
       "version_major": 2,
       "version_minor": 0
      },
      "text/plain": [
       "Evaluating:   0%|          | 0/2000 [00:00<?, ?it/s]"
      ]
     },
     "metadata": {},
     "output_type": "display_data"
    },
    {
     "name": "stdout",
     "output_type": "stream",
     "text": [
      "Epoch 01 │ Loss: 0.6944 │ Recall@10: 0.1660 │ NDCG@10: 0.0897\n"
     ]
    },
    {
     "data": {
      "application/vnd.jupyter.widget-view+json": {
       "model_id": "842b0a685b6545d5a1b6aa043203e653",
       "version_major": 2,
       "version_minor": 0
      },
      "text/plain": [
       "Epoch 2:   0%|          | 0/154 [00:00<?, ?it/s]"
      ]
     },
     "metadata": {},
     "output_type": "display_data"
    },
    {
     "data": {
      "application/vnd.jupyter.widget-view+json": {
       "model_id": "a69aca60b10a4fbab1fcdaa4d4049e3d",
       "version_major": 2,
       "version_minor": 0
      },
      "text/plain": [
       "Evaluating:   0%|          | 0/2000 [00:00<?, ?it/s]"
      ]
     },
     "metadata": {},
     "output_type": "display_data"
    },
    {
     "name": "stdout",
     "output_type": "stream",
     "text": [
      "Epoch 02 │ Loss: 0.6764 │ Recall@10: 0.2645 │ NDCG@10: 0.1813\n"
     ]
    },
    {
     "data": {
      "application/vnd.jupyter.widget-view+json": {
       "model_id": "20ebf73f9c674a81a9368c91c564804e",
       "version_major": 2,
       "version_minor": 0
      },
      "text/plain": [
       "Epoch 3:   0%|          | 0/154 [00:00<?, ?it/s]"
      ]
     },
     "metadata": {},
     "output_type": "display_data"
    },
    {
     "data": {
      "application/vnd.jupyter.widget-view+json": {
       "model_id": "f26dc4619d8645c5a4d4bc78a9cbbd8d",
       "version_major": 2,
       "version_minor": 0
      },
      "text/plain": [
       "Evaluating:   0%|          | 0/2000 [00:00<?, ?it/s]"
      ]
     },
     "metadata": {},
     "output_type": "display_data"
    },
    {
     "name": "stdout",
     "output_type": "stream",
     "text": [
      "Epoch 03 │ Loss: 0.6517 │ Recall@10: 0.3375 │ NDCG@10: 0.2418\n"
     ]
    },
    {
     "data": {
      "application/vnd.jupyter.widget-view+json": {
       "model_id": "7ac1d38e241a4e5fbd9d57d5f79d9676",
       "version_major": 2,
       "version_minor": 0
      },
      "text/plain": [
       "Epoch 4:   0%|          | 0/154 [00:00<?, ?it/s]"
      ]
     },
     "metadata": {},
     "output_type": "display_data"
    },
    {
     "data": {
      "application/vnd.jupyter.widget-view+json": {
       "model_id": "ac2ca04bbd984359ade62caf8d126a61",
       "version_major": 2,
       "version_minor": 0
      },
      "text/plain": [
       "Evaluating:   0%|          | 0/2000 [00:00<?, ?it/s]"
      ]
     },
     "metadata": {},
     "output_type": "display_data"
    },
    {
     "name": "stdout",
     "output_type": "stream",
     "text": [
      "Epoch 04 │ Loss: 0.6278 │ Recall@10: 0.3940 │ NDCG@10: 0.2988\n"
     ]
    },
    {
     "data": {
      "application/vnd.jupyter.widget-view+json": {
       "model_id": "4edbf039cda5447a9f548fae65f74e0b",
       "version_major": 2,
       "version_minor": 0
      },
      "text/plain": [
       "Epoch 5:   0%|          | 0/154 [00:00<?, ?it/s]"
      ]
     },
     "metadata": {},
     "output_type": "display_data"
    },
    {
     "data": {
      "application/vnd.jupyter.widget-view+json": {
       "model_id": "6324263edc65430890af35012624dd19",
       "version_major": 2,
       "version_minor": 0
      },
      "text/plain": [
       "Evaluating:   0%|          | 0/2000 [00:00<?, ?it/s]"
      ]
     },
     "metadata": {},
     "output_type": "display_data"
    },
    {
     "name": "stdout",
     "output_type": "stream",
     "text": [
      "Epoch 05 │ Loss: 0.6043 │ Recall@10: 0.4295 │ NDCG@10: 0.3344\n"
     ]
    },
    {
     "data": {
      "application/vnd.jupyter.widget-view+json": {
       "model_id": "ff0bd96cc2174f16a13bd294b8758963",
       "version_major": 2,
       "version_minor": 0
      },
      "text/plain": [
       "Epoch 6:   0%|          | 0/154 [00:00<?, ?it/s]"
      ]
     },
     "metadata": {},
     "output_type": "display_data"
    },
    {
     "data": {
      "application/vnd.jupyter.widget-view+json": {
       "model_id": "6e7e0ae48bb144fc95166ffbc6bdbc18",
       "version_major": 2,
       "version_minor": 0
      },
      "text/plain": [
       "Evaluating:   0%|          | 0/2000 [00:00<?, ?it/s]"
      ]
     },
     "metadata": {},
     "output_type": "display_data"
    },
    {
     "name": "stdout",
     "output_type": "stream",
     "text": [
      "Epoch 06 │ Loss: 0.5812 │ Recall@10: 0.4680 │ NDCG@10: 0.3678\n"
     ]
    },
    {
     "data": {
      "application/vnd.jupyter.widget-view+json": {
       "model_id": "9ef57ca9e8c5401f9f81efe68652dcc9",
       "version_major": 2,
       "version_minor": 0
      },
      "text/plain": [
       "Epoch 7:   0%|          | 0/154 [00:00<?, ?it/s]"
      ]
     },
     "metadata": {},
     "output_type": "display_data"
    },
    {
     "data": {
      "application/vnd.jupyter.widget-view+json": {
       "model_id": "af16c3f505544084ae30d84cc06c961f",
       "version_major": 2,
       "version_minor": 0
      },
      "text/plain": [
       "Evaluating:   0%|          | 0/2000 [00:00<?, ?it/s]"
      ]
     },
     "metadata": {},
     "output_type": "display_data"
    },
    {
     "name": "stdout",
     "output_type": "stream",
     "text": [
      "Epoch 07 │ Loss: 0.5550 │ Recall@10: 0.5080 │ NDCG@10: 0.4000\n"
     ]
    },
    {
     "data": {
      "application/vnd.jupyter.widget-view+json": {
       "model_id": "0c23f825f6e248158c33dceb9256376b",
       "version_major": 2,
       "version_minor": 0
      },
      "text/plain": [
       "Epoch 8:   0%|          | 0/154 [00:00<?, ?it/s]"
      ]
     },
     "metadata": {},
     "output_type": "display_data"
    },
    {
     "data": {
      "application/vnd.jupyter.widget-view+json": {
       "model_id": "56e10ef4265e482da04b34f87bf4a4d8",
       "version_major": 2,
       "version_minor": 0
      },
      "text/plain": [
       "Evaluating:   0%|          | 0/2000 [00:00<?, ?it/s]"
      ]
     },
     "metadata": {},
     "output_type": "display_data"
    },
    {
     "name": "stdout",
     "output_type": "stream",
     "text": [
      "Epoch 08 │ Loss: 0.5254 │ Recall@10: 0.5495 │ NDCG@10: 0.4313\n"
     ]
    },
    {
     "data": {
      "application/vnd.jupyter.widget-view+json": {
       "model_id": "ac0614a3d1aa4fefbb24b6fd74fefe90",
       "version_major": 2,
       "version_minor": 0
      },
      "text/plain": [
       "Epoch 9:   0%|          | 0/154 [00:00<?, ?it/s]"
      ]
     },
     "metadata": {},
     "output_type": "display_data"
    },
    {
     "data": {
      "application/vnd.jupyter.widget-view+json": {
       "model_id": "f1985e86f916422e98cc74471de3efdd",
       "version_major": 2,
       "version_minor": 0
      },
      "text/plain": [
       "Evaluating:   0%|          | 0/2000 [00:00<?, ?it/s]"
      ]
     },
     "metadata": {},
     "output_type": "display_data"
    },
    {
     "name": "stdout",
     "output_type": "stream",
     "text": [
      "Epoch 09 │ Loss: 0.4898 │ Recall@10: 0.5875 │ NDCG@10: 0.4586\n"
     ]
    },
    {
     "data": {
      "application/vnd.jupyter.widget-view+json": {
       "model_id": "ca7f0551699445159b9c4038a7947aac",
       "version_major": 2,
       "version_minor": 0
      },
      "text/plain": [
       "Epoch 10:   0%|          | 0/154 [00:00<?, ?it/s]"
      ]
     },
     "metadata": {},
     "output_type": "display_data"
    },
    {
     "data": {
      "application/vnd.jupyter.widget-view+json": {
       "model_id": "c2e9df82a94949e49386dd57f7e5aaf9",
       "version_major": 2,
       "version_minor": 0
      },
      "text/plain": [
       "Evaluating:   0%|          | 0/2000 [00:00<?, ?it/s]"
      ]
     },
     "metadata": {},
     "output_type": "display_data"
    },
    {
     "name": "stdout",
     "output_type": "stream",
     "text": [
      "Epoch 10 │ Loss: 0.4497 │ Recall@10: 0.6150 │ NDCG@10: 0.4840\n"
     ]
    },
    {
     "data": {
      "application/vnd.jupyter.widget-view+json": {
       "model_id": "f0419b09c25c4165add1c91862ea2b12",
       "version_major": 2,
       "version_minor": 0
      },
      "text/plain": [
       "Epoch 11:   0%|          | 0/154 [00:00<?, ?it/s]"
      ]
     },
     "metadata": {},
     "output_type": "display_data"
    },
    {
     "data": {
      "application/vnd.jupyter.widget-view+json": {
       "model_id": "9dd850d4bd454858bdf0bb3a29a813a6",
       "version_major": 2,
       "version_minor": 0
      },
      "text/plain": [
       "Evaluating:   0%|          | 0/2000 [00:00<?, ?it/s]"
      ]
     },
     "metadata": {},
     "output_type": "display_data"
    },
    {
     "name": "stdout",
     "output_type": "stream",
     "text": [
      "Epoch 11 │ Loss: 0.4060 │ Recall@10: 0.6550 │ NDCG@10: 0.5069\n"
     ]
    },
    {
     "data": {
      "application/vnd.jupyter.widget-view+json": {
       "model_id": "8cf7896cefce4d9f95bbb5c61a8378f0",
       "version_major": 2,
       "version_minor": 0
      },
      "text/plain": [
       "Epoch 12:   0%|          | 0/154 [00:00<?, ?it/s]"
      ]
     },
     "metadata": {},
     "output_type": "display_data"
    },
    {
     "data": {
      "application/vnd.jupyter.widget-view+json": {
       "model_id": "41f8552f7b4f4eda8e15d8731223c4e3",
       "version_major": 2,
       "version_minor": 0
      },
      "text/plain": [
       "Evaluating:   0%|          | 0/2000 [00:00<?, ?it/s]"
      ]
     },
     "metadata": {},
     "output_type": "display_data"
    },
    {
     "name": "stdout",
     "output_type": "stream",
     "text": [
      "Epoch 12 │ Loss: 0.3566 │ Recall@10: 0.6780 │ NDCG@10: 0.5318\n"
     ]
    },
    {
     "data": {
      "application/vnd.jupyter.widget-view+json": {
       "model_id": "f47fb898f4d941e182cb284770fefa97",
       "version_major": 2,
       "version_minor": 0
      },
      "text/plain": [
       "Epoch 13:   0%|          | 0/154 [00:00<?, ?it/s]"
      ]
     },
     "metadata": {},
     "output_type": "display_data"
    },
    {
     "data": {
      "application/vnd.jupyter.widget-view+json": {
       "model_id": "a98dcae690a64c58ae3df22138292f39",
       "version_major": 2,
       "version_minor": 0
      },
      "text/plain": [
       "Evaluating:   0%|          | 0/2000 [00:00<?, ?it/s]"
      ]
     },
     "metadata": {},
     "output_type": "display_data"
    },
    {
     "name": "stdout",
     "output_type": "stream",
     "text": [
      "Epoch 13 │ Loss: 0.3073 │ Recall@10: 0.6955 │ NDCG@10: 0.5421\n"
     ]
    },
    {
     "data": {
      "application/vnd.jupyter.widget-view+json": {
       "model_id": "bda06d177e0b44bd83b2546dba77a622",
       "version_major": 2,
       "version_minor": 0
      },
      "text/plain": [
       "Epoch 14:   0%|          | 0/154 [00:00<?, ?it/s]"
      ]
     },
     "metadata": {},
     "output_type": "display_data"
    },
    {
     "data": {
      "application/vnd.jupyter.widget-view+json": {
       "model_id": "9cbc6745fc654a4d9963bc712f67e4f0",
       "version_major": 2,
       "version_minor": 0
      },
      "text/plain": [
       "Evaluating:   0%|          | 0/2000 [00:00<?, ?it/s]"
      ]
     },
     "metadata": {},
     "output_type": "display_data"
    },
    {
     "name": "stdout",
     "output_type": "stream",
     "text": [
      "Epoch 14 │ Loss: 0.2598 │ Recall@10: 0.7160 │ NDCG@10: 0.5509\n"
     ]
    },
    {
     "data": {
      "application/vnd.jupyter.widget-view+json": {
       "model_id": "dbe3e23429e449cf930f87a4a2cd91d4",
       "version_major": 2,
       "version_minor": 0
      },
      "text/plain": [
       "Epoch 15:   0%|          | 0/154 [00:00<?, ?it/s]"
      ]
     },
     "metadata": {},
     "output_type": "display_data"
    },
    {
     "data": {
      "application/vnd.jupyter.widget-view+json": {
       "model_id": "af0722f2e84c473c8987be9abf097528",
       "version_major": 2,
       "version_minor": 0
      },
      "text/plain": [
       "Evaluating:   0%|          | 0/2000 [00:00<?, ?it/s]"
      ]
     },
     "metadata": {},
     "output_type": "display_data"
    },
    {
     "name": "stdout",
     "output_type": "stream",
     "text": [
      "Epoch 15 │ Loss: 0.2216 │ Recall@10: 0.7300 │ NDCG@10: 0.5617\n"
     ]
    },
    {
     "data": {
      "image/png": "[encoded data removed]",
      "text/plain": [
       "<Figure size 1500x400 with 1 Axes>"
      ]
     },
     "metadata": {},
     "output_type": "display_data"
    }
   ],
   "source": [
    "# ─── 1 │ Imports & Config ─────────────────────────────────────────────\n",
    "import pandas as pd\n",
    "import torch\n",
    "import numpy as np\n",
    "import matplotlib.pyplot as plt\n",
    "from torch.utils.data import Dataset, DataLoader\n",
    "import torch.nn as nn\n",
    "from tqdm.auto import tqdm, trange\n",
    "\n",
    "# ---------------- Hyper‑parameters ----------------\n",
    "LIKE_TH = 1\n",
    "EPOCHS = 15\n",
    "# Embedding dimensions for new features\n",
    "AGE_EMB_DIM = 16\n",
    "CLUSTER_EMB_DIM = 16\n",
    "# Base embedding dimension for users and items\n",
    "BASE_EMB_DIM = 64 \n",
    "BATCH_SIZE = 4096\n",
    "LEARNING_RATE = 1e-3\n",
    "WEIGHT_DECAY = 1e-5\n",
    "DEVICE = \"cuda\" if torch.cuda.is_available() else \"cpu\"\n",
    "\n",
    "# ─── 2 │ Load & Preprocess Data ───────────────────────────────────────\n",
    "# Load all datasets\n",
    "try:\n",
    "    ratings_raw = pd.read_csv(\"data/Ratings.csv\")\n",
    "    users_df = pd.read_csv(\"data/Users.csv\")\n",
    "    books_meta_df = pd.read_csv(\"clustered_outputs/clustered_books_metadata.csv\")[['ISBN', 'genre_cluster']]\n",
    "except FileNotFoundError as e:\n",
    "    print(f\"Error loading data files: {e}\")\n",
    "    exit()\n",
    "\n",
    "# Handle User Age: Fill NaN with median and convert to int\n",
    "median_age = users_df['Age'].median()\n",
    "users_df['Age'] = users_df['Age'].fillna(median_age).astype(int)\n",
    "\n",
    "# Merge the datasets into one\n",
    "df = pd.merge(ratings_raw, users_df, on='User-ID')\n",
    "df = pd.merge(df, books_meta_df, on='ISBN')\n",
    "df = df[df[\"Book-Rating\"] >= LIKE_TH]\n",
    "\n",
    "# ─── 3 │ Train/Test Split ─────────────────────────────────────────────\n",
    "df['rank_latest'] = df.groupby(['User-ID'])['Book-Rating'].rank(method='first', ascending=False)\n",
    "train_df = df[df['rank_latest'] != 1]\n",
    "test_df = df[df['rank_latest'] == 1]\n",
    "train_df, test_df = train_df.drop(columns='rank_latest'), test_df.drop(columns='rank_latest')\n",
    "\n",
    "# ─── 4 │ Encode IDs and Features ──────────────────────────────────────\n",
    "user2idx = {u: i for i, u in enumerate(df[\"User-ID\"].unique())}\n",
    "book2idx = {b: i for i, b in enumerate(df[\"ISBN\"].unique())}\n",
    "age2idx = {a: i for i, a in enumerate(df[\"Age\"].unique())}\n",
    "cluster2idx = {c: i for i, c in enumerate(df[\"genre_cluster\"].unique())}\n",
    "\n",
    "# Apply mappings to all dataframes\n",
    "for df_slice in [train_df, test_df]:\n",
    "    df_slice[\"user_idx\"] = df_slice[\"User-ID\"].map(user2idx)\n",
    "    df_slice[\"book_idx\"] = df_slice[\"ISBN\"].map(book2idx)\n",
    "    df_slice[\"age_idx\"] = df_slice[\"Age\"].map(age2idx)\n",
    "    df_slice[\"cluster_idx\"] = df_slice[\"genre_cluster\"].map(cluster2idx)\n",
    "\n",
    "test_df = test_df.dropna().astype({col: int for col in ['user_idx', 'book_idx', 'age_idx', 'cluster_idx']})\n",
    "test_df = test_df.sample(n=min(len(test_df), 2000), random_state=42)\n",
    "\n",
    "n_users = len(user2idx)\n",
    "n_books = len(book2idx)\n",
    "n_ages = len(age2idx)\n",
    "n_clusters = len(cluster2idx)\n",
    "\n",
    "# Define MLP input layer size based on all features\n",
    "MLP_INPUT_DIM = (BASE_EMB_DIM * 2) + AGE_EMB_DIM + CLUSTER_EMB_DIM\n",
    "MLP_LAYERS = [MLP_INPUT_DIM, 256, 128, 64]\n",
    "\n",
    "# ─── 5 │ Dataset with Features ────────────────────────────────────────\n",
    "class NCFDatasetWithFeatures(Dataset):\n",
    "    def __init__(self, df, n_books):\n",
    "        self.users = df[\"user_idx\"].values\n",
    "        self.items = df[\"book_idx\"].values\n",
    "        self.ages = df[\"age_idx\"].values\n",
    "        self.clusters = df[\"cluster_idx\"].values\n",
    "        self.n_books = n_books\n",
    "        self.user_item_set = set(zip(self.users, self.items))\n",
    "\n",
    "    def __len__(self):\n",
    "        return len(self.users)\n",
    "\n",
    "    def __getitem__(self, idx):\n",
    "        user, item_pos, age, cluster = self.users[idx], self.items[idx], self.ages[idx], self.clusters[idx]\n",
    "        item_neg = np.random.randint(self.n_books)\n",
    "        while (user, item_neg) in self.user_item_set:\n",
    "            item_neg = np.random.randint(self.n_books)\n",
    "        return user, item_pos, item_neg, age, cluster\n",
    "\n",
    "def collate_ncf_features(batch):\n",
    "    users, items_pos, items_neg, ages, clusters = zip(*batch)\n",
    "    \n",
    "    users = torch.tensor(users, dtype=torch.long).repeat_interleave(2)\n",
    "    ages = torch.tensor(ages, dtype=torch.long).repeat_interleave(2)\n",
    "    clusters = torch.tensor(clusters, dtype=torch.long).repeat_interleave(2)\n",
    "    \n",
    "    items = torch.stack([torch.tensor(items_pos, dtype=torch.long), torch.tensor(items_neg, dtype=torch.long)], dim=1).flatten()\n",
    "    labels = torch.tensor([1, 0] * len(batch), dtype=torch.float32)\n",
    "    \n",
    "    return users, items, ages, clusters, labels\n",
    "\n",
    "train_ds = NCFDatasetWithFeatures(train_df, n_books)\n",
    "train_dl = DataLoader(train_ds, batch_size=BATCH_SIZE // 2, shuffle=True, collate_fn=collate_ncf_features, num_workers=0)\n",
    "\n",
    "# ─── 6 │ Hybrid NCF Model Definition ──────────────────────────────────\n",
    "class HybridNCF(nn.Module):\n",
    "    def __init__(self):\n",
    "        super().__init__()\n",
    "        # Embeddings for GMF path\n",
    "        self.gmf_user_emb = nn.Embedding(n_users, BASE_EMB_DIM)\n",
    "        self.gmf_item_emb = nn.Embedding(n_books, BASE_EMB_DIM)\n",
    "        \n",
    "        # Embeddings for MLP path\n",
    "        self.mlp_user_emb = nn.Embedding(n_users, BASE_EMB_DIM)\n",
    "        self.mlp_item_emb = nn.Embedding(n_books, BASE_EMB_DIM)\n",
    "        self.mlp_age_emb = nn.Embedding(n_ages, AGE_EMB_DIM)\n",
    "        self.mlp_cluster_emb = nn.Embedding(n_clusters, CLUSTER_EMB_DIM)\n",
    "        \n",
    "        mlp_modules = []\n",
    "        for i in range(len(MLP_LAYERS) - 1):\n",
    "            mlp_modules.append(nn.Linear(MLP_LAYERS[i], MLP_LAYERS[i+1]))\n",
    "            mlp_modules.append(nn.ReLU())\n",
    "        self.mlp = nn.Sequential(*mlp_modules)\n",
    "        \n",
    "        predict_size = BASE_EMB_DIM + MLP_LAYERS[-1]\n",
    "        self.predict_layer = nn.Linear(predict_size, 1)\n",
    "\n",
    "    def forward(self, user, item, age, cluster):\n",
    "        # GMF Path (only user-item interaction)\n",
    "        gmf_vector = self.gmf_user_emb(user) * self.gmf_item_emb(item)\n",
    "        \n",
    "        # MLP Path (user, item, and their features)\n",
    "        mlp_user_vec = self.mlp_user_emb(user)\n",
    "        mlp_item_vec = self.mlp_item_emb(item)\n",
    "        mlp_age_vec = self.mlp_age_emb(age)\n",
    "        mlp_cluster_vec = self.mlp_cluster_emb(cluster)\n",
    "        \n",
    "        mlp_input = torch.cat([mlp_user_vec, mlp_item_vec, mlp_age_vec, mlp_cluster_vec], dim=-1)\n",
    "        mlp_vector = self.mlp(mlp_input)\n",
    "        \n",
    "        final_vector = torch.cat([gmf_vector, mlp_vector], dim=-1)\n",
    "        return self.predict_layer(final_vector).squeeze()\n",
    "\n",
    "model = HybridNCF().to(DEVICE)\n",
    "opt = torch.optim.Adam(model.parameters(), lr=LEARNING_RATE, weight_decay=WEIGHT_DECAY)\n",
    "loss_fn = nn.BCEWithLogitsLoss()\n",
    "\n",
    "# ─── 7 │ Evaluation Function (Updated for Features) ───────────────────\n",
    "def evaluate(model, test_df, train_df, top_k=10, n_neg_samples=100):\n",
    "    model.eval()\n",
    "    train_history = train_df.groupby(\"user_idx\")[\"book_idx\"].apply(set).to_dict()\n",
    "    all_book_indices = np.arange(n_books)\n",
    "\n",
    "    hits = ndcg_sum = total = 0\n",
    "    with torch.no_grad():\n",
    "        for _, row in tqdm(test_df.iterrows(), total=len(test_df), desc=\"Evaluating\", leave=False):\n",
    "            u_idx, pos_b_idx = int(row[\"user_idx\"]), int(row[\"book_idx\"])\n",
    "            age_idx, cluster_idx = int(row[\"age_idx\"]), int(row[\"cluster_idx\"])\n",
    "            seen_books = train_history.get(u_idx, set())\n",
    "            \n",
    "            neg_b_indices = []\n",
    "            while len(neg_b_indices) < n_neg_samples:\n",
    "                samples = np.random.choice(all_book_indices, n_neg_samples)\n",
    "                neg_b_indices.extend([b for b in samples if b != pos_b_idx and b not in seen_books])\n",
    "            neg_b_indices = neg_b_indices[:n_neg_samples]\n",
    "\n",
    "            eval_b_indices = torch.tensor([pos_b_idx] + neg_b_indices, device=DEVICE)\n",
    "            u_tensor = torch.tensor([u_idx] * len(eval_b_indices), device=DEVICE)\n",
    "            age_tensor = torch.tensor([age_idx] * len(eval_b_indices), device=DEVICE)\n",
    "            # For evaluation, we assume the cluster of negative items is unknown or irrelevant, \n",
    "            # so we use the positive item's cluster for all. This is a common simplification.\n",
    "            cluster_tensor = torch.tensor([cluster_idx] * len(eval_b_indices), device=DEVICE)\n",
    "\n",
    "            scores = model(u_tensor, eval_b_indices, age_tensor, cluster_tensor).cpu().numpy()\n",
    "\n",
    "            rank = np.sum(scores >= scores[0])\n",
    "            if rank <= top_k:\n",
    "                hits += 1\n",
    "                ndcg_sum += 1 / np.log2(rank + 1)\n",
    "            total += 1\n",
    "\n",
    "    return (hits / total, ndcg_sum / total) if total else (0, 0)\n",
    "\n",
    "# ─── 8 │ Training & Evaluation Loop ──────────────────────────────────\n",
    "loss_hist, recall_hist, ndcg_hist = [], [], []\n",
    "for epoch in trange(EPOCHS, desc=\"Training\"):\n",
    "    model.train()\n",
    "    epoch_loss = 0.0\n",
    "    for users, items, ages, clusters, labels in tqdm(train_dl, leave=False, desc=f\"Epoch {epoch+1}\"):\n",
    "        users, items, ages, clusters, labels = (t.to(DEVICE) for t in [users, items, ages, clusters, labels])\n",
    "        \n",
    "        opt.zero_grad()\n",
    "        predictions = model(users, items, ages, clusters)\n",
    "        loss = loss_fn(predictions, labels)\n",
    "        loss.backward()\n",
    "        opt.step()\n",
    "        epoch_loss += loss.item()\n",
    "\n",
    "    recall, ndcg = evaluate(model, test_df, train_df, top_k=10)\n",
    "    loss_hist.append(epoch_loss / len(train_dl))\n",
    "    recall_hist.append(recall)\n",
    "    ndcg_hist.append(ndcg)\n",
    "    print(f\"Epoch {epoch+1:02d} │ Loss: {loss_hist[-1]:.4f} │ Recall@10: {recall:.4f} │ NDCG@10: {ndcg:.4f}\")\n",
    "\n",
    "# ─── 9 │ Plotting Results ─────────────────────────────────────────────\n",
    "plt.figure(figsize=(15, 4))\n",
    "epochs_range = range(1, EPOCHS + 1)\n",
    "plt.plot(epochs_range, recall_hist, marker='o', label='Recall@10')\n",
    "plt.plot(epochs_range, ndcg_hist, marker='o', label='NDCG@10')\n",
    "plt.title(\"Evaluation Metrics\")\n",
    "plt.xlabel(\"Epoch\"); plt.ylabel(\"Score\")\n",
    "plt.legend(); plt.grid(True); plt.show()"
   ]
  },
  {
   "cell_type": "code",
   "execution_count": null,
   "id": "45d03f59",
   "metadata": {},
   "outputs": [],
   "source": []
  }
 ],
 "metadata": {
  "kernelspec": {
   "display_name": ".venv (3.13.3)",
   "language": "python",
   "name": "python3"
  },
  "language_info": {
   "codemirror_mode": {
    "name": "ipython",
    "version": 3
   },
   "file_extension": ".py",
   "mimetype": "text/x-python",
   "name": "python",
   "nbconvert_exporter": "python",
   "pygments_lexer": "ipython3",
   "version": "3.13.3"
  }
 },
 "nbformat": 4,
 "nbformat_minor": 5
}
