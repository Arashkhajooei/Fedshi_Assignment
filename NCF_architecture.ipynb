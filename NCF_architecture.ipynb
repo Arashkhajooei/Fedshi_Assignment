{
 "cells": [
  {
   "cell_type": "code",
   "execution_count": 1,
   "id": "9cf7197a",
   "metadata": {},
   "outputs": [
    {
     "data": {
      "application/vnd.jupyter.widget-view+json": {
       "model_id": "2d1eb0d6517a4913875daee37f21910b",
       "version_major": 2,
       "version_minor": 0
      },
      "text/plain": [
       "Training:   0%|          | 0/15 [00:00<?, ?it/s]"
      ]
     },
     "metadata": {},
     "output_type": "display_data"
    },
    {
     "data": {
      "application/vnd.jupyter.widget-view+json": {
       "model_id": "10be06281b644a868a89972a275c75ef",
       "version_major": 2,
       "version_minor": 0
      },
      "text/plain": [
       "Epoch 1:   0%|          | 0/174 [00:00<?, ?it/s]"
      ]
     },
     "metadata": {},
     "output_type": "display_data"
    },
    {
     "data": {
      "application/vnd.jupyter.widget-view+json": {
       "model_id": "31fe29be5fb44939b49e171450ee0c62",
       "version_major": 2,
       "version_minor": 0
      },
      "text/plain": [
       "Evaluating:   0%|          | 0/2000 [00:00<?, ?it/s]"
      ]
     },
     "metadata": {},
     "output_type": "display_data"
    },
    {
     "name": "stdout",
     "output_type": "stream",
     "text": [
      "Epoch 01 │ Loss: 0.6958 │ Recall@10: 0.1665 │ NDCG@10: 0.0895\n"
     ]
    },
    {
     "data": {
      "application/vnd.jupyter.widget-view+json": {
       "model_id": "a380fa5c850c4ffd920521b059ba16d2",
       "version_major": 2,
       "version_minor": 0
      },
      "text/plain": [
       "Epoch 2:   0%|          | 0/174 [00:00<?, ?it/s]"
      ]
     },
     "metadata": {},
     "output_type": "display_data"
    },
    {
     "data": {
      "application/vnd.jupyter.widget-view+json": {
       "model_id": "b5affc5bbb784792a69a1a5b95b4b181",
       "version_major": 2,
       "version_minor": 0
      },
      "text/plain": [
       "Evaluating:   0%|          | 0/2000 [00:00<?, ?it/s]"
      ]
     },
     "metadata": {},
     "output_type": "display_data"
    },
    {
     "name": "stdout",
     "output_type": "stream",
     "text": [
      "Epoch 02 │ Loss: 0.6844 │ Recall@10: 0.2710 │ NDCG@10: 0.1856\n"
     ]
    },
    {
     "data": {
      "application/vnd.jupyter.widget-view+json": {
       "model_id": "f7942dc0e0724d378a4f939c5430e30a",
       "version_major": 2,
       "version_minor": 0
      },
      "text/plain": [
       "Epoch 3:   0%|          | 0/174 [00:00<?, ?it/s]"
      ]
     },
     "metadata": {},
     "output_type": "display_data"
    },
    {
     "data": {
      "application/vnd.jupyter.widget-view+json": {
       "model_id": "d8265d8f8b48497d9a84a203297f764a",
       "version_major": 2,
       "version_minor": 0
      },
      "text/plain": [
       "Evaluating:   0%|          | 0/2000 [00:00<?, ?it/s]"
      ]
     },
     "metadata": {},
     "output_type": "display_data"
    },
    {
     "name": "stdout",
     "output_type": "stream",
     "text": [
      "Epoch 03 │ Loss: 0.6688 │ Recall@10: 0.3700 │ NDCG@10: 0.2806\n"
     ]
    },
    {
     "data": {
      "application/vnd.jupyter.widget-view+json": {
       "model_id": "06d7cbbd6bae4711bb36652abd78e6dd",
       "version_major": 2,
       "version_minor": 0
      },
      "text/plain": [
       "Epoch 4:   0%|          | 0/174 [00:00<?, ?it/s]"
      ]
     },
     "metadata": {},
     "output_type": "display_data"
    },
    {
     "data": {
      "application/vnd.jupyter.widget-view+json": {
       "model_id": "5ef20200f93e431e8f55737e8a0453e4",
       "version_major": 2,
       "version_minor": 0
      },
      "text/plain": [
       "Evaluating:   0%|          | 0/2000 [00:00<?, ?it/s]"
      ]
     },
     "metadata": {},
     "output_type": "display_data"
    },
    {
     "name": "stdout",
     "output_type": "stream",
     "text": [
      "Epoch 04 │ Loss: 0.6540 │ Recall@10: 0.4240 │ NDCG@10: 0.3280\n"
     ]
    },
    {
     "data": {
      "application/vnd.jupyter.widget-view+json": {
       "model_id": "40ab4e18e69d4f5d9333416febf9aa93",
       "version_major": 2,
       "version_minor": 0
      },
      "text/plain": [
       "Epoch 5:   0%|          | 0/174 [00:00<?, ?it/s]"
      ]
     },
     "metadata": {},
     "output_type": "display_data"
    },
    {
     "data": {
      "application/vnd.jupyter.widget-view+json": {
       "model_id": "0c80165acf6045db8cf331be9feb031f",
       "version_major": 2,
       "version_minor": 0
      },
      "text/plain": [
       "Evaluating:   0%|          | 0/2000 [00:00<?, ?it/s]"
      ]
     },
     "metadata": {},
     "output_type": "display_data"
    },
    {
     "name": "stdout",
     "output_type": "stream",
     "text": [
      "Epoch 05 │ Loss: 0.6424 │ Recall@10: 0.4745 │ NDCG@10: 0.3650\n"
     ]
    },
    {
     "data": {
      "application/vnd.jupyter.widget-view+json": {
       "model_id": "de3e0759701b46a692767423110df29f",
       "version_major": 2,
       "version_minor": 0
      },
      "text/plain": [
       "Epoch 6:   0%|          | 0/174 [00:00<?, ?it/s]"
      ]
     },
     "metadata": {},
     "output_type": "display_data"
    },
    {
     "data": {
      "application/vnd.jupyter.widget-view+json": {
       "model_id": "7fa2779286ad4b269859f0cd00426587",
       "version_major": 2,
       "version_minor": 0
      },
      "text/plain": [
       "Evaluating:   0%|          | 0/2000 [00:00<?, ?it/s]"
      ]
     },
     "metadata": {},
     "output_type": "display_data"
    },
    {
     "name": "stdout",
     "output_type": "stream",
     "text": [
      "Epoch 06 │ Loss: 0.6316 │ Recall@10: 0.5150 │ NDCG@10: 0.3952\n"
     ]
    },
    {
     "data": {
      "application/vnd.jupyter.widget-view+json": {
       "model_id": "90dd23c943cd44aaaa82a62f38e32f1b",
       "version_major": 2,
       "version_minor": 0
      },
      "text/plain": [
       "Epoch 7:   0%|          | 0/174 [00:00<?, ?it/s]"
      ]
     },
     "metadata": {},
     "output_type": "display_data"
    },
    {
     "data": {
      "application/vnd.jupyter.widget-view+json": {
       "model_id": "0de40633b50b400c8633298fe42cba30",
       "version_major": 2,
       "version_minor": 0
      },
      "text/plain": [
       "Evaluating:   0%|          | 0/2000 [00:00<?, ?it/s]"
      ]
     },
     "metadata": {},
     "output_type": "display_data"
    },
    {
     "name": "stdout",
     "output_type": "stream",
     "text": [
      "Epoch 07 │ Loss: 0.6220 │ Recall@10: 0.5445 │ NDCG@10: 0.4082\n"
     ]
    },
    {
     "data": {
      "application/vnd.jupyter.widget-view+json": {
       "model_id": "c26c29407a13422aae859c1d4d8208b2",
       "version_major": 2,
       "version_minor": 0
      },
      "text/plain": [
       "Epoch 8:   0%|          | 0/174 [00:00<?, ?it/s]"
      ]
     },
     "metadata": {},
     "output_type": "display_data"
    },
    {
     "data": {
      "application/vnd.jupyter.widget-view+json": {
       "model_id": "41520118b059413fb8445dc950c56f12",
       "version_major": 2,
       "version_minor": 0
      },
      "text/plain": [
       "Evaluating:   0%|          | 0/2000 [00:00<?, ?it/s]"
      ]
     },
     "metadata": {},
     "output_type": "display_data"
    },
    {
     "name": "stdout",
     "output_type": "stream",
     "text": [
      "Epoch 08 │ Loss: 0.6135 │ Recall@10: 0.5790 │ NDCG@10: 0.4219\n"
     ]
    },
    {
     "data": {
      "application/vnd.jupyter.widget-view+json": {
       "model_id": "9cad5b1908354466a230da7282108b68",
       "version_major": 2,
       "version_minor": 0
      },
      "text/plain": [
       "Epoch 9:   0%|          | 0/174 [00:00<?, ?it/s]"
      ]
     },
     "metadata": {},
     "output_type": "display_data"
    },
    {
     "data": {
      "application/vnd.jupyter.widget-view+json": {
       "model_id": "88b44f8e09c9410e8fb51e1d5cdb875f",
       "version_major": 2,
       "version_minor": 0
      },
      "text/plain": [
       "Evaluating:   0%|          | 0/2000 [00:00<?, ?it/s]"
      ]
     },
     "metadata": {},
     "output_type": "display_data"
    },
    {
     "name": "stdout",
     "output_type": "stream",
     "text": [
      "Epoch 09 │ Loss: 0.6035 │ Recall@10: 0.6000 │ NDCG@10: 0.4292\n"
     ]
    },
    {
     "data": {
      "application/vnd.jupyter.widget-view+json": {
       "model_id": "cecc8f2ff02c47029b2f05fdacc68067",
       "version_major": 2,
       "version_minor": 0
      },
      "text/plain": [
       "Epoch 10:   0%|          | 0/174 [00:00<?, ?it/s]"
      ]
     },
     "metadata": {},
     "output_type": "display_data"
    },
    {
     "data": {
      "application/vnd.jupyter.widget-view+json": {
       "model_id": "60391cf28c8645f18db6f7be96dd2205",
       "version_major": 2,
       "version_minor": 0
      },
      "text/plain": [
       "Evaluating:   0%|          | 0/2000 [00:00<?, ?it/s]"
      ]
     },
     "metadata": {},
     "output_type": "display_data"
    },
    {
     "name": "stdout",
     "output_type": "stream",
     "text": [
      "Epoch 10 │ Loss: 0.5909 │ Recall@10: 0.6230 │ NDCG@10: 0.4440\n"
     ]
    },
    {
     "data": {
      "application/vnd.jupyter.widget-view+json": {
       "model_id": "0e9cb8d27afc4bc0812b76c390417598",
       "version_major": 2,
       "version_minor": 0
      },
      "text/plain": [
       "Epoch 11:   0%|          | 0/174 [00:00<?, ?it/s]"
      ]
     },
     "metadata": {},
     "output_type": "display_data"
    },
    {
     "data": {
      "application/vnd.jupyter.widget-view+json": {
       "model_id": "666dec536110482a85420fe281e938e4",
       "version_major": 2,
       "version_minor": 0
      },
      "text/plain": [
       "Evaluating:   0%|          | 0/2000 [00:00<?, ?it/s]"
      ]
     },
     "metadata": {},
     "output_type": "display_data"
    },
    {
     "name": "stdout",
     "output_type": "stream",
     "text": [
      "Epoch 11 │ Loss: 0.5726 │ Recall@10: 0.6385 │ NDCG@10: 0.4486\n"
     ]
    },
    {
     "data": {
      "application/vnd.jupyter.widget-view+json": {
       "model_id": "4bb38e35627b4f0aa7d279f585b0beb4",
       "version_major": 2,
       "version_minor": 0
      },
      "text/plain": [
       "Epoch 12:   0%|          | 0/174 [00:00<?, ?it/s]"
      ]
     },
     "metadata": {},
     "output_type": "display_data"
    },
    {
     "data": {
      "application/vnd.jupyter.widget-view+json": {
       "model_id": "fe8e5fb4c54a4b9680be73a7c2c0962d",
       "version_major": 2,
       "version_minor": 0
      },
      "text/plain": [
       "Evaluating:   0%|          | 0/2000 [00:00<?, ?it/s]"
      ]
     },
     "metadata": {},
     "output_type": "display_data"
    },
    {
     "name": "stdout",
     "output_type": "stream",
     "text": [
      "Epoch 12 │ Loss: 0.5465 │ Recall@10: 0.6430 │ NDCG@10: 0.4423\n"
     ]
    },
    {
     "data": {
      "application/vnd.jupyter.widget-view+json": {
       "model_id": "afb656a03bdb440fae46afd4d10ef8a8",
       "version_major": 2,
       "version_minor": 0
      },
      "text/plain": [
       "Epoch 13:   0%|          | 0/174 [00:00<?, ?it/s]"
      ]
     },
     "metadata": {},
     "output_type": "display_data"
    },
    {
     "data": {
      "application/vnd.jupyter.widget-view+json": {
       "model_id": "4f0ceb917bf8416bb38869538250a700",
       "version_major": 2,
       "version_minor": 0
      },
      "text/plain": [
       "Evaluating:   0%|          | 0/2000 [00:00<?, ?it/s]"
      ]
     },
     "metadata": {},
     "output_type": "display_data"
    },
    {
     "name": "stdout",
     "output_type": "stream",
     "text": [
      "Epoch 13 │ Loss: 0.5051 │ Recall@10: 0.6295 │ NDCG@10: 0.4327\n"
     ]
    },
    {
     "data": {
      "application/vnd.jupyter.widget-view+json": {
       "model_id": "c665ce5956044b56b76a86b9acaef60e",
       "version_major": 2,
       "version_minor": 0
      },
      "text/plain": [
       "Epoch 14:   0%|          | 0/174 [00:00<?, ?it/s]"
      ]
     },
     "metadata": {},
     "output_type": "display_data"
    },
    {
     "data": {
      "application/vnd.jupyter.widget-view+json": {
       "model_id": "38cd0336b39d48fabb520f9dc8f81859",
       "version_major": 2,
       "version_minor": 0
      },
      "text/plain": [
       "Evaluating:   0%|          | 0/2000 [00:00<?, ?it/s]"
      ]
     },
     "metadata": {},
     "output_type": "display_data"
    },
    {
     "name": "stdout",
     "output_type": "stream",
     "text": [
      "Epoch 14 │ Loss: 0.4455 │ Recall@10: 0.6110 │ NDCG@10: 0.4227\n"
     ]
    },
    {
     "data": {
      "application/vnd.jupyter.widget-view+json": {
       "model_id": "e92da2bd7e5f46c99352842b2499137f",
       "version_major": 2,
       "version_minor": 0
      },
      "text/plain": [
       "Epoch 15:   0%|          | 0/174 [00:00<?, ?it/s]"
      ]
     },
     "metadata": {},
     "output_type": "display_data"
    },
    {
     "data": {
      "application/vnd.jupyter.widget-view+json": {
       "model_id": "5e004f394ab34300a3a216f808df7ede",
       "version_major": 2,
       "version_minor": 0
      },
      "text/plain": [
       "Evaluating:   0%|          | 0/2000 [00:00<?, ?it/s]"
      ]
     },
     "metadata": {},
     "output_type": "display_data"
    },
    {
     "name": "stdout",
     "output_type": "stream",
     "text": [
      "Epoch 15 │ Loss: 0.3741 │ Recall@10: 0.6085 │ NDCG@10: 0.4165\n"
     ]
    },
    {
     "data": {
      "image/png": "[encoded data removed]",
      "text/plain": [
       "<Figure size 1500x400 with 3 Axes>"
      ]
     },
     "metadata": {},
     "output_type": "display_data"
    }
   ],
   "source": [
    "# ─── 1 │ Imports & Config ─────────────────────────────────────────────\n",
    "import pandas as pd\n",
    "import torch\n",
    "import numpy as np\n",
    "import matplotlib.pyplot as plt\n",
    "from torch.utils.data import Dataset, DataLoader\n",
    "import torch.nn as nn\n",
    "from tqdm.auto import tqdm, trange\n",
    "\n",
    "# ---------------- Hyper‑parameters ----------------\n",
    "LIKE_TH = 1\n",
    "EPOCHS = 15  # NCF often converges faster than BPR\n",
    "EMB_DIM = 64  # Start with a reasonable embedding size for NCF\n",
    "MLP_LAYERS = [EMB_DIM * 2, 256, 128, 64] # Input layer is 2x embedding dim (user+item)\n",
    "BATCH_SIZE = 4096\n",
    "LEARNING_RATE = 1e-3\n",
    "WEIGHT_DECAY = 1e-5\n",
    "DEVICE = \"cuda\" if torch.cuda.is_available() else \"cpu\"\n",
    "\n",
    "# ─── 2 │ Load & Filter Ratings ────────────────────────────────────────\n",
    "try:\n",
    "    ratings_raw = pd.read_csv(\"data/Ratings.csv\")\n",
    "except FileNotFoundError:\n",
    "    print(\"Error: 'data/Ratings.csv' not found.\")\n",
    "    exit()\n",
    "\n",
    "ratings_raw = ratings_raw[ratings_raw[\"Book-Rating\"] >= LIKE_TH]\n",
    "\n",
    "# ─── 3 │ Train/Test Split ─────────────────────────────────────────────\n",
    "def train_test_split(df):\n",
    "    df['rank_latest'] = df.groupby(['User-ID'])['Book-Rating'].rank(method='first', ascending=False)\n",
    "    train_df = df[df['rank_latest'] != 1]\n",
    "    test_df = df[df['rank_latest'] == 1]\n",
    "    return train_df.drop(columns='rank_latest'), test_df.drop(columns='rank_latest')\n",
    "\n",
    "train_df, test_df = train_test_split(ratings_raw)\n",
    "\n",
    "# ─── 4 │ Encode IDs ───────────────────────────────────────────────────\n",
    "user2idx = {u: i for i, u in enumerate(train_df[\"User-ID\"].unique())}\n",
    "book2idx = {b: i for i, b in enumerate(train_df[\"ISBN\"].unique())}\n",
    "\n",
    "train_df[\"user_idx\"] = train_df[\"User-ID\"].map(user2idx)\n",
    "train_df[\"book_idx\"] = train_df[\"ISBN\"].map(book2idx)\n",
    "test_df[\"user_idx\"] = test_df[\"User-ID\"].map(user2idx)\n",
    "test_df[\"book_idx\"] = test_df[\"ISBN\"].map(book2idx)\n",
    "\n",
    "test_df = test_df.dropna().astype({\"user_idx\": int, \"book_idx\": int})\n",
    "test_df = test_df.sample(n=min(len(test_df), 2000), random_state=42)\n",
    "\n",
    "n_users, n_books = len(user2idx), len(book2idx)\n",
    "\n",
    "# ─── 5 │ NCF Dataset (Pointwise Labels) ───────────────────────────────\n",
    "class NCFDataset(Dataset):\n",
    "    def __init__(self, df, n_books, is_training=True):\n",
    "        self.users = df[\"user_idx\"].values\n",
    "        self.items = df[\"book_idx\"].values\n",
    "        self.n_books = n_books\n",
    "        self.is_training = is_training\n",
    "        if self.is_training:\n",
    "            self.user_item_set = set(zip(self.users, self.items))\n",
    "\n",
    "    def __len__(self):\n",
    "        return len(self.users)\n",
    "\n",
    "    def __getitem__(self, idx):\n",
    "        user = self.users[idx]\n",
    "        item_pos = self.items[idx]\n",
    "        \n",
    "        if self.is_training:\n",
    "            # For every positive sample, create one negative sample\n",
    "            item_neg = np.random.randint(self.n_books)\n",
    "            while (user, item_neg) in self.user_item_set:\n",
    "                item_neg = np.random.randint(self.n_books)\n",
    "            \n",
    "            return (\n",
    "                torch.tensor(user, dtype=torch.long),\n",
    "                torch.tensor([item_pos, item_neg], dtype=torch.long)\n",
    "            )\n",
    "        else:\n",
    "            # For testing, we only need the positive user-item pair\n",
    "            return (\n",
    "                torch.tensor(user, dtype=torch.long),\n",
    "                torch.tensor(item_pos, dtype=torch.long)\n",
    "            )\n",
    "\n",
    "def collate_ncf(batch):\n",
    "    users, items = zip(*batch)\n",
    "    # Stack along a new dimension, then reshape\n",
    "    users = torch.stack(users).repeat_interleave(2) # [u1, u1, u2, u2, ...]\n",
    "    items = torch.stack(items).flatten() # [i1_pos, i1_neg, i2_pos, i2_neg, ...]\n",
    "    # Create labels: 1 for positive, 0 for negative\n",
    "    labels = torch.tensor([1, 0] * (len(batch)), dtype=torch.float32)\n",
    "    return users, items, labels\n",
    "\n",
    "\n",
    "train_ds = NCFDataset(train_df, n_books)\n",
    "train_dl = DataLoader(train_ds, batch_size=BATCH_SIZE // 2, shuffle=True, collate_fn=collate_ncf, num_workers=0)\n",
    "\n",
    "\n",
    "# ─── 6 │ NCF Model Definition ─────────────────────────────────────────\n",
    "class NCF(nn.Module):\n",
    "    def __init__(self, n_users, n_items, emb_dim, mlp_layers):\n",
    "        super().__init__()\n",
    "        # GMF Path\n",
    "        self.gmf_user_embedding = nn.Embedding(n_users, emb_dim)\n",
    "        self.gmf_item_embedding = nn.Embedding(n_items, emb_dim)\n",
    "\n",
    "        # MLP Path\n",
    "        self.mlp_user_embedding = nn.Embedding(n_users, emb_dim)\n",
    "        self.mlp_item_embedding = nn.Embedding(n_items, emb_dim)\n",
    "        \n",
    "        mlp_modules = []\n",
    "        for i in range(len(mlp_layers) - 1):\n",
    "            mlp_modules.append(nn.Linear(mlp_layers[i], mlp_layers[i+1]))\n",
    "            mlp_modules.append(nn.ReLU())\n",
    "        self.mlp = nn.Sequential(*mlp_modules)\n",
    "\n",
    "        # Prediction Layer\n",
    "        # Input size is emb_dim (from GMF) + last mlp_layer size\n",
    "        predict_size = emb_dim + mlp_layers[-1]\n",
    "        self.predict_layer = nn.Linear(predict_size, 1)\n",
    "\n",
    "    def forward(self, user, item):\n",
    "        # GMF Path\n",
    "        gmf_user_emb = self.gmf_user_embedding(user)\n",
    "        gmf_item_emb = self.gmf_item_embedding(item)\n",
    "        gmf_vector = gmf_user_emb * gmf_item_emb\n",
    "\n",
    "        # MLP Path\n",
    "        mlp_user_emb = self.mlp_user_embedding(user)\n",
    "        mlp_item_emb = self.mlp_item_embedding(item)\n",
    "        mlp_input = torch.cat([mlp_user_emb, mlp_item_emb], dim=-1)\n",
    "        mlp_vector = self.mlp(mlp_input)\n",
    "        \n",
    "        # Concatenate GMF and MLP paths\n",
    "        final_vector = torch.cat([gmf_vector, mlp_vector], dim=-1)\n",
    "        \n",
    "        # Final prediction\n",
    "        prediction = self.predict_layer(final_vector)\n",
    "        return prediction.squeeze()\n",
    "\n",
    "model = NCF(n_users, n_books, EMB_DIM, MLP_LAYERS).to(DEVICE)\n",
    "opt = torch.optim.Adam(model.parameters(), lr=LEARNING_RATE, weight_decay=WEIGHT_DECAY)\n",
    "loss_fn = nn.BCEWithLogitsLoss() # Use Binary Cross-Entropy for NCF\n",
    "\n",
    "# ─── 7 │ Evaluation Function ──────────────────────────────────────────\n",
    "def evaluate(model, test_df, train_df, top_k=10, n_neg_samples=100):\n",
    "    model.eval()\n",
    "    train_history = train_df.groupby(\"user_idx\")[\"book_idx\"].apply(set).to_dict()\n",
    "    all_book_indices = np.arange(n_books)\n",
    "\n",
    "    hits = ndcg_sum = total = 0\n",
    "    with torch.no_grad():\n",
    "        for _, row in tqdm(test_df.iterrows(), total=len(test_df), desc=\"Evaluating\", leave=False):\n",
    "            u_idx, pos_b_idx = int(row[\"user_idx\"]), int(row[\"book_idx\"])\n",
    "            seen_books = train_history.get(u_idx, set())\n",
    "            \n",
    "            neg_b_indices = []\n",
    "            while len(neg_b_indices) < n_neg_samples:\n",
    "                samples = np.random.choice(all_book_indices, n_neg_samples)\n",
    "                neg_b_indices.extend([b for b in samples if b != pos_b_idx and b not in seen_books])\n",
    "            neg_b_indices = neg_b_indices[:n_neg_samples]\n",
    "\n",
    "            eval_b_indices = torch.tensor([pos_b_idx] + neg_b_indices, device=DEVICE)\n",
    "            u_tensor = torch.tensor([u_idx] * len(eval_b_indices), device=DEVICE)\n",
    "            scores = model(u_tensor, eval_b_indices).cpu().numpy()\n",
    "\n",
    "            rank = np.sum(scores >= scores[0])\n",
    "            if rank <= top_k:\n",
    "                hits += 1\n",
    "                ndcg_sum += 1 / np.log2(rank + 1)\n",
    "            total += 1\n",
    "\n",
    "    return (hits / total, ndcg_sum / total) if total else (0, 0)\n",
    "\n",
    "# ─── 8 │ Training & Evaluation Loop ──────────────────────────────────\n",
    "loss_hist, recall_hist, ndcg_hist = [], [], []\n",
    "for epoch in trange(EPOCHS, desc=\"Training\"):\n",
    "    model.train()\n",
    "    epoch_loss = 0.0\n",
    "    for users, items, labels in tqdm(train_dl, leave=False, desc=f\"Epoch {epoch+1}\"):\n",
    "        users, items, labels = users.to(DEVICE), items.to(DEVICE), labels.to(DEVICE)\n",
    "        \n",
    "        opt.zero_grad()\n",
    "        predictions = model(users, items)\n",
    "        loss = loss_fn(predictions, labels)\n",
    "        loss.backward()\n",
    "        opt.step()\n",
    "        epoch_loss += loss.item()\n",
    "\n",
    "    recall, ndcg = evaluate(model, test_df, train_df, top_k=10)\n",
    "    loss_hist.append(epoch_loss / len(train_dl))\n",
    "    recall_hist.append(recall)\n",
    "    ndcg_hist.append(ndcg)\n",
    "    print(f\"Epoch {epoch+1:02d} │ Loss: {loss_hist[-1]:.4f} │ Recall@10: {recall:.4f} │ NDCG@10: {ndcg:.4f}\")\n",
    "\n",
    "# ─── 9 │ Plotting Results ─────────────────────────────────────────────\n",
    "window_size = 3\n",
    "recall_ma = pd.Series(recall_hist).rolling(window_size, min_periods=1).mean()\n",
    "ndcg_ma = pd.Series(ndcg_hist).rolling(window_size, min_periods=1).mean()\n",
    "\n",
    "plt.figure(figsize=(15, 4))\n",
    "epochs_range = range(1, EPOCHS + 1)\n",
    "\n",
    "# Loss\n",
    "plt.subplot(1, 3, 1)\n",
    "plt.plot(epochs_range, loss_hist, marker='o', linestyle='-', label='BCE Loss')\n",
    "plt.title(\"NCF Training Loss\")\n",
    "plt.xlabel(\"Epoch\"); plt.ylabel(\"Loss\")\n",
    "plt.legend()\n",
    "\n",
    "# Recall@10\n",
    "plt.subplot(1, 3, 2)\n",
    "plt.plot(epochs_range, recall_hist, marker='o', linestyle=':', color='lightgreen', label='Per-Epoch Recall')\n",
    "plt.plot(epochs_range, recall_ma, color='green', label=f'{window_size}-Epoch MA')\n",
    "plt.title(\"Recall@10\")\n",
    "plt.xlabel(\"Epoch\"); plt.ylabel(\"Recall\")\n",
    "plt.legend()\n",
    "\n",
    "# NDCG@10\n",
    "plt.subplot(1, 3, 3)\n",
    "plt.plot(epochs_range, ndcg_hist, marker='o', linestyle=':', color='moccasin', label='Per-Epoch NDCG')\n",
    "plt.plot(epochs_range, ndcg_ma, color='orange', label=f'{window_size}-Epoch MA')\n",
    "plt.title(\"NDCG@10\")\n",
    "plt.xlabel(\"Epoch\"); plt.ylabel(\"NDCG\")\n",
    "plt.legend()\n",
    "\n",
    "plt.tight_layout()\n",
    "plt.show()"
   ]
  },
  {
   "cell_type": "code",
   "execution_count": 3,
   "id": "6f4b8d30",
   "metadata": {},
   "outputs": [
    {
     "data": {
      "application/vnd.jupyter.widget-view+json": {
       "model_id": "cb1f3bfd37be4d99aa7e5b225790a020",
       "version_major": 2,
       "version_minor": 0
      },
      "text/plain": [
       "Training:   0%|          | 0/20 [00:00<?, ?it/s]"
      ]
     },
     "metadata": {},
     "output_type": "display_data"
    },
    {
     "data": {
      "application/vnd.jupyter.widget-view+json": {
       "model_id": "65c5e577fe724fe29df812de79654a46",
       "version_major": 2,
       "version_minor": 0
      },
      "text/plain": [
       "Epoch 1:   0%|          | 0/174 [00:00<?, ?it/s]"
      ]
     },
     "metadata": {},
     "output_type": "display_data"
    },
    {
     "data": {
      "application/vnd.jupyter.widget-view+json": {
       "model_id": "c957c353246b4f6ab75d80c684d31c05",
       "version_major": 2,
       "version_minor": 0
      },
      "text/plain": [
       "Evaluating:   0%|          | 0/2000 [00:00<?, ?it/s]"
      ]
     },
     "metadata": {},
     "output_type": "display_data"
    },
    {
     "name": "stdout",
     "output_type": "stream",
     "text": [
      "Epoch 01 │ Loss: 0.6984 │ Recall@10: 0.1995 │ NDCG@10: 0.1052\n"
     ]
    },
    {
     "data": {
      "application/vnd.jupyter.widget-view+json": {
       "model_id": "8a7c3d78afdf48d68fcfd66c3ab3c2a6",
       "version_major": 2,
       "version_minor": 0
      },
      "text/plain": [
       "Epoch 2:   0%|          | 0/174 [00:00<?, ?it/s]"
      ]
     },
     "metadata": {},
     "output_type": "display_data"
    },
    {
     "data": {
      "application/vnd.jupyter.widget-view+json": {
       "model_id": "258e9c038ebe432c8c08b2d4d161e980",
       "version_major": 2,
       "version_minor": 0
      },
      "text/plain": [
       "Evaluating:   0%|          | 0/2000 [00:00<?, ?it/s]"
      ]
     },
     "metadata": {},
     "output_type": "display_data"
    },
    {
     "name": "stdout",
     "output_type": "stream",
     "text": [
      "Epoch 02 │ Loss: 0.6813 │ Recall@10: 0.3055 │ NDCG@10: 0.2229\n"
     ]
    },
    {
     "data": {
      "application/vnd.jupyter.widget-view+json": {
       "model_id": "6e867c11d5e4482097e5f858cb729a47",
       "version_major": 2,
       "version_minor": 0
      },
      "text/plain": [
       "Epoch 3:   0%|          | 0/174 [00:00<?, ?it/s]"
      ]
     },
     "metadata": {},
     "output_type": "display_data"
    },
    {
     "data": {
      "application/vnd.jupyter.widget-view+json": {
       "model_id": "69a746ac88594a8fae3c62b2bbc30d22",
       "version_major": 2,
       "version_minor": 0
      },
      "text/plain": [
       "Evaluating:   0%|          | 0/2000 [00:00<?, ?it/s]"
      ]
     },
     "metadata": {},
     "output_type": "display_data"
    },
    {
     "name": "stdout",
     "output_type": "stream",
     "text": [
      "Epoch 03 │ Loss: 0.6646 │ Recall@10: 0.3885 │ NDCG@10: 0.2931\n"
     ]
    },
    {
     "data": {
      "application/vnd.jupyter.widget-view+json": {
       "model_id": "72f037766cb64e5b9c3b78890358749f",
       "version_major": 2,
       "version_minor": 0
      },
      "text/plain": [
       "Epoch 4:   0%|          | 0/174 [00:00<?, ?it/s]"
      ]
     },
     "metadata": {},
     "output_type": "display_data"
    },
    {
     "data": {
      "application/vnd.jupyter.widget-view+json": {
       "model_id": "501c4954a4894a6190eaa13e8db5f64f",
       "version_major": 2,
       "version_minor": 0
      },
      "text/plain": [
       "Evaluating:   0%|          | 0/2000 [00:00<?, ?it/s]"
      ]
     },
     "metadata": {},
     "output_type": "display_data"
    },
    {
     "name": "stdout",
     "output_type": "stream",
     "text": [
      "Epoch 04 │ Loss: 0.6516 │ Recall@10: 0.4445 │ NDCG@10: 0.3442\n"
     ]
    },
    {
     "data": {
      "application/vnd.jupyter.widget-view+json": {
       "model_id": "38c80d0069d349baa2f823d753783941",
       "version_major": 2,
       "version_minor": 0
      },
      "text/plain": [
       "Epoch 5:   0%|          | 0/174 [00:00<?, ?it/s]"
      ]
     },
     "metadata": {},
     "output_type": "display_data"
    },
    {
     "data": {
      "application/vnd.jupyter.widget-view+json": {
       "model_id": "52c03fa8729b42d1971106040400c3cc",
       "version_major": 2,
       "version_minor": 0
      },
      "text/plain": [
       "Evaluating:   0%|          | 0/2000 [00:00<?, ?it/s]"
      ]
     },
     "metadata": {},
     "output_type": "display_data"
    },
    {
     "name": "stdout",
     "output_type": "stream",
     "text": [
      "Epoch 05 │ Loss: 0.6415 │ Recall@10: 0.4805 │ NDCG@10: 0.3689\n"
     ]
    },
    {
     "data": {
      "application/vnd.jupyter.widget-view+json": {
       "model_id": "67aad94ca2f54fafb388ecbdcec4e403",
       "version_major": 2,
       "version_minor": 0
      },
      "text/plain": [
       "Epoch 6:   0%|          | 0/174 [00:00<?, ?it/s]"
      ]
     },
     "metadata": {},
     "output_type": "display_data"
    },
    {
     "data": {
      "application/vnd.jupyter.widget-view+json": {
       "model_id": "ba54da2320e54adb8e6b617345895a81",
       "version_major": 2,
       "version_minor": 0
      },
      "text/plain": [
       "Evaluating:   0%|          | 0/2000 [00:00<?, ?it/s]"
      ]
     },
     "metadata": {},
     "output_type": "display_data"
    },
    {
     "name": "stdout",
     "output_type": "stream",
     "text": [
      "Epoch 06 │ Loss: 0.6323 │ Recall@10: 0.5195 │ NDCG@10: 0.3938\n"
     ]
    },
    {
     "data": {
      "application/vnd.jupyter.widget-view+json": {
       "model_id": "fff02718807445459e8d4176db389eaa",
       "version_major": 2,
       "version_minor": 0
      },
      "text/plain": [
       "Epoch 7:   0%|          | 0/174 [00:00<?, ?it/s]"
      ]
     },
     "metadata": {},
     "output_type": "display_data"
    },
    {
     "data": {
      "application/vnd.jupyter.widget-view+json": {
       "model_id": "ae3b85e7c1d84d84bc1bfff203048010",
       "version_major": 2,
       "version_minor": 0
      },
      "text/plain": [
       "Evaluating:   0%|          | 0/2000 [00:00<?, ?it/s]"
      ]
     },
     "metadata": {},
     "output_type": "display_data"
    },
    {
     "name": "stdout",
     "output_type": "stream",
     "text": [
      "Epoch 07 │ Loss: 0.6243 │ Recall@10: 0.5560 │ NDCG@10: 0.4086\n"
     ]
    },
    {
     "data": {
      "application/vnd.jupyter.widget-view+json": {
       "model_id": "aa86dbb151fe4692984101efb15ab885",
       "version_major": 2,
       "version_minor": 0
      },
      "text/plain": [
       "Epoch 8:   0%|          | 0/174 [00:00<?, ?it/s]"
      ]
     },
     "metadata": {},
     "output_type": "display_data"
    },
    {
     "data": {
      "application/vnd.jupyter.widget-view+json": {
       "model_id": "bb1984093dcd4136846d266729cc5a3a",
       "version_major": 2,
       "version_minor": 0
      },
      "text/plain": [
       "Evaluating:   0%|          | 0/2000 [00:00<?, ?it/s]"
      ]
     },
     "metadata": {},
     "output_type": "display_data"
    },
    {
     "name": "stdout",
     "output_type": "stream",
     "text": [
      "Epoch 08 │ Loss: 0.6168 │ Recall@10: 0.5780 │ NDCG@10: 0.4227\n"
     ]
    },
    {
     "data": {
      "application/vnd.jupyter.widget-view+json": {
       "model_id": "0e640eedba52488098c87be735da6975",
       "version_major": 2,
       "version_minor": 0
      },
      "text/plain": [
       "Epoch 9:   0%|          | 0/174 [00:00<?, ?it/s]"
      ]
     },
     "metadata": {},
     "output_type": "display_data"
    },
    {
     "data": {
      "application/vnd.jupyter.widget-view+json": {
       "model_id": "86cc155513c9483dbaac6aaae3219fea",
       "version_major": 2,
       "version_minor": 0
      },
      "text/plain": [
       "Evaluating:   0%|          | 0/2000 [00:00<?, ?it/s]"
      ]
     },
     "metadata": {},
     "output_type": "display_data"
    },
    {
     "name": "stdout",
     "output_type": "stream",
     "text": [
      "Epoch 09 │ Loss: 0.6077 │ Recall@10: 0.6115 │ NDCG@10: 0.4375\n"
     ]
    },
    {
     "data": {
      "application/vnd.jupyter.widget-view+json": {
       "model_id": "1d70f8bb34194f1884d877bb22b1bfdd",
       "version_major": 2,
       "version_minor": 0
      },
      "text/plain": [
       "Epoch 10:   0%|          | 0/174 [00:00<?, ?it/s]"
      ]
     },
     "metadata": {},
     "output_type": "display_data"
    },
    {
     "data": {
      "application/vnd.jupyter.widget-view+json": {
       "model_id": "354c68fed0b54eb68be6985784e92edb",
       "version_major": 2,
       "version_minor": 0
      },
      "text/plain": [
       "Evaluating:   0%|          | 0/2000 [00:00<?, ?it/s]"
      ]
     },
     "metadata": {},
     "output_type": "display_data"
    },
    {
     "name": "stdout",
     "output_type": "stream",
     "text": [
      "Epoch 10 │ Loss: 0.5978 │ Recall@10: 0.6160 │ NDCG@10: 0.4449\n"
     ]
    },
    {
     "data": {
      "application/vnd.jupyter.widget-view+json": {
       "model_id": "3869a16433d64c5294e017281d8e64e9",
       "version_major": 2,
       "version_minor": 0
      },
      "text/plain": [
       "Epoch 11:   0%|          | 0/174 [00:00<?, ?it/s]"
      ]
     },
     "metadata": {},
     "output_type": "display_data"
    },
    {
     "data": {
      "application/vnd.jupyter.widget-view+json": {
       "model_id": "7aae4f09a23c48458c21c6463e16af83",
       "version_major": 2,
       "version_minor": 0
      },
      "text/plain": [
       "Evaluating:   0%|          | 0/2000 [00:00<?, ?it/s]"
      ]
     },
     "metadata": {},
     "output_type": "display_data"
    },
    {
     "name": "stdout",
     "output_type": "stream",
     "text": [
      "Epoch 11 │ Loss: 0.5842 │ Recall@10: 0.6155 │ NDCG@10: 0.4373\n"
     ]
    },
    {
     "data": {
      "application/vnd.jupyter.widget-view+json": {
       "model_id": "5e8068c109284afa99731ab1ed3e14bd",
       "version_major": 2,
       "version_minor": 0
      },
      "text/plain": [
       "Epoch 12:   0%|          | 0/174 [00:00<?, ?it/s]"
      ]
     },
     "metadata": {},
     "output_type": "display_data"
    },
    {
     "data": {
      "application/vnd.jupyter.widget-view+json": {
       "model_id": "58b70e4b176b42309a7ec5b69ee4e42f",
       "version_major": 2,
       "version_minor": 0
      },
      "text/plain": [
       "Evaluating:   0%|          | 0/2000 [00:00<?, ?it/s]"
      ]
     },
     "metadata": {},
     "output_type": "display_data"
    },
    {
     "name": "stdout",
     "output_type": "stream",
     "text": [
      "Epoch 12 │ Loss: 0.5647 │ Recall@10: 0.6285 │ NDCG@10: 0.4436\n"
     ]
    },
    {
     "data": {
      "application/vnd.jupyter.widget-view+json": {
       "model_id": "ff925e7cbe9c4ddead39d5f2b1c92f5c",
       "version_major": 2,
       "version_minor": 0
      },
      "text/plain": [
       "Epoch 13:   0%|          | 0/174 [00:00<?, ?it/s]"
      ]
     },
     "metadata": {},
     "output_type": "display_data"
    },
    {
     "data": {
      "application/vnd.jupyter.widget-view+json": {
       "model_id": "9a9c8ffa0960473e917eb90868d4e3ed",
       "version_major": 2,
       "version_minor": 0
      },
      "text/plain": [
       "Evaluating:   0%|          | 0/2000 [00:00<?, ?it/s]"
      ]
     },
     "metadata": {},
     "output_type": "display_data"
    },
    {
     "name": "stdout",
     "output_type": "stream",
     "text": [
      "Epoch 13 │ Loss: 0.5350 │ Recall@10: 0.6305 │ NDCG@10: 0.4413\n"
     ]
    },
    {
     "data": {
      "application/vnd.jupyter.widget-view+json": {
       "model_id": "6fd604867f5d4ab2bb21135fecf13625",
       "version_major": 2,
       "version_minor": 0
      },
      "text/plain": [
       "Epoch 14:   0%|          | 0/174 [00:00<?, ?it/s]"
      ]
     },
     "metadata": {},
     "output_type": "display_data"
    },
    {
     "data": {
      "application/vnd.jupyter.widget-view+json": {
       "model_id": "92c95b448ead4bff9b70b1ebfb31d12b",
       "version_major": 2,
       "version_minor": 0
      },
      "text/plain": [
       "Evaluating:   0%|          | 0/2000 [00:00<?, ?it/s]"
      ]
     },
     "metadata": {},
     "output_type": "display_data"
    },
    {
     "name": "stdout",
     "output_type": "stream",
     "text": [
      "Epoch 14 │ Loss: 0.4870 │ Recall@10: 0.6215 │ NDCG@10: 0.4288\n"
     ]
    },
    {
     "data": {
      "application/vnd.jupyter.widget-view+json": {
       "model_id": "91c2ca918a2b457aa569b2f386b0ab00",
       "version_major": 2,
       "version_minor": 0
      },
      "text/plain": [
       "Epoch 15:   0%|          | 0/174 [00:00<?, ?it/s]"
      ]
     },
     "metadata": {},
     "output_type": "display_data"
    },
    {
     "data": {
      "application/vnd.jupyter.widget-view+json": {
       "model_id": "77857efec2404410ba84f7685a11a652",
       "version_major": 2,
       "version_minor": 0
      },
      "text/plain": [
       "Evaluating:   0%|          | 0/2000 [00:00<?, ?it/s]"
      ]
     },
     "metadata": {},
     "output_type": "display_data"
    },
    {
     "name": "stdout",
     "output_type": "stream",
     "text": [
      "Epoch 15 │ Loss: 0.4216 │ Recall@10: 0.6210 │ NDCG@10: 0.4322\n"
     ]
    },
    {
     "data": {
      "application/vnd.jupyter.widget-view+json": {
       "model_id": "2dec137949bd40799f61dbeaa28f5634",
       "version_major": 2,
       "version_minor": 0
      },
      "text/plain": [
       "Epoch 16:   0%|          | 0/174 [00:00<?, ?it/s]"
      ]
     },
     "metadata": {},
     "output_type": "display_data"
    },
    {
     "data": {
      "application/vnd.jupyter.widget-view+json": {
       "model_id": "203157e34dc44ddfae7c0a38d7be0c0e",
       "version_major": 2,
       "version_minor": 0
      },
      "text/plain": [
       "Evaluating:   0%|          | 0/2000 [00:00<?, ?it/s]"
      ]
     },
     "metadata": {},
     "output_type": "display_data"
    },
    {
     "name": "stdout",
     "output_type": "stream",
     "text": [
      "Epoch 16 │ Loss: 0.3533 │ Recall@10: 0.6125 │ NDCG@10: 0.4169\n"
     ]
    },
    {
     "data": {
      "application/vnd.jupyter.widget-view+json": {
       "model_id": "1a293d50c2db4b0b9890d9158877fa24",
       "version_major": 2,
       "version_minor": 0
      },
      "text/plain": [
       "Epoch 17:   0%|          | 0/174 [00:00<?, ?it/s]"
      ]
     },
     "metadata": {},
     "output_type": "display_data"
    },
    {
     "data": {
      "application/vnd.jupyter.widget-view+json": {
       "model_id": "6f600bd8aa1040c1b583d997872d150f",
       "version_major": 2,
       "version_minor": 0
      },
      "text/plain": [
       "Evaluating:   0%|          | 0/2000 [00:00<?, ?it/s]"
      ]
     },
     "metadata": {},
     "output_type": "display_data"
    },
    {
     "name": "stdout",
     "output_type": "stream",
     "text": [
      "Epoch 17 │ Loss: 0.2555 │ Recall@10: 0.6170 │ NDCG@10: 0.4248\n"
     ]
    },
    {
     "data": {
      "application/vnd.jupyter.widget-view+json": {
       "model_id": "8d52485be0d3451fafa1a6f2df09d90f",
       "version_major": 2,
       "version_minor": 0
      },
      "text/plain": [
       "Epoch 18:   0%|          | 0/174 [00:00<?, ?it/s]"
      ]
     },
     "metadata": {},
     "output_type": "display_data"
    },
    {
     "data": {
      "application/vnd.jupyter.widget-view+json": {
       "model_id": "6c3f6b91241f42a28d22ddadf0fe5da8",
       "version_major": 2,
       "version_minor": 0
      },
      "text/plain": [
       "Evaluating:   0%|          | 0/2000 [00:00<?, ?it/s]"
      ]
     },
     "metadata": {},
     "output_type": "display_data"
    },
    {
     "name": "stdout",
     "output_type": "stream",
     "text": [
      "Epoch 18 │ Loss: 0.2048 │ Recall@10: 0.6115 │ NDCG@10: 0.4184\n"
     ]
    },
    {
     "data": {
      "application/vnd.jupyter.widget-view+json": {
       "model_id": "ed712fe98981481f96330b4163a598e7",
       "version_major": 2,
       "version_minor": 0
      },
      "text/plain": [
       "Epoch 19:   0%|          | 0/174 [00:00<?, ?it/s]"
      ]
     },
     "metadata": {},
     "output_type": "display_data"
    },
    {
     "data": {
      "application/vnd.jupyter.widget-view+json": {
       "model_id": "dfcf1e805bd7416a99ba4a5feb13d5c8",
       "version_major": 2,
       "version_minor": 0
      },
      "text/plain": [
       "Evaluating:   0%|          | 0/2000 [00:00<?, ?it/s]"
      ]
     },
     "metadata": {},
     "output_type": "display_data"
    },
    {
     "name": "stdout",
     "output_type": "stream",
     "text": [
      "Epoch 19 │ Loss: 0.1766 │ Recall@10: 0.6140 │ NDCG@10: 0.4166\n"
     ]
    },
    {
     "data": {
      "application/vnd.jupyter.widget-view+json": {
       "model_id": "10652b0a82ea4899a6f30d3dd90918c9",
       "version_major": 2,
       "version_minor": 0
      },
      "text/plain": [
       "Epoch 20:   0%|          | 0/174 [00:00<?, ?it/s]"
      ]
     },
     "metadata": {},
     "output_type": "display_data"
    },
    {
     "data": {
      "application/vnd.jupyter.widget-view+json": {
       "model_id": "4952da0f853f45c681129d9f21c2a2e6",
       "version_major": 2,
       "version_minor": 0
      },
      "text/plain": [
       "Evaluating:   0%|          | 0/2000 [00:00<?, ?it/s]"
      ]
     },
     "metadata": {},
     "output_type": "display_data"
    },
    {
     "name": "stdout",
     "output_type": "stream",
     "text": [
      "Epoch 20 │ Loss: 0.1548 │ Recall@10: 0.6105 │ NDCG@10: 0.4183\n"
     ]
    },
    {
     "data": {
      "image/png": "[encoded data removed]",
      "text/plain": [
       "<Figure size 1500x400 with 3 Axes>"
      ]
     },
     "metadata": {},
     "output_type": "display_data"
    }
   ],
   "source": [
    "# ─── 1 │ Imports & Config ─────────────────────────────────────────────\n",
    "import pandas as pd\n",
    "import torch\n",
    "import numpy as np\n",
    "import matplotlib.pyplot as plt\n",
    "from torch.utils.data import Dataset, DataLoader\n",
    "import torch.nn as nn\n",
    "from tqdm.auto import tqdm, trange\n",
    "from torch.optim.lr_scheduler import ReduceLROnPlateau\n",
    "\n",
    "# ---------------- Hyper‑parameters ----------------\n",
    "LIKE_TH = 1\n",
    "EPOCHS = 20 # Increased epochs slightly to give scheduler time to work\n",
    "EMB_DIM = 64\n",
    "# Deeper MLP Layers: added a 32-neuron layer\n",
    "MLP_LAYERS = [EMB_DIM * 2, 256, 128, 64, 32] \n",
    "BATCH_SIZE = 4096\n",
    "LEARNING_RATE = 1e-3\n",
    "WEIGHT_DECAY = 1e-5\n",
    "DEVICE = \"cuda\" if torch.cuda.is_available() else \"cpu\"\n",
    "\n",
    "# ─── 2 │ Load & Filter Ratings ────────────────────────────────────────\n",
    "try:\n",
    "    ratings_raw = pd.read_csv(\"data/Ratings.csv\")\n",
    "except FileNotFoundError:\n",
    "    print(\"Error: 'data/Ratings.csv' not found.\")\n",
    "    exit()\n",
    "\n",
    "ratings_raw = ratings_raw[ratings_raw[\"Book-Rating\"] >= LIKE_TH]\n",
    "\n",
    "# ─── 3 │ Train/Test Split ─────────────────────────────────────────────\n",
    "def train_test_split(df):\n",
    "    df['rank_latest'] = df.groupby(['User-ID'])['Book-Rating'].rank(method='first', ascending=False)\n",
    "    train_df = df[df['rank_latest'] != 1]\n",
    "    test_df = df[df['rank_latest'] == 1]\n",
    "    return train_df.drop(columns='rank_latest'), test_df.drop(columns='rank_latest')\n",
    "\n",
    "train_df, test_df = train_test_split(ratings_raw)\n",
    "\n",
    "# ─── 4 │ Encode IDs ───────────────────────────────────────────────────\n",
    "user2idx = {u: i for i, u in enumerate(train_df[\"User-ID\"].unique())}\n",
    "book2idx = {b: i for i, b in enumerate(train_df[\"ISBN\"].unique())}\n",
    "\n",
    "train_df[\"user_idx\"] = train_df[\"User-ID\"].map(user2idx)\n",
    "train_df[\"book_idx\"] = train_df[\"ISBN\"].map(book2idx)\n",
    "test_df[\"user_idx\"] = test_df[\"User-ID\"].map(user2idx)\n",
    "test_df[\"book_idx\"] = test_df[\"ISBN\"].map(book2idx)\n",
    "\n",
    "test_df = test_df.dropna().astype({\"user_idx\": int, \"book_idx\": int})\n",
    "test_df = test_df.sample(n=min(len(test_df), 2000), random_state=42)\n",
    "\n",
    "n_users, n_books = len(user2idx), len(book2idx)\n",
    "\n",
    "# ─── 5 │ NCF Dataset (Pointwise Labels) ───────────────────────────────\n",
    "class NCFDataset(Dataset):\n",
    "    def __init__(self, df, n_books, is_training=True):\n",
    "        self.users = df[\"user_idx\"].values\n",
    "        self.items = df[\"book_idx\"].values\n",
    "        self.n_books = n_books\n",
    "        self.is_training = is_training\n",
    "        if self.is_training:\n",
    "            self.user_item_set = set(zip(self.users, self.items))\n",
    "\n",
    "    def __len__(self):\n",
    "        return len(self.users)\n",
    "\n",
    "    def __getitem__(self, idx):\n",
    "        user = self.users[idx]\n",
    "        item_pos = self.items[idx]\n",
    "        \n",
    "        if self.is_training:\n",
    "            # For every positive sample, create one negative sample\n",
    "            item_neg = np.random.randint(self.n_books)\n",
    "            while (user, item_neg) in self.user_item_set:\n",
    "                item_neg = np.random.randint(self.n_books)\n",
    "            \n",
    "            return (\n",
    "                torch.tensor(user, dtype=torch.long),\n",
    "                torch.tensor([item_pos, item_neg], dtype=torch.long)\n",
    "            )\n",
    "        else:\n",
    "            # For testing, we only need the positive user-item pair\n",
    "            return (\n",
    "                torch.tensor(user, dtype=torch.long),\n",
    "                torch.tensor(item_pos, dtype=torch.long)\n",
    "            )\n",
    "\n",
    "def collate_ncf(batch):\n",
    "    users, items = zip(*batch)\n",
    "    # Stack along a new dimension, then reshape\n",
    "    users = torch.stack(users).repeat_interleave(2)\n",
    "    items = torch.stack(items).flatten()\n",
    "    # Create labels: 1 for positive, 0 for negative\n",
    "    labels = torch.tensor([1, 0] * (len(batch)), dtype=torch.float32)\n",
    "    return users, items, labels\n",
    "\n",
    "train_ds = NCFDataset(train_df, n_books)\n",
    "train_dl = DataLoader(train_ds, batch_size=BATCH_SIZE // 2, shuffle=True, collate_fn=collate_ncf, num_workers=0)\n",
    "\n",
    "# ─── 6 │ NCF Model Definition ─────────────────────────────────────────\n",
    "class NCF(nn.Module):\n",
    "    def __init__(self, n_users, n_items, emb_dim, mlp_layers):\n",
    "        super().__init__()\n",
    "        self.gmf_user_embedding = nn.Embedding(n_users, emb_dim)\n",
    "        self.gmf_item_embedding = nn.Embedding(n_items, emb_dim)\n",
    "        self.mlp_user_embedding = nn.Embedding(n_users, emb_dim)\n",
    "        self.mlp_item_embedding = nn.Embedding(n_items, emb_dim)\n",
    "        \n",
    "        mlp_modules = []\n",
    "        for i in range(len(mlp_layers) - 1):\n",
    "            mlp_modules.append(nn.Linear(mlp_layers[i], mlp_layers[i+1]))\n",
    "            mlp_modules.append(nn.ReLU())\n",
    "        self.mlp = nn.Sequential(*mlp_modules)\n",
    "\n",
    "        predict_size = emb_dim + mlp_layers[-1]\n",
    "        self.predict_layer = nn.Linear(predict_size, 1)\n",
    "\n",
    "    def forward(self, user, item):\n",
    "        gmf_user_emb = self.gmf_user_embedding(user)\n",
    "        gmf_item_emb = self.gmf_item_embedding(item)\n",
    "        gmf_vector = gmf_user_emb * gmf_item_emb\n",
    "\n",
    "        mlp_user_emb = self.mlp_user_embedding(user)\n",
    "        mlp_item_emb = self.mlp_item_embedding(item)\n",
    "        mlp_input = torch.cat([mlp_user_emb, mlp_item_emb], dim=-1)\n",
    "        mlp_vector = self.mlp(mlp_input)\n",
    "        \n",
    "        final_vector = torch.cat([gmf_vector, mlp_vector], dim=-1)\n",
    "        prediction = self.predict_layer(final_vector)\n",
    "        return prediction.squeeze()\n",
    "\n",
    "model = NCF(n_users, n_books, EMB_DIM, MLP_LAYERS).to(DEVICE)\n",
    "opt = torch.optim.Adam(model.parameters(), lr=LEARNING_RATE, weight_decay=WEIGHT_DECAY)\n",
    "loss_fn = nn.BCEWithLogitsLoss()\n",
    "\n",
    "# Add the learning rate scheduler\n",
    "scheduler = ReduceLROnPlateau(opt, mode='max', factor=0.2, patience=2)\n",
    "\n",
    "# ─── 7 │ Evaluation Function ──────────────────────────────────────────\n",
    "def evaluate(model, test_df, train_df, top_k=10, n_neg_samples=100):\n",
    "    model.eval()\n",
    "    train_history = train_df.groupby(\"user_idx\")[\"book_idx\"].apply(set).to_dict()\n",
    "    all_book_indices = np.arange(n_books)\n",
    "\n",
    "    hits = ndcg_sum = total = 0\n",
    "    with torch.no_grad():\n",
    "        for _, row in tqdm(test_df.iterrows(), total=len(test_df), desc=\"Evaluating\", leave=False):\n",
    "            u_idx, pos_b_idx = int(row[\"user_idx\"]), int(row[\"book_idx\"])\n",
    "            seen_books = train_history.get(u_idx, set())\n",
    "            \n",
    "            neg_b_indices = []\n",
    "            while len(neg_b_indices) < n_neg_samples:\n",
    "                samples = np.random.choice(all_book_indices, n_neg_samples)\n",
    "                neg_b_indices.extend([b for b in samples if b != pos_b_idx and b not in seen_books])\n",
    "            neg_b_indices = neg_b_indices[:n_neg_samples]\n",
    "\n",
    "            eval_b_indices = torch.tensor([pos_b_idx] + neg_b_indices, device=DEVICE)\n",
    "            u_tensor = torch.tensor([u_idx] * len(eval_b_indices), device=DEVICE)\n",
    "            scores = model(u_tensor, eval_b_indices).cpu().numpy()\n",
    "\n",
    "            rank = np.sum(scores >= scores[0])\n",
    "            if rank <= top_k:\n",
    "                hits += 1\n",
    "                ndcg_sum += 1 / np.log2(rank + 1)\n",
    "            total += 1\n",
    "\n",
    "    return (hits / total, ndcg_sum / total) if total else (0, 0)\n",
    "\n",
    "# ─── 8 │ Training & Evaluation Loop ──────────────────────────────────\n",
    "loss_hist, recall_hist, ndcg_hist = [], [], []\n",
    "for epoch in trange(EPOCHS, desc=\"Training\"):\n",
    "    model.train()\n",
    "    epoch_loss = 0.0\n",
    "    for users, items, labels in tqdm(train_dl, leave=False, desc=f\"Epoch {epoch+1}\"):\n",
    "        users, items, labels = users.to(DEVICE), items.to(DEVICE), labels.to(DEVICE)\n",
    "        \n",
    "        opt.zero_grad()\n",
    "        predictions = model(users, items)\n",
    "        loss = loss_fn(predictions, labels)\n",
    "        loss.backward()\n",
    "        opt.step()\n",
    "        epoch_loss += loss.item()\n",
    "\n",
    "    recall, ndcg = evaluate(model, test_df, train_df, top_k=10)\n",
    "    loss_hist.append(epoch_loss / len(train_dl))\n",
    "    recall_hist.append(recall)\n",
    "    ndcg_hist.append(ndcg)\n",
    "    \n",
    "    print(f\"Epoch {epoch+1:02d} │ Loss: {loss_hist[-1]:.4f} │ Recall@10: {recall:.4f} │ NDCG@10: {ndcg:.4f}\")\n",
    "    \n",
    "    # Step the scheduler based on the validation recall\n",
    "    scheduler.step(recall)\n",
    "\n",
    "# ─── 9 │ Plotting Results ─────────────────────────────────────────────\n",
    "window_size = 3\n",
    "recall_ma = pd.Series(recall_hist).rolling(window_size, min_periods=1).mean()\n",
    "ndcg_ma = pd.Series(ndcg_hist).rolling(window_size, min_periods=1).mean()\n",
    "\n",
    "plt.figure(figsize=(15, 4))\n",
    "epochs_range = range(1, EPOCHS + 1)\n",
    "\n",
    "plt.subplot(1, 3, 1)\n",
    "plt.plot(epochs_range, loss_hist, marker='o', linestyle='-', label='BCE Loss')\n",
    "plt.title(\"NCF Training Loss\")\n",
    "plt.xlabel(\"Epoch\"); plt.ylabel(\"Loss\")\n",
    "plt.legend()\n",
    "\n",
    "plt.subplot(1, 3, 2)\n",
    "plt.plot(epochs_range, recall_hist, marker='o', linestyle=':', color='lightgreen', label='Per-Epoch Recall')\n",
    "plt.plot(epochs_range, recall_ma, color='green', label=f'{window_size}-Epoch MA')\n",
    "plt.title(\"Recall@10\")\n",
    "plt.xlabel(\"Epoch\"); plt.ylabel(\"Recall\")\n",
    "plt.legend()\n",
    "\n",
    "plt.subplot(1, 3, 3)\n",
    "plt.plot(epochs_range, ndcg_hist, marker='o', linestyle=':', color='moccasin', label='Per-Epoch NDCG')\n",
    "plt.plot(epochs_range, ndcg_ma, color='orange', label=f'{window_size}-Epoch MA')\n",
    "plt.title(\"NDCG@10\")\n",
    "plt.xlabel(\"Epoch\"); plt.ylabel(\"NDCG\")\n",
    "plt.legend()\n",
    "\n",
    "plt.tight_layout()\n",
    "plt.show()"
   ]
  },
  {
   "cell_type": "code",
   "execution_count": 1,
   "id": "09c99f16",
   "metadata": {},
   "outputs": [
    {
     "data": {
      "application/vnd.jupyter.widget-view+json": {
       "model_id": "73a5e8f264924f91976f3a3f27bc98f0",
       "version_major": 2,
       "version_minor": 0
      },
      "text/plain": [
       "Training:   0%|          | 0/15 [00:00<?, ?it/s]"
      ]
     },
     "metadata": {},
     "output_type": "display_data"
    },
    {
     "data": {
      "application/vnd.jupyter.widget-view+json": {
       "model_id": "9117ab85bb2947448cc21a9e5fd3678c",
       "version_major": 2,
       "version_minor": 0
      },
      "text/plain": [
       "Epoch 1:   0%|          | 0/154 [00:00<?, ?it/s]"
      ]
     },
     "metadata": {},
     "output_type": "display_data"
    },
    {
     "data": {
      "application/vnd.jupyter.widget-view+json": {
       "model_id": "04b5d87b89744b55b2ac00a28f93d7ca",
       "version_major": 2,
       "version_minor": 0
      },
      "text/plain": [
       "Evaluating:   0%|          | 0/2000 [00:00<?, ?it/s]"
      ]
     },
     "metadata": {},
     "output_type": "display_data"
    },
    {
     "name": "stdout",
     "output_type": "stream",
     "text": [
      "Epoch 01 │ Loss: 0.6944 │ Recall@10: 0.1660 │ NDCG@10: 0.0897\n"
     ]
    },
    {
     "data": {
      "application/vnd.jupyter.widget-view+json": {
       "model_id": "842b0a685b6545d5a1b6aa043203e653",
       "version_major": 2,
       "version_minor": 0
      },
      "text/plain": [
       "Epoch 2:   0%|          | 0/154 [00:00<?, ?it/s]"
      ]
     },
     "metadata": {},
     "output_type": "display_data"
    },
    {
     "data": {
      "application/vnd.jupyter.widget-view+json": {
       "model_id": "a69aca60b10a4fbab1fcdaa4d4049e3d",
       "version_major": 2,
       "version_minor": 0
      },
      "text/plain": [
       "Evaluating:   0%|          | 0/2000 [00:00<?, ?it/s]"
      ]
     },
     "metadata": {},
     "output_type": "display_data"
    },
    {
     "name": "stdout",
     "output_type": "stream",
     "text": [
      "Epoch 02 │ Loss: 0.6764 │ Recall@10: 0.2645 │ NDCG@10: 0.1813\n"
     ]
    },
    {
     "data": {
      "application/vnd.jupyter.widget-view+json": {
       "model_id": "20ebf73f9c674a81a9368c91c564804e",
       "version_major": 2,
       "version_minor": 0
      },
      "text/plain": [
       "Epoch 3:   0%|          | 0/154 [00:00<?, ?it/s]"
      ]
     },
     "metadata": {},
     "output_type": "display_data"
    },
    {
     "data": {
      "application/vnd.jupyter.widget-view+json": {
       "model_id": "f26dc4619d8645c5a4d4bc78a9cbbd8d",
       "version_major": 2,
       "version_minor": 0
      },
      "text/plain": [
       "Evaluating:   0%|          | 0/2000 [00:00<?, ?it/s]"
      ]
     },
     "metadata": {},
     "output_type": "display_data"
    },
    {
     "name": "stdout",
     "output_type": "stream",
     "text": [
      "Epoch 03 │ Loss: 0.6517 │ Recall@10: 0.3375 │ NDCG@10: 0.2418\n"
     ]
    },
    {
     "data": {
      "application/vnd.jupyter.widget-view+json": {
       "model_id": "7ac1d38e241a4e5fbd9d57d5f79d9676",
       "version_major": 2,
       "version_minor": 0
      },
      "text/plain": [
       "Epoch 4:   0%|          | 0/154 [00:00<?, ?it/s]"
      ]
     },
     "metadata": {},
     "output_type": "display_data"
    },
    {
     "data": {
      "application/vnd.jupyter.widget-view+json": {
       "model_id": "ac2ca04bbd984359ade62caf8d126a61",
       "version_major": 2,
       "version_minor": 0
      },
      "text/plain": [
       "Evaluating:   0%|          | 0/2000 [00:00<?, ?it/s]"
      ]
     },
     "metadata": {},
     "output_type": "display_data"
    },
    {
     "name": "stdout",
     "output_type": "stream",
     "text": [
      "Epoch 04 │ Loss: 0.6278 │ Recall@10: 0.3940 │ NDCG@10: 0.2988\n"
     ]
    },
    {
     "data": {
      "application/vnd.jupyter.widget-view+json": {
       "model_id": "4edbf039cda5447a9f548fae65f74e0b",
       "version_major": 2,
       "version_minor": 0
      },
      "text/plain": [
       "Epoch 5:   0%|          | 0/154 [00:00<?, ?it/s]"
      ]
     },
     "metadata": {},
     "output_type": "display_data"
    },
    {
     "data": {
      "application/vnd.jupyter.widget-view+json": {
       "model_id": "6324263edc65430890af35012624dd19",
       "version_major": 2,
       "version_minor": 0
      },
      "text/plain": [
       "Evaluating:   0%|          | 0/2000 [00:00<?, ?it/s]"
      ]
     },
     "metadata": {},
     "output_type": "display_data"
    },
    {
     "name": "stdout",
     "output_type": "stream",
     "text": [
      "Epoch 05 │ Loss: 0.6043 │ Recall@10: 0.4295 │ NDCG@10: 0.3344\n"
     ]
    },
    {
     "data": {
      "application/vnd.jupyter.widget-view+json": {
       "model_id": "ff0bd96cc2174f16a13bd294b8758963",
       "version_major": 2,
       "version_minor": 0
      },
      "text/plain": [
       "Epoch 6:   0%|          | 0/154 [00:00<?, ?it/s]"
      ]
     },
     "metadata": {},
     "output_type": "display_data"
    },
    {
     "data": {
      "application/vnd.jupyter.widget-view+json": {
       "model_id": "6e7e0ae48bb144fc95166ffbc6bdbc18",
       "version_major": 2,
       "version_minor": 0
      },
      "text/plain": [
       "Evaluating:   0%|          | 0/2000 [00:00<?, ?it/s]"
      ]
     },
     "metadata": {},
     "output_type": "display_data"
    },
    {
     "name": "stdout",
     "output_type": "stream",
     "text": [
      "Epoch 06 │ Loss: 0.5812 │ Recall@10: 0.4680 │ NDCG@10: 0.3678\n"
     ]
    },
    {
     "data": {
      "application/vnd.jupyter.widget-view+json": {
       "model_id": "9ef57ca9e8c5401f9f81efe68652dcc9",
       "version_major": 2,
       "version_minor": 0
      },
      "text/plain": [
       "Epoch 7:   0%|          | 0/154 [00:00<?, ?it/s]"
      ]
     },
     "metadata": {},
     "output_type": "display_data"
    },
    {
     "data": {
      "application/vnd.jupyter.widget-view+json": {
       "model_id": "af16c3f505544084ae30d84cc06c961f",
       "version_major": 2,
       "version_minor": 0
      },
      "text/plain": [
       "Evaluating:   0%|          | 0/2000 [00:00<?, ?it/s]"
      ]
     },
     "metadata": {},
     "output_type": "display_data"
    },
    {
     "name": "stdout",
     "output_type": "stream",
     "text": [
      "Epoch 07 │ Loss: 0.5550 │ Recall@10: 0.5080 │ NDCG@10: 0.4000\n"
     ]
    },
    {
     "data": {
      "application/vnd.jupyter.widget-view+json": {
       "model_id": "0c23f825f6e248158c33dceb9256376b",
       "version_major": 2,
       "version_minor": 0
      },
      "text/plain": [
       "Epoch 8:   0%|          | 0/154 [00:00<?, ?it/s]"
      ]
     },
     "metadata": {},
     "output_type": "display_data"
    },
    {
     "data": {
      "application/vnd.jupyter.widget-view+json": {
       "model_id": "56e10ef4265e482da04b34f87bf4a4d8",
       "version_major": 2,
       "version_minor": 0
      },
      "text/plain": [
       "Evaluating:   0%|          | 0/2000 [00:00<?, ?it/s]"
      ]
     },
     "metadata": {},
     "output_type": "display_data"
    },
    {
     "name": "stdout",
     "output_type": "stream",
     "text": [
      "Epoch 08 │ Loss: 0.5254 │ Recall@10: 0.5495 │ NDCG@10: 0.4313\n"
     ]
    },
    {
     "data": {
      "application/vnd.jupyter.widget-view+json": {
       "model_id": "ac0614a3d1aa4fefbb24b6fd74fefe90",
       "version_major": 2,
       "version_minor": 0
      },
      "text/plain": [
       "Epoch 9:   0%|          | 0/154 [00:00<?, ?it/s]"
      ]
     },
     "metadata": {},
     "output_type": "display_data"
    },
    {
     "data": {
      "application/vnd.jupyter.widget-view+json": {
       "model_id": "f1985e86f916422e98cc74471de3efdd",
       "version_major": 2,
       "version_minor": 0
      },
      "text/plain": [
       "Evaluating:   0%|          | 0/2000 [00:00<?, ?it/s]"
      ]
     },
     "metadata": {},
     "output_type": "display_data"
    },
    {
     "name": "stdout",
     "output_type": "stream",
     "text": [
      "Epoch 09 │ Loss: 0.4898 │ Recall@10: 0.5875 │ NDCG@10: 0.4586\n"
     ]
    },
    {
     "data": {
      "application/vnd.jupyter.widget-view+json": {
       "model_id": "ca7f0551699445159b9c4038a7947aac",
       "version_major": 2,
       "version_minor": 0
      },
      "text/plain": [
       "Epoch 10:   0%|          | 0/154 [00:00<?, ?it/s]"
      ]
     },
     "metadata": {},
     "output_type": "display_data"
    },
    {
     "data": {
      "application/vnd.jupyter.widget-view+json": {
       "model_id": "c2e9df82a94949e49386dd57f7e5aaf9",
       "version_major": 2,
       "version_minor": 0
      },
      "text/plain": [
       "Evaluating:   0%|          | 0/2000 [00:00<?, ?it/s]"
      ]
     },
     "metadata": {},
     "output_type": "display_data"
    },
    {
     "name": "stdout",
     "output_type": "stream",
     "text": [
      "Epoch 10 │ Loss: 0.4497 │ Recall@10: 0.6150 │ NDCG@10: 0.4840\n"
     ]
    },
    {
     "data": {
      "application/vnd.jupyter.widget-view+json": {
       "model_id": "f0419b09c25c4165add1c91862ea2b12",
       "version_major": 2,
       "version_minor": 0
      },
      "text/plain": [
       "Epoch 11:   0%|          | 0/154 [00:00<?, ?it/s]"
      ]
     },
     "metadata": {},
     "output_type": "display_data"
    },
    {
     "data": {
      "application/vnd.jupyter.widget-view+json": {
       "model_id": "9dd850d4bd454858bdf0bb3a29a813a6",
       "version_major": 2,
       "version_minor": 0
      },
      "text/plain": [
       "Evaluating:   0%|          | 0/2000 [00:00<?, ?it/s]"
      ]
     },
     "metadata": {},
     "output_type": "display_data"
    },
    {
     "name": "stdout",
     "output_type": "stream",
     "text": [
      "Epoch 11 │ Loss: 0.4060 │ Recall@10: 0.6550 │ NDCG@10: 0.5069\n"
     ]
    },
    {
     "data": {
      "application/vnd.jupyter.widget-view+json": {
       "model_id": "8cf7896cefce4d9f95bbb5c61a8378f0",
       "version_major": 2,
       "version_minor": 0
      },
      "text/plain": [
       "Epoch 12:   0%|          | 0/154 [00:00<?, ?it/s]"
      ]
     },
     "metadata": {},
     "output_type": "display_data"
    },
    {
     "data": {
      "application/vnd.jupyter.widget-view+json": {
       "model_id": "41f8552f7b4f4eda8e15d8731223c4e3",
       "version_major": 2,
       "version_minor": 0
      },
      "text/plain": [
       "Evaluating:   0%|          | 0/2000 [00:00<?, ?it/s]"
      ]
     },
     "metadata": {},
     "output_type": "display_data"
    },
    {
     "name": "stdout",
     "output_type": "stream",
     "text": [
      "Epoch 12 │ Loss: 0.3566 │ Recall@10: 0.6780 │ NDCG@10: 0.5318\n"
     ]
    },
    {
     "data": {
      "application/vnd.jupyter.widget-view+json": {
       "model_id": "f47fb898f4d941e182cb284770fefa97",
       "version_major": 2,
       "version_minor": 0
      },
      "text/plain": [
       "Epoch 13:   0%|          | 0/154 [00:00<?, ?it/s]"
      ]
     },
     "metadata": {},
     "output_type": "display_data"
    },
    {
     "data": {
      "application/vnd.jupyter.widget-view+json": {
       "model_id": "a98dcae690a64c58ae3df22138292f39",
       "version_major": 2,
       "version_minor": 0
      },
      "text/plain": [
       "Evaluating:   0%|          | 0/2000 [00:00<?, ?it/s]"
      ]
     },
     "metadata": {},
     "output_type": "display_data"
    },
    {
     "name": "stdout",
     "output_type": "stream",
     "text": [
      "Epoch 13 │ Loss: 0.3073 │ Recall@10: 0.6955 │ NDCG@10: 0.5421\n"
     ]
    },
    {
     "data": {
      "application/vnd.jupyter.widget-view+json": {
       "model_id": "bda06d177e0b44bd83b2546dba77a622",
       "version_major": 2,
       "version_minor": 0
      },
      "text/plain": [
       "Epoch 14:   0%|          | 0/154 [00:00<?, ?it/s]"
      ]
     },
     "metadata": {},
     "output_type": "display_data"
    },
    {
     "data": {
      "application/vnd.jupyter.widget-view+json": {
       "model_id": "9cbc6745fc654a4d9963bc712f67e4f0",
       "version_major": 2,
       "version_minor": 0
      },
      "text/plain": [
       "Evaluating:   0%|          | 0/2000 [00:00<?, ?it/s]"
      ]
     },
     "metadata": {},
     "output_type": "display_data"
    },
    {
     "name": "stdout",
     "output_type": "stream",
     "text": [
      "Epoch 14 │ Loss: 0.2598 │ Recall@10: 0.7160 │ NDCG@10: 0.5509\n"
     ]
    },
    {
     "data": {
      "application/vnd.jupyter.widget-view+json": {
       "model_id": "dbe3e23429e449cf930f87a4a2cd91d4",
       "version_major": 2,
       "version_minor": 0
      },
      "text/plain": [
       "Epoch 15:   0%|          | 0/154 [00:00<?, ?it/s]"
      ]
     },
     "metadata": {},
     "output_type": "display_data"
    },
    {
     "data": {
      "application/vnd.jupyter.widget-view+json": {
       "model_id": "af0722f2e84c473c8987be9abf097528",
       "version_major": 2,
       "version_minor": 0
      },
      "text/plain": [
       "Evaluating:   0%|          | 0/2000 [00:00<?, ?it/s]"
      ]
     },
     "metadata": {},
     "output_type": "display_data"
    },
    {
     "name": "stdout",
     "output_type": "stream",
     "text": [
      "Epoch 15 │ Loss: 0.2216 │ Recall@10: 0.7300 │ NDCG@10: 0.5617\n"
     ]
    },
    {
     "data": {
      "image/png": "[encoded data removed]",
      "text/plain": [
       "<Figure size 1500x400 with 1 Axes>"
      ]
     },
     "metadata": {},
     "output_type": "display_data"
    }
   ],
   "source": [
    "# ─── 1 │ Imports & Config ─────────────────────────────────────────────\n",
    "import pandas as pd\n",
    "import torch\n",
    "import numpy as np\n",
    "import matplotlib.pyplot as plt\n",
    "from torch.utils.data import Dataset, DataLoader\n",
    "import torch.nn as nn\n",
    "from tqdm.auto import tqdm, trange\n",
    "\n",
    "# ---------------- Hyper‑parameters ----------------\n",
    "LIKE_TH = 1\n",
    "EPOCHS = 15\n",
    "# Embedding dimensions for new features\n",
    "AGE_EMB_DIM = 16\n",
    "CLUSTER_EMB_DIM = 16\n",
    "# Base embedding dimension for users and items\n",
    "BASE_EMB_DIM = 64 \n",
    "BATCH_SIZE = 4096\n",
    "LEARNING_RATE = 1e-3\n",
    "WEIGHT_DECAY = 1e-5\n",
    "DEVICE = \"cuda\" if torch.cuda.is_available() else \"cpu\"\n",
    "\n",
    "# ─── 2 │ Load & Preprocess Data ───────────────────────────────────────\n",
    "# Load all datasets\n",
    "try:\n",
    "    ratings_raw = pd.read_csv(\"data/Ratings.csv\")\n",
    "    users_df = pd.read_csv(\"data/Users.csv\")\n",
    "    books_meta_df = pd.read_csv(\"clustered_outputs/clustered_books_metadata.csv\")[['ISBN', 'genre_cluster']]\n",
    "except FileNotFoundError as e:\n",
    "    print(f\"Error loading data files: {e}\")\n",
    "    exit()\n",
    "\n",
    "# Handle User Age: Fill NaN with median and convert to int\n",
    "median_age = users_df['Age'].median()\n",
    "users_df['Age'] = users_df['Age'].fillna(median_age).astype(int)\n",
    "\n",
    "# Merge the datasets into one\n",
    "df = pd.merge(ratings_raw, users_df, on='User-ID')\n",
    "df = pd.merge(df, books_meta_df, on='ISBN')\n",
    "df = df[df[\"Book-Rating\"] >= LIKE_TH]\n",
    "\n",
    "# ─── 3 │ Train/Test Split ─────────────────────────────────────────────\n",
    "df['rank_latest'] = df.groupby(['User-ID'])['Book-Rating'].rank(method='first', ascending=False)\n",
    "train_df = df[df['rank_latest'] != 1]\n",
    "test_df = df[df['rank_latest'] == 1]\n",
    "train_df, test_df = train_df.drop(columns='rank_latest'), test_df.drop(columns='rank_latest')\n",
    "\n",
    "# ─── 4 │ Encode IDs and Features ──────────────────────────────────────\n",
    "user2idx = {u: i for i, u in enumerate(df[\"User-ID\"].unique())}\n",
    "book2idx = {b: i for i, b in enumerate(df[\"ISBN\"].unique())}\n",
    "age2idx = {a: i for i, a in enumerate(df[\"Age\"].unique())}\n",
    "cluster2idx = {c: i for i, c in enumerate(df[\"genre_cluster\"].unique())}\n",
    "\n",
    "# Apply mappings to all dataframes\n",
    "for df_slice in [train_df, test_df]:\n",
    "    df_slice[\"user_idx\"] = df_slice[\"User-ID\"].map(user2idx)\n",
    "    df_slice[\"book_idx\"] = df_slice[\"ISBN\"].map(book2idx)\n",
    "    df_slice[\"age_idx\"] = df_slice[\"Age\"].map(age2idx)\n",
    "    df_slice[\"cluster_idx\"] = df_slice[\"genre_cluster\"].map(cluster2idx)\n",
    "\n",
    "test_df = test_df.dropna().astype({col: int for col in ['user_idx', 'book_idx', 'age_idx', 'cluster_idx']})\n",
    "test_df = test_df.sample(n=min(len(test_df), 2000), random_state=42)\n",
    "\n",
    "n_users = len(user2idx)\n",
    "n_books = len(book2idx)\n",
    "n_ages = len(age2idx)\n",
    "n_clusters = len(cluster2idx)\n",
    "\n",
    "# Define MLP input layer size based on all features\n",
    "MLP_INPUT_DIM = (BASE_EMB_DIM * 2) + AGE_EMB_DIM + CLUSTER_EMB_DIM\n",
    "MLP_LAYERS = [MLP_INPUT_DIM, 256, 128, 64]\n",
    "\n",
    "# ─── 5 │ Dataset with Features ────────────────────────────────────────\n",
    "class NCFDatasetWithFeatures(Dataset):\n",
    "    def __init__(self, df, n_books):\n",
    "        self.users = df[\"user_idx\"].values\n",
    "        self.items = df[\"book_idx\"].values\n",
    "        self.ages = df[\"age_idx\"].values\n",
    "        self.clusters = df[\"cluster_idx\"].values\n",
    "        self.n_books = n_books\n",
    "        self.user_item_set = set(zip(self.users, self.items))\n",
    "\n",
    "    def __len__(self):\n",
    "        return len(self.users)\n",
    "\n",
    "    def __getitem__(self, idx):\n",
    "        user, item_pos, age, cluster = self.users[idx], self.items[idx], self.ages[idx], self.clusters[idx]\n",
    "        item_neg = np.random.randint(self.n_books)\n",
    "        while (user, item_neg) in self.user_item_set:\n",
    "            item_neg = np.random.randint(self.n_books)\n",
    "        return user, item_pos, item_neg, age, cluster\n",
    "\n",
    "def collate_ncf_features(batch):\n",
    "    users, items_pos, items_neg, ages, clusters = zip(*batch)\n",
    "    \n",
    "    users = torch.tensor(users, dtype=torch.long).repeat_interleave(2)\n",
    "    ages = torch.tensor(ages, dtype=torch.long).repeat_interleave(2)\n",
    "    clusters = torch.tensor(clusters, dtype=torch.long).repeat_interleave(2)\n",
    "    \n",
    "    items = torch.stack([torch.tensor(items_pos, dtype=torch.long), torch.tensor(items_neg, dtype=torch.long)], dim=1).flatten()\n",
    "    labels = torch.tensor([1, 0] * len(batch), dtype=torch.float32)\n",
    "    \n",
    "    return users, items, ages, clusters, labels\n",
    "\n",
    "train_ds = NCFDatasetWithFeatures(train_df, n_books)\n",
    "train_dl = DataLoader(train_ds, batch_size=BATCH_SIZE // 2, shuffle=True, collate_fn=collate_ncf_features, num_workers=0)\n",
    "\n",
    "# ─── 6 │ Hybrid NCF Model Definition ──────────────────────────────────\n",
    "class HybridNCF(nn.Module):\n",
    "    def __init__(self):\n",
    "        super().__init__()\n",
    "        # Embeddings for GMF path\n",
    "        self.gmf_user_emb = nn.Embedding(n_users, BASE_EMB_DIM)\n",
    "        self.gmf_item_emb = nn.Embedding(n_books, BASE_EMB_DIM)\n",
    "        \n",
    "        # Embeddings for MLP path\n",
    "        self.mlp_user_emb = nn.Embedding(n_users, BASE_EMB_DIM)\n",
    "        self.mlp_item_emb = nn.Embedding(n_books, BASE_EMB_DIM)\n",
    "        self.mlp_age_emb = nn.Embedding(n_ages, AGE_EMB_DIM)\n",
    "        self.mlp_cluster_emb = nn.Embedding(n_clusters, CLUSTER_EMB_DIM)\n",
    "        \n",
    "        mlp_modules = []\n",
    "        for i in range(len(MLP_LAYERS) - 1):\n",
    "            mlp_modules.append(nn.Linear(MLP_LAYERS[i], MLP_LAYERS[i+1]))\n",
    "            mlp_modules.append(nn.ReLU())\n",
    "        self.mlp = nn.Sequential(*mlp_modules)\n",
    "        \n",
    "        predict_size = BASE_EMB_DIM + MLP_LAYERS[-1]\n",
    "        self.predict_layer = nn.Linear(predict_size, 1)\n",
    "\n",
    "    def forward(self, user, item, age, cluster):\n",
    "        # GMF Path (only user-item interaction)\n",
    "        gmf_vector = self.gmf_user_emb(user) * self.gmf_item_emb(item)\n",
    "        \n",
    "        # MLP Path (user, item, and their features)\n",
    "        mlp_user_vec = self.mlp_user_emb(user)\n",
    "        mlp_item_vec = self.mlp_item_emb(item)\n",
    "        mlp_age_vec = self.mlp_age_emb(age)\n",
    "        mlp_cluster_vec = self.mlp_cluster_emb(cluster)\n",
    "        \n",
    "        mlp_input = torch.cat([mlp_user_vec, mlp_item_vec, mlp_age_vec, mlp_cluster_vec], dim=-1)\n",
    "        mlp_vector = self.mlp(mlp_input)\n",
    "        \n",
    "        final_vector = torch.cat([gmf_vector, mlp_vector], dim=-1)\n",
    "        return self.predict_layer(final_vector).squeeze()\n",
    "\n",
    "model = HybridNCF().to(DEVICE)\n",
    "opt = torch.optim.Adam(model.parameters(), lr=LEARNING_RATE, weight_decay=WEIGHT_DECAY)\n",
    "loss_fn = nn.BCEWithLogitsLoss()\n",
    "\n",
    "# ─── 7 │ Evaluation Function (Updated for Features) ───────────────────\n",
    "def evaluate(model, test_df, train_df, top_k=10, n_neg_samples=100):\n",
    "    model.eval()\n",
    "    train_history = train_df.groupby(\"user_idx\")[\"book_idx\"].apply(set).to_dict()\n",
    "    all_book_indices = np.arange(n_books)\n",
    "\n",
    "    hits = ndcg_sum = total = 0\n",
    "    with torch.no_grad():\n",
    "        for _, row in tqdm(test_df.iterrows(), total=len(test_df), desc=\"Evaluating\", leave=False):\n",
    "            u_idx, pos_b_idx = int(row[\"user_idx\"]), int(row[\"book_idx\"])\n",
    "            age_idx, cluster_idx = int(row[\"age_idx\"]), int(row[\"cluster_idx\"])\n",
    "            seen_books = train_history.get(u_idx, set())\n",
    "            \n",
    "            neg_b_indices = []\n",
    "            while len(neg_b_indices) < n_neg_samples:\n",
    "                samples = np.random.choice(all_book_indices, n_neg_samples)\n",
    "                neg_b_indices.extend([b for b in samples if b != pos_b_idx and b not in seen_books])\n",
    "            neg_b_indices = neg_b_indices[:n_neg_samples]\n",
    "\n",
    "            eval_b_indices = torch.tensor([pos_b_idx] + neg_b_indices, device=DEVICE)\n",
    "            u_tensor = torch.tensor([u_idx] * len(eval_b_indices), device=DEVICE)\n",
    "            age_tensor = torch.tensor([age_idx] * len(eval_b_indices), device=DEVICE)\n",
    "            # For evaluation, we assume the cluster of negative items is unknown or irrelevant, \n",
    "            # so we use the positive item's cluster for all. This is a common simplification.\n",
    "            cluster_tensor = torch.tensor([cluster_idx] * len(eval_b_indices), device=DEVICE)\n",
    "\n",
    "            scores = model(u_tensor, eval_b_indices, age_tensor, cluster_tensor).cpu().numpy()\n",
    "\n",
    "            rank = np.sum(scores >= scores[0])\n",
    "            if rank <= top_k:\n",
    "                hits += 1\n",
    "                ndcg_sum += 1 / np.log2(rank + 1)\n",
    "            total += 1\n",
    "\n",
    "    return (hits / total, ndcg_sum / total) if total else (0, 0)\n",
    "\n",
    "# ─── 8 │ Training & Evaluation Loop ──────────────────────────────────\n",
    "loss_hist, recall_hist, ndcg_hist = [], [], []\n",
    "for epoch in trange(EPOCHS, desc=\"Training\"):\n",
    "    model.train()\n",
    "    epoch_loss = 0.0\n",
    "    for users, items, ages, clusters, labels in tqdm(train_dl, leave=False, desc=f\"Epoch {epoch+1}\"):\n",
    "        users, items, ages, clusters, labels = (t.to(DEVICE) for t in [users, items, ages, clusters, labels])\n",
    "        \n",
    "        opt.zero_grad()\n",
    "        predictions = model(users, items, ages, clusters)\n",
    "        loss = loss_fn(predictions, labels)\n",
    "        loss.backward()\n",
    "        opt.step()\n",
    "        epoch_loss += loss.item()\n",
    "\n",
    "    recall, ndcg = evaluate(model, test_df, train_df, top_k=10)\n",
    "    loss_hist.append(epoch_loss / len(train_dl))\n",
    "    recall_hist.append(recall)\n",
    "    ndcg_hist.append(ndcg)\n",
    "    print(f\"Epoch {epoch+1:02d} │ Loss: {loss_hist[-1]:.4f} │ Recall@10: {recall:.4f} │ NDCG@10: {ndcg:.4f}\")\n",
    "\n",
    "# ─── 9 │ Plotting Results ─────────────────────────────────────────────\n",
    "plt.figure(figsize=(15, 4))\n",
    "epochs_range = range(1, EPOCHS + 1)\n",
    "plt.plot(epochs_range, recall_hist, marker='o', label='Recall@10')\n",
    "plt.plot(epochs_range, ndcg_hist, marker='o', label='NDCG@10')\n",
    "plt.title(\"Evaluation Metrics\")\n",
    "plt.xlabel(\"Epoch\"); plt.ylabel(\"Score\")\n",
    "plt.legend(); plt.grid(True); plt.show()"
   ]
  },
  {
   "cell_type": "code",
   "execution_count": 1,
   "id": "45d03f59",
   "metadata": {},
   "outputs": [
    {
     "data": {
      "application/vnd.jupyter.widget-view+json": {
       "model_id": "38bfc18fec854d848411cb85cad2d9f5",
       "version_major": 2,
       "version_minor": 0
      },
      "text/plain": [
       "Training:   0%|          | 0/15 [00:00<?, ?it/s]"
      ]
     },
     "metadata": {},
     "output_type": "display_data"
    },
    {
     "data": {
      "application/vnd.jupyter.widget-view+json": {
       "model_id": "aa074b5c9e9c4548a2da4461341177d6",
       "version_major": 2,
       "version_minor": 0
      },
      "text/plain": [
       "Epoch 1:   0%|          | 0/154 [00:00<?, ?it/s]"
      ]
     },
     "metadata": {},
     "output_type": "display_data"
    },
    {
     "data": {
      "application/vnd.jupyter.widget-view+json": {
       "model_id": "777da9f352184ace824f7e0b4821fa43",
       "version_major": 2,
       "version_minor": 0
      },
      "text/plain": [
       "Evaluating:   0%|          | 0/2000 [00:00<?, ?it/s]"
      ]
     },
     "metadata": {},
     "output_type": "display_data"
    },
    {
     "name": "stdout",
     "output_type": "stream",
     "text": [
      "Epoch 01 │ Loss: 0.6942 │ Recall@10: 0.1890 │ NDCG@10: 0.1133\n"
     ]
    },
    {
     "data": {
      "application/vnd.jupyter.widget-view+json": {
       "model_id": "7f8d7b8cf1f34e65a69ee21097262ff3",
       "version_major": 2,
       "version_minor": 0
      },
      "text/plain": [
       "Epoch 2:   0%|          | 0/154 [00:00<?, ?it/s]"
      ]
     },
     "metadata": {},
     "output_type": "display_data"
    },
    {
     "data": {
      "application/vnd.jupyter.widget-view+json": {
       "model_id": "4c399c3bc13e4d4089ae455bcb8b4a2b",
       "version_major": 2,
       "version_minor": 0
      },
      "text/plain": [
       "Evaluating:   0%|          | 0/2000 [00:00<?, ?it/s]"
      ]
     },
     "metadata": {},
     "output_type": "display_data"
    },
    {
     "name": "stdout",
     "output_type": "stream",
     "text": [
      "Epoch 02 │ Loss: 0.6654 │ Recall@10: 0.3155 │ NDCG@10: 0.2153\n"
     ]
    },
    {
     "data": {
      "application/vnd.jupyter.widget-view+json": {
       "model_id": "339d6c92de6a4a23890cfd8a3ebc3397",
       "version_major": 2,
       "version_minor": 0
      },
      "text/plain": [
       "Epoch 3:   0%|          | 0/154 [00:00<?, ?it/s]"
      ]
     },
     "metadata": {},
     "output_type": "display_data"
    },
    {
     "data": {
      "application/vnd.jupyter.widget-view+json": {
       "model_id": "9b271206ab96403098ef580a972a3779",
       "version_major": 2,
       "version_minor": 0
      },
      "text/plain": [
       "Evaluating:   0%|          | 0/2000 [00:00<?, ?it/s]"
      ]
     },
     "metadata": {},
     "output_type": "display_data"
    },
    {
     "name": "stdout",
     "output_type": "stream",
     "text": [
      "Epoch 03 │ Loss: 0.6332 │ Recall@10: 0.3820 │ NDCG@10: 0.2828\n"
     ]
    },
    {
     "data": {
      "application/vnd.jupyter.widget-view+json": {
       "model_id": "b1655c5a8ba94d9fb67a54e88d120b6e",
       "version_major": 2,
       "version_minor": 0
      },
      "text/plain": [
       "Epoch 4:   0%|          | 0/154 [00:00<?, ?it/s]"
      ]
     },
     "metadata": {},
     "output_type": "display_data"
    },
    {
     "data": {
      "application/vnd.jupyter.widget-view+json": {
       "model_id": "0a123a84328447be81d99569173eadeb",
       "version_major": 2,
       "version_minor": 0
      },
      "text/plain": [
       "Evaluating:   0%|          | 0/2000 [00:00<?, ?it/s]"
      ]
     },
     "metadata": {},
     "output_type": "display_data"
    },
    {
     "name": "stdout",
     "output_type": "stream",
     "text": [
      "Epoch 04 │ Loss: 0.6052 │ Recall@10: 0.4290 │ NDCG@10: 0.3331\n"
     ]
    },
    {
     "data": {
      "application/vnd.jupyter.widget-view+json": {
       "model_id": "cb10bfa68dd7468fba9ecffd8cbf2928",
       "version_major": 2,
       "version_minor": 0
      },
      "text/plain": [
       "Epoch 5:   0%|          | 0/154 [00:00<?, ?it/s]"
      ]
     },
     "metadata": {},
     "output_type": "display_data"
    },
    {
     "data": {
      "application/vnd.jupyter.widget-view+json": {
       "model_id": "b8508f99fbcc41ca8f9ae726fea1f7c5",
       "version_major": 2,
       "version_minor": 0
      },
      "text/plain": [
       "Evaluating:   0%|          | 0/2000 [00:00<?, ?it/s]"
      ]
     },
     "metadata": {},
     "output_type": "display_data"
    },
    {
     "name": "stdout",
     "output_type": "stream",
     "text": [
      "Epoch 05 │ Loss: 0.5794 │ Recall@10: 0.4740 │ NDCG@10: 0.3801\n"
     ]
    },
    {
     "data": {
      "application/vnd.jupyter.widget-view+json": {
       "model_id": "37b4241dd12a452bb661c44afa98bbfe",
       "version_major": 2,
       "version_minor": 0
      },
      "text/plain": [
       "Epoch 6:   0%|          | 0/154 [00:00<?, ?it/s]"
      ]
     },
     "metadata": {},
     "output_type": "display_data"
    },
    {
     "data": {
      "application/vnd.jupyter.widget-view+json": {
       "model_id": "4e76c196f01f4575a4da97573e759684",
       "version_major": 2,
       "version_minor": 0
      },
      "text/plain": [
       "Evaluating:   0%|          | 0/2000 [00:00<?, ?it/s]"
      ]
     },
     "metadata": {},
     "output_type": "display_data"
    },
    {
     "name": "stdout",
     "output_type": "stream",
     "text": [
      "Epoch 06 │ Loss: 0.5528 │ Recall@10: 0.5045 │ NDCG@10: 0.4119\n"
     ]
    },
    {
     "data": {
      "application/vnd.jupyter.widget-view+json": {
       "model_id": "a17e8ba7fff94633af942b527783b268",
       "version_major": 2,
       "version_minor": 0
      },
      "text/plain": [
       "Epoch 7:   0%|          | 0/154 [00:00<?, ?it/s]"
      ]
     },
     "metadata": {},
     "output_type": "display_data"
    },
    {
     "data": {
      "application/vnd.jupyter.widget-view+json": {
       "model_id": "2962068ac90542c897ff7310517c9fd5",
       "version_major": 2,
       "version_minor": 0
      },
      "text/plain": [
       "Evaluating:   0%|          | 0/2000 [00:00<?, ?it/s]"
      ]
     },
     "metadata": {},
     "output_type": "display_data"
    },
    {
     "name": "stdout",
     "output_type": "stream",
     "text": [
      "Epoch 07 │ Loss: 0.5246 │ Recall@10: 0.5420 │ NDCG@10: 0.4461\n"
     ]
    },
    {
     "data": {
      "application/vnd.jupyter.widget-view+json": {
       "model_id": "0b57a38453d0421287b5298b4d559599",
       "version_major": 2,
       "version_minor": 0
      },
      "text/plain": [
       "Epoch 8:   0%|          | 0/154 [00:00<?, ?it/s]"
      ]
     },
     "metadata": {},
     "output_type": "display_data"
    },
    {
     "data": {
      "application/vnd.jupyter.widget-view+json": {
       "model_id": "546e0c6075994737a90c522c8cd58c56",
       "version_major": 2,
       "version_minor": 0
      },
      "text/plain": [
       "Evaluating:   0%|          | 0/2000 [00:00<?, ?it/s]"
      ]
     },
     "metadata": {},
     "output_type": "display_data"
    },
    {
     "name": "stdout",
     "output_type": "stream",
     "text": [
      "Epoch 08 │ Loss: 0.4929 │ Recall@10: 0.5770 │ NDCG@10: 0.4805\n"
     ]
    },
    {
     "data": {
      "application/vnd.jupyter.widget-view+json": {
       "model_id": "82d259caa8534631a8d8ad2941df03fc",
       "version_major": 2,
       "version_minor": 0
      },
      "text/plain": [
       "Epoch 9:   0%|          | 0/154 [00:00<?, ?it/s]"
      ]
     },
     "metadata": {},
     "output_type": "display_data"
    },
    {
     "data": {
      "application/vnd.jupyter.widget-view+json": {
       "model_id": "cc75c7c0bf7a455f93f05b6cb4f83f7f",
       "version_major": 2,
       "version_minor": 0
      },
      "text/plain": [
       "Evaluating:   0%|          | 0/2000 [00:00<?, ?it/s]"
      ]
     },
     "metadata": {},
     "output_type": "display_data"
    },
    {
     "name": "stdout",
     "output_type": "stream",
     "text": [
      "Epoch 09 │ Loss: 0.4573 │ Recall@10: 0.6070 │ NDCG@10: 0.5114\n"
     ]
    },
    {
     "data": {
      "application/vnd.jupyter.widget-view+json": {
       "model_id": "4ad61a8873c849429c54ebf4599f0170",
       "version_major": 2,
       "version_minor": 0
      },
      "text/plain": [
       "Epoch 10:   0%|          | 0/154 [00:00<?, ?it/s]"
      ]
     },
     "metadata": {},
     "output_type": "display_data"
    },
    {
     "data": {
      "application/vnd.jupyter.widget-view+json": {
       "model_id": "cac3b72d3fc64694ab20b57327782549",
       "version_major": 2,
       "version_minor": 0
      },
      "text/plain": [
       "Evaluating:   0%|          | 0/2000 [00:00<?, ?it/s]"
      ]
     },
     "metadata": {},
     "output_type": "display_data"
    },
    {
     "name": "stdout",
     "output_type": "stream",
     "text": [
      "Epoch 10 │ Loss: 0.4172 │ Recall@10: 0.6405 │ NDCG@10: 0.5396\n"
     ]
    },
    {
     "data": {
      "application/vnd.jupyter.widget-view+json": {
       "model_id": "6723a2326edb4097ad63b9d7fe64fbdd",
       "version_major": 2,
       "version_minor": 0
      },
      "text/plain": [
       "Epoch 11:   0%|          | 0/154 [00:00<?, ?it/s]"
      ]
     },
     "metadata": {},
     "output_type": "display_data"
    },
    {
     "data": {
      "application/vnd.jupyter.widget-view+json": {
       "model_id": "9e2fd59b47844233aa0a2d9d53cdec7f",
       "version_major": 2,
       "version_minor": 0
      },
      "text/plain": [
       "Evaluating:   0%|          | 0/2000 [00:00<?, ?it/s]"
      ]
     },
     "metadata": {},
     "output_type": "display_data"
    },
    {
     "name": "stdout",
     "output_type": "stream",
     "text": [
      "Epoch 11 │ Loss: 0.3722 │ Recall@10: 0.6755 │ NDCG@10: 0.5705\n"
     ]
    },
    {
     "data": {
      "application/vnd.jupyter.widget-view+json": {
       "model_id": "52576f378e194f73ad8f85adbae5f89a",
       "version_major": 2,
       "version_minor": 0
      },
      "text/plain": [
       "Epoch 12:   0%|          | 0/154 [00:00<?, ?it/s]"
      ]
     },
     "metadata": {},
     "output_type": "display_data"
    },
    {
     "data": {
      "application/vnd.jupyter.widget-view+json": {
       "model_id": "abc786ee2d8146b4a818b5a09562cd30",
       "version_major": 2,
       "version_minor": 0
      },
      "text/plain": [
       "Evaluating:   0%|          | 0/2000 [00:00<?, ?it/s]"
      ]
     },
     "metadata": {},
     "output_type": "display_data"
    },
    {
     "name": "stdout",
     "output_type": "stream",
     "text": [
      "Epoch 12 │ Loss: 0.3224 │ Recall@10: 0.7075 │ NDCG@10: 0.6055\n"
     ]
    },
    {
     "data": {
      "application/vnd.jupyter.widget-view+json": {
       "model_id": "365a5decf50147afba00888e437fe076",
       "version_major": 2,
       "version_minor": 0
      },
      "text/plain": [
       "Epoch 13:   0%|          | 0/154 [00:00<?, ?it/s]"
      ]
     },
     "metadata": {},
     "output_type": "display_data"
    },
    {
     "data": {
      "application/vnd.jupyter.widget-view+json": {
       "model_id": "664be409ef9e403ab5bcabdc9f18ee08",
       "version_major": 2,
       "version_minor": 0
      },
      "text/plain": [
       "Evaluating:   0%|          | 0/2000 [00:00<?, ?it/s]"
      ]
     },
     "metadata": {},
     "output_type": "display_data"
    },
    {
     "name": "stdout",
     "output_type": "stream",
     "text": [
      "Epoch 13 │ Loss: 0.2698 │ Recall@10: 0.7370 │ NDCG@10: 0.6395\n"
     ]
    },
    {
     "data": {
      "application/vnd.jupyter.widget-view+json": {
       "model_id": "e5ee361aca444d7ab384052ccefdf008",
       "version_major": 2,
       "version_minor": 0
      },
      "text/plain": [
       "Epoch 14:   0%|          | 0/154 [00:00<?, ?it/s]"
      ]
     },
     "metadata": {},
     "output_type": "display_data"
    },
    {
     "data": {
      "application/vnd.jupyter.widget-view+json": {
       "model_id": "7400a40c0cc041958023e6e33194d226",
       "version_major": 2,
       "version_minor": 0
      },
      "text/plain": [
       "Evaluating:   0%|          | 0/2000 [00:00<?, ?it/s]"
      ]
     },
     "metadata": {},
     "output_type": "display_data"
    },
    {
     "name": "stdout",
     "output_type": "stream",
     "text": [
      "Epoch 14 │ Loss: 0.2202 │ Recall@10: 0.7555 │ NDCG@10: 0.6583\n"
     ]
    },
    {
     "data": {
      "application/vnd.jupyter.widget-view+json": {
       "model_id": "46c639b8d45447028b70866c7b3fbb7e",
       "version_major": 2,
       "version_minor": 0
      },
      "text/plain": [
       "Epoch 15:   0%|          | 0/154 [00:00<?, ?it/s]"
      ]
     },
     "metadata": {},
     "output_type": "display_data"
    },
    {
     "data": {
      "application/vnd.jupyter.widget-view+json": {
       "model_id": "7b8b4b8a8daa4011a7a88bcb682cea42",
       "version_major": 2,
       "version_minor": 0
      },
      "text/plain": [
       "Evaluating:   0%|          | 0/2000 [00:00<?, ?it/s]"
      ]
     },
     "metadata": {},
     "output_type": "display_data"
    },
    {
     "name": "stdout",
     "output_type": "stream",
     "text": [
      "Epoch 15 │ Loss: 0.1751 │ Recall@10: 0.7655 │ NDCG@10: 0.6719\n"
     ]
    },
    {
     "data": {
      "image/png": "[encoded data removed]",
      "text/plain": [
       "<Figure size 1500x400 with 1 Axes>"
      ]
     },
     "metadata": {},
     "output_type": "display_data"
    }
   ],
   "source": [
    "# ─── 1 │ Imports & Config ─────────────────────────────────────────────\n",
    "import pandas as pd\n",
    "import torch\n",
    "import numpy as np\n",
    "import matplotlib.pyplot as plt\n",
    "from torch.utils.data import Dataset, DataLoader\n",
    "import torch.nn as nn\n",
    "from tqdm.auto import tqdm, trange\n",
    "\n",
    "# ---------------- Hyper‑parameters ----------------\n",
    "LIKE_TH = 1\n",
    "EPOCHS = 15\n",
    "# Embedding dimensions for all features\n",
    "BASE_EMB_DIM = 64\n",
    "AGE_EMB_DIM = 16\n",
    "GENRE_CLUSTER_EMB_DIM = 16\n",
    "TONE_CLUSTER_EMB_DIM = 16\n",
    "AUDIENCE_CLUSTER_EMB_DIM = 16\n",
    "BATCH_SIZE = 4096\n",
    "LEARNING_RATE = 1e-3\n",
    "WEIGHT_DECAY = 1e-5\n",
    "DEVICE = \"cuda\" if torch.cuda.is_available() else \"cpu\"\n",
    "\n",
    "# ─── 2 │ Load & Preprocess Data ───────────────────────────────────────\n",
    "# Load all datasets\n",
    "try:\n",
    "    ratings_raw = pd.read_csv(\"data/Ratings.csv\")\n",
    "    users_df = pd.read_csv(\"data/Users.csv\")\n",
    "    # Use the clustered versions for tone and audience\n",
    "    books_meta_df = pd.read_csv(\"clustered_outputs/clustered_books_metadata.csv\")[['ISBN', 'genre_cluster', 'tone_cluster', 'audience_cluster']]\n",
    "except FileNotFoundError as e:\n",
    "    print(f\"Error loading data files: {e}\")\n",
    "    exit()\n",
    "\n",
    "# Handle User Age\n",
    "median_age = users_df['Age'].median()\n",
    "users_df['Age'] = users_df['Age'].fillna(median_age).astype(int)\n",
    "\n",
    "# Merge the datasets\n",
    "df = pd.merge(ratings_raw, users_df, on='User-ID')\n",
    "df = pd.merge(df, books_meta_df, on='ISBN')\n",
    "df = df[df[\"Book-Rating\"] >= LIKE_TH]\n",
    "\n",
    "# ─── 3 │ Train/Test Split ─────────────────────────────────────────────\n",
    "df['rank_latest'] = df.groupby(['User-ID'])['Book-Rating'].rank(method='first', ascending=False)\n",
    "train_df = df[df['rank_latest'] != 1]\n",
    "test_df = df[df['rank_latest'] == 1]\n",
    "train_df, test_df = train_df.drop(columns='rank_latest'), test_df.drop(columns='rank_latest')\n",
    "\n",
    "# ─── 4 │ Encode IDs and Features ──────────────────────────────────────\n",
    "# Create mappings for all categorical features\n",
    "user2idx = {u: i for i, u in enumerate(df[\"User-ID\"].unique())}\n",
    "book2idx = {b: i for i, b in enumerate(df[\"ISBN\"].unique())}\n",
    "age2idx = {a: i for i, a in enumerate(df[\"Age\"].unique())}\n",
    "genre_cluster2idx = {c: i for i, c in enumerate(df[\"genre_cluster\"].unique())}\n",
    "tone_cluster2idx = {t: i for i, t in enumerate(df[\"tone_cluster\"].unique())}\n",
    "audience_cluster2idx = {a: i for i, a in enumerate(df[\"audience_cluster\"].unique())}\n",
    "\n",
    "# Apply mappings\n",
    "for df_slice in [train_df, test_df]:\n",
    "    df_slice[\"user_idx\"] = df_slice[\"User-ID\"].map(user2idx)\n",
    "    df_slice[\"book_idx\"] = df_slice[\"ISBN\"].map(book2idx)\n",
    "    df_slice[\"age_idx\"] = df_slice[\"Age\"].map(age2idx)\n",
    "    df_slice[\"genre_cluster_idx\"] = df_slice[\"genre_cluster\"].map(genre_cluster2idx)\n",
    "    df_slice[\"tone_cluster_idx\"] = df_slice[\"tone_cluster\"].map(tone_cluster2idx)\n",
    "    df_slice[\"audience_cluster_idx\"] = df_slice[\"audience_cluster\"].map(audience_cluster2idx)\n",
    "\n",
    "feature_cols = ['user_idx', 'book_idx', 'age_idx', 'genre_cluster_idx', 'tone_cluster_idx', 'audience_cluster_idx']\n",
    "test_df = test_df.dropna(subset=feature_cols).astype({col: int for col in feature_cols})\n",
    "test_df = test_df.sample(n=min(len(test_df), 2000), random_state=42)\n",
    "\n",
    "# Count unique values for embedding layers\n",
    "n_users = len(user2idx)\n",
    "n_books = len(book2idx)\n",
    "n_ages = len(age2idx)\n",
    "n_genre_clusters = len(genre_cluster2idx)\n",
    "n_tone_clusters = len(tone_cluster2idx)\n",
    "n_audience_clusters = len(audience_cluster2idx)\n",
    "\n",
    "# Define MLP input layer size based on all features\n",
    "MLP_INPUT_DIM = (BASE_EMB_DIM * 2) + AGE_EMB_DIM + GENRE_CLUSTER_EMB_DIM + TONE_CLUSTER_EMB_DIM + AUDIENCE_CLUSTER_EMB_DIM\n",
    "MLP_LAYERS = [MLP_INPUT_DIM, 256, 128, 64]\n",
    "\n",
    "# ─── 5 │ Dataset with Features ────────────────────────────────────────\n",
    "class NCFDatasetWithFeatures(Dataset):\n",
    "    def __init__(self, df, n_books):\n",
    "        self.users = df[\"user_idx\"].values\n",
    "        self.items = df[\"book_idx\"].values\n",
    "        self.ages = df[\"age_idx\"].values\n",
    "        self.genre_clusters = df[\"genre_cluster_idx\"].values\n",
    "        self.tone_clusters = df[\"tone_cluster_idx\"].values\n",
    "        self.audience_clusters = df[\"audience_cluster_idx\"].values\n",
    "        self.n_books = n_books\n",
    "        self.user_item_set = set(zip(self.users, self.items))\n",
    "\n",
    "    def __len__(self):\n",
    "        return len(self.users)\n",
    "\n",
    "    def __getitem__(self, idx):\n",
    "        user, item_pos = self.users[idx], self.items[idx]\n",
    "        age, genre_c = self.ages[idx], self.genre_clusters[idx]\n",
    "        tone_c, audience_c = self.tone_clusters[idx], self.audience_clusters[idx]\n",
    "        \n",
    "        item_neg = np.random.randint(self.n_books)\n",
    "        while (user, item_neg) in self.user_item_set:\n",
    "            item_neg = np.random.randint(self.n_books)\n",
    "        \n",
    "        return user, item_pos, item_neg, age, genre_c, tone_c, audience_c\n",
    "\n",
    "def collate_ncf_features(batch):\n",
    "    users, items_pos, items_neg, ages, genre_cs, tone_cs, audience_cs = zip(*batch)\n",
    "    \n",
    "    users = torch.tensor(users, dtype=torch.long).repeat_interleave(2)\n",
    "    ages = torch.tensor(ages, dtype=torch.long).repeat_interleave(2)\n",
    "    \n",
    "    genre_cs = torch.tensor(genre_cs, dtype=torch.long).repeat_interleave(2)\n",
    "    tone_cs = torch.tensor(tone_cs, dtype=torch.long).repeat_interleave(2)\n",
    "    audience_cs = torch.tensor(audience_cs, dtype=torch.long).repeat_interleave(2)\n",
    "    \n",
    "    items = torch.stack([torch.tensor(items_pos, dtype=torch.long), torch.tensor(items_neg, dtype=torch.long)], dim=1).flatten()\n",
    "    labels = torch.tensor([1, 0] * len(batch), dtype=torch.float32)\n",
    "    \n",
    "    return users, items, ages, genre_cs, tone_cs, audience_cs, labels\n",
    "\n",
    "train_ds = NCFDatasetWithFeatures(train_df, n_books)\n",
    "train_dl = DataLoader(train_ds, batch_size=BATCH_SIZE // 2, shuffle=True, collate_fn=collate_ncf_features, num_workers=0)\n",
    "\n",
    "# ─── 6 │ Hybrid NCF Model Definition ──────────────────────────────────\n",
    "class HybridNCF(nn.Module):\n",
    "    def __init__(self):\n",
    "        super().__init__()\n",
    "        self.gmf_user_emb = nn.Embedding(n_users, BASE_EMB_DIM)\n",
    "        self.gmf_item_emb = nn.Embedding(n_books, BASE_EMB_DIM)\n",
    "        \n",
    "        self.mlp_user_emb = nn.Embedding(n_users, BASE_EMB_DIM)\n",
    "        self.mlp_item_emb = nn.Embedding(n_books, BASE_EMB_DIM)\n",
    "        self.mlp_age_emb = nn.Embedding(n_ages, AGE_EMB_DIM)\n",
    "        self.mlp_genre_cluster_emb = nn.Embedding(n_genre_clusters, GENRE_CLUSTER_EMB_DIM)\n",
    "        self.mlp_tone_cluster_emb = nn.Embedding(n_tone_clusters, TONE_CLUSTER_EMB_DIM)\n",
    "        self.mlp_audience_cluster_emb = nn.Embedding(n_audience_clusters, AUDIENCE_CLUSTER_EMB_DIM)\n",
    "        \n",
    "        mlp_modules = []\n",
    "        for i in range(len(MLP_LAYERS) - 1):\n",
    "            mlp_modules.append(nn.Linear(MLP_LAYERS[i], MLP_LAYERS[i+1]))\n",
    "            mlp_modules.append(nn.ReLU())\n",
    "        self.mlp = nn.Sequential(*mlp_modules)\n",
    "        \n",
    "        predict_size = BASE_EMB_DIM + MLP_LAYERS[-1]\n",
    "        self.predict_layer = nn.Linear(predict_size, 1)\n",
    "\n",
    "    def forward(self, user, item, age, genre_c, tone_c, audience_c):\n",
    "        gmf_vector = self.gmf_user_emb(user) * self.gmf_item_emb(item)\n",
    "        \n",
    "        mlp_input = torch.cat([\n",
    "            self.mlp_user_emb(user),\n",
    "            self.mlp_item_emb(item),\n",
    "            self.mlp_age_emb(age),\n",
    "            self.mlp_genre_cluster_emb(genre_c),\n",
    "            self.mlp_tone_cluster_emb(tone_c),\n",
    "            self.mlp_audience_cluster_emb(audience_c)\n",
    "        ], dim=-1)\n",
    "        mlp_vector = self.mlp(mlp_input)\n",
    "        \n",
    "        final_vector = torch.cat([gmf_vector, mlp_vector], dim=-1)\n",
    "        return self.predict_layer(final_vector).squeeze()\n",
    "\n",
    "model = HybridNCF().to(DEVICE)\n",
    "opt = torch.optim.Adam(model.parameters(), lr=LEARNING_RATE, weight_decay=WEIGHT_DECAY)\n",
    "loss_fn = nn.BCEWithLogitsLoss()\n",
    "\n",
    "# ─── 7 │ Evaluation Function ──────────────────────────────────────────\n",
    "def evaluate(model, test_df, train_df, top_k=10, n_neg_samples=100):\n",
    "    model.eval()\n",
    "    train_history = train_df.groupby(\"user_idx\")[\"book_idx\"].apply(set).to_dict()\n",
    "    all_book_indices = np.arange(n_books)\n",
    "\n",
    "    hits = ndcg_sum = total = 0\n",
    "    with torch.no_grad():\n",
    "        for _, row in tqdm(test_df.iterrows(), total=len(test_df), desc=\"Evaluating\", leave=False):\n",
    "            u_idx, pos_b_idx = int(row[\"user_idx\"]), int(row[\"book_idx\"])\n",
    "            age_idx, genre_c_idx = int(row[\"age_idx\"]), int(row[\"genre_cluster_idx\"])\n",
    "            tone_c_idx, audience_c_idx = int(row[\"tone_cluster_idx\"]), int(row[\"audience_cluster_idx\"])\n",
    "\n",
    "            seen_books = train_history.get(u_idx, set())\n",
    "            neg_b_indices = []\n",
    "            while len(neg_b_indices) < n_neg_samples:\n",
    "                samples = np.random.choice(all_book_indices, n_neg_samples * 2)\n",
    "                neg_b_indices.extend([b for b in samples if b != pos_b_idx and b not in seen_books])\n",
    "            neg_b_indices = neg_b_indices[:n_neg_samples]\n",
    "\n",
    "            eval_b_indices = torch.tensor([pos_b_idx] + neg_b_indices, device=DEVICE)\n",
    "            u_tensor = torch.tensor([u_idx] * len(eval_b_indices), device=DEVICE)\n",
    "            age_tensor = torch.tensor([age_idx] * len(eval_b_indices), device=DEVICE)\n",
    "            genre_c_tensor = torch.tensor([genre_c_idx] * len(eval_b_indices), device=DEVICE)\n",
    "            tone_c_tensor = torch.tensor([tone_c_idx] * len(eval_b_indices), device=DEVICE)\n",
    "            audience_c_tensor = torch.tensor([audience_c_idx] * len(eval_b_indices), device=DEVICE)\n",
    "\n",
    "            scores = model(u_tensor, eval_b_indices, age_tensor, genre_c_tensor, tone_c_tensor, audience_c_tensor).cpu().numpy()\n",
    "\n",
    "            rank = np.sum(scores >= scores[0])\n",
    "            if rank <= top_k:\n",
    "                hits += 1\n",
    "                ndcg_sum += 1 / np.log2(rank + 1)\n",
    "            total += 1\n",
    "\n",
    "    return (hits / total, ndcg_sum / total) if total else (0, 0)\n",
    "\n",
    "# ─── 8 │ Training & Evaluation Loop ──────────────────────────────────\n",
    "loss_hist, recall_hist, ndcg_hist = [], [], []\n",
    "for epoch in trange(EPOCHS, desc=\"Training\"):\n",
    "    model.train()\n",
    "    epoch_loss = 0.0\n",
    "    for users, items, ages, genre_cs, tone_cs, audience_cs, labels in tqdm(train_dl, leave=False, desc=f\"Epoch {epoch+1}\"):\n",
    "        tensors = [users, items, ages, genre_cs, tone_cs, audience_cs, labels]\n",
    "        users, items, ages, genre_cs, tone_cs, audience_cs, labels = (t.to(DEVICE) for t in tensors)\n",
    "        \n",
    "        opt.zero_grad()\n",
    "        predictions = model(users, items, ages, genre_cs, tone_cs, audience_cs)\n",
    "        loss = loss_fn(predictions, labels)\n",
    "        loss.backward()\n",
    "        opt.step()\n",
    "        epoch_loss += loss.item()\n",
    "\n",
    "    recall, ndcg = evaluate(model, test_df, train_df, top_k=10)\n",
    "    loss_hist.append(epoch_loss / len(train_dl))\n",
    "    recall_hist.append(recall)\n",
    "    ndcg_hist.append(ndcg)\n",
    "    print(f\"Epoch {epoch+1:02d} │ Loss: {loss_hist[-1]:.4f} │ Recall@10: {recall:.4f} │ NDCG@10: {ndcg:.4f}\")\n",
    "\n",
    "# ─── 9 │ Plotting Results ─────────────────────────────────────────────\n",
    "plt.figure(figsize=(15, 4))\n",
    "epochs_range = range(1, EPOCHS + 1)\n",
    "plt.plot(epochs_range, recall_hist, marker='o', label='Recall@10')\n",
    "plt.plot(epochs_range, ndcg_hist, marker='o', label='NDCG@10')\n",
    "plt.title(\"Evaluation Metrics\")\n",
    "plt.xlabel(\"Epoch\"); plt.ylabel(\"Score\")\n",
    "plt.legend(); plt.grid(True); plt.show()"
   ]
  },
  {
   "cell_type": "code",
   "execution_count": 16,
   "id": "e76c014a",
   "metadata": {},
   "outputs": [
    {
     "name": "stdout",
     "output_type": "stream",
     "text": [
      "Loading data for experiment: Ratings Only...\n"
     ]
    },
    {
     "data": {
      "application/vnd.jupyter.widget-view+json": {
       "model_id": "4a3232904918495f9302a7b73401eacf",
       "version_major": 2,
       "version_minor": 0
      },
      "text/plain": [
       "Training 'Ratings Only':   0%|          | 0/50 [00:00<?, ?it/s]"
      ]
     },
     "metadata": {},
     "output_type": "display_data"
    },
    {
     "data": {
      "application/vnd.jupyter.widget-view+json": {
       "model_id": "ec94e302bffa468ca07207dcadfe2a0f",
       "version_major": 2,
       "version_minor": 0
      },
      "text/plain": [
       "Evaluating:   0%|          | 0/2000 [00:00<?, ?it/s]"
      ]
     },
     "metadata": {},
     "output_type": "display_data"
    },
    {
     "name": "stdout",
     "output_type": "stream",
     "text": [
      "Epoch 01 | Ratings Only | Recall@10: 0.1550 | NDCG@10: 0.0829\n"
     ]
    },
    {
     "data": {
      "application/vnd.jupyter.widget-view+json": {
       "model_id": "024dd18a6f06402589b62b62d9b465c7",
       "version_major": 2,
       "version_minor": 0
      },
      "text/plain": [
       "Evaluating:   0%|          | 0/2000 [00:00<?, ?it/s]"
      ]
     },
     "metadata": {},
     "output_type": "display_data"
    },
    {
     "name": "stdout",
     "output_type": "stream",
     "text": [
      "Epoch 02 | Ratings Only | Recall@10: 0.2300 | NDCG@10: 0.1448\n"
     ]
    },
    {
     "data": {
      "application/vnd.jupyter.widget-view+json": {
       "model_id": "5fd50564a67b421d8920b29b095243d5",
       "version_major": 2,
       "version_minor": 0
      },
      "text/plain": [
       "Evaluating:   0%|          | 0/2000 [00:00<?, ?it/s]"
      ]
     },
     "metadata": {},
     "output_type": "display_data"
    },
    {
     "name": "stdout",
     "output_type": "stream",
     "text": [
      "Epoch 03 | Ratings Only | Recall@10: 0.2715 | NDCG@10: 0.1967\n"
     ]
    },
    {
     "data": {
      "application/vnd.jupyter.widget-view+json": {
       "model_id": "3a96e20bc2624d7aa7f8dd6a9ad2bba6",
       "version_major": 2,
       "version_minor": 0
      },
      "text/plain": [
       "Evaluating:   0%|          | 0/2000 [00:00<?, ?it/s]"
      ]
     },
     "metadata": {},
     "output_type": "display_data"
    },
    {
     "name": "stdout",
     "output_type": "stream",
     "text": [
      "Epoch 04 | Ratings Only | Recall@10: 0.3185 | NDCG@10: 0.2325\n"
     ]
    },
    {
     "data": {
      "application/vnd.jupyter.widget-view+json": {
       "model_id": "25c923a1a2e84541b6f93ae3ef78bb97",
       "version_major": 2,
       "version_minor": 0
      },
      "text/plain": [
       "Evaluating:   0%|          | 0/2000 [00:00<?, ?it/s]"
      ]
     },
     "metadata": {},
     "output_type": "display_data"
    },
    {
     "name": "stdout",
     "output_type": "stream",
     "text": [
      "Epoch 05 | Ratings Only | Recall@10: 0.3520 | NDCG@10: 0.2606\n"
     ]
    },
    {
     "data": {
      "application/vnd.jupyter.widget-view+json": {
       "model_id": "1a670be2ebe24a25aca21005390c96e8",
       "version_major": 2,
       "version_minor": 0
      },
      "text/plain": [
       "Evaluating:   0%|          | 0/2000 [00:00<?, ?it/s]"
      ]
     },
     "metadata": {},
     "output_type": "display_data"
    },
    {
     "name": "stdout",
     "output_type": "stream",
     "text": [
      "Epoch 06 | Ratings Only | Recall@10: 0.3820 | NDCG@10: 0.2774\n"
     ]
    },
    {
     "data": {
      "application/vnd.jupyter.widget-view+json": {
       "model_id": "4bf39848e9474e23a0f0aa36a18c2abb",
       "version_major": 2,
       "version_minor": 0
      },
      "text/plain": [
       "Evaluating:   0%|          | 0/2000 [00:00<?, ?it/s]"
      ]
     },
     "metadata": {},
     "output_type": "display_data"
    },
    {
     "name": "stdout",
     "output_type": "stream",
     "text": [
      "Epoch 07 | Ratings Only | Recall@10: 0.3900 | NDCG@10: 0.2899\n"
     ]
    },
    {
     "data": {
      "application/vnd.jupyter.widget-view+json": {
       "model_id": "a57582cb524e4428a17119c20fdf8c2e",
       "version_major": 2,
       "version_minor": 0
      },
      "text/plain": [
       "Evaluating:   0%|          | 0/2000 [00:00<?, ?it/s]"
      ]
     },
     "metadata": {},
     "output_type": "display_data"
    },
    {
     "name": "stdout",
     "output_type": "stream",
     "text": [
      "Epoch 08 | Ratings Only | Recall@10: 0.4160 | NDCG@10: 0.3018\n"
     ]
    },
    {
     "data": {
      "application/vnd.jupyter.widget-view+json": {
       "model_id": "eef9bc5576924c9bb8dab21ba619b1af",
       "version_major": 2,
       "version_minor": 0
      },
      "text/plain": [
       "Evaluating:   0%|          | 0/2000 [00:00<?, ?it/s]"
      ]
     },
     "metadata": {},
     "output_type": "display_data"
    },
    {
     "name": "stdout",
     "output_type": "stream",
     "text": [
      "Epoch 09 | Ratings Only | Recall@10: 0.4265 | NDCG@10: 0.3078\n"
     ]
    },
    {
     "data": {
      "application/vnd.jupyter.widget-view+json": {
       "model_id": "21aa6636c22640218d2608953ee9c43b",
       "version_major": 2,
       "version_minor": 0
      },
      "text/plain": [
       "Evaluating:   0%|          | 0/2000 [00:00<?, ?it/s]"
      ]
     },
     "metadata": {},
     "output_type": "display_data"
    },
    {
     "name": "stdout",
     "output_type": "stream",
     "text": [
      "Epoch 10 | Ratings Only | Recall@10: 0.4345 | NDCG@10: 0.3065\n"
     ]
    },
    {
     "data": {
      "application/vnd.jupyter.widget-view+json": {
       "model_id": "b6b0d1a21e4444d6845230485b15d9f0",
       "version_major": 2,
       "version_minor": 0
      },
      "text/plain": [
       "Evaluating:   0%|          | 0/2000 [00:00<?, ?it/s]"
      ]
     },
     "metadata": {},
     "output_type": "display_data"
    },
    {
     "name": "stdout",
     "output_type": "stream",
     "text": [
      "Epoch 11 | Ratings Only | Recall@10: 0.4415 | NDCG@10: 0.3100\n"
     ]
    },
    {
     "data": {
      "application/vnd.jupyter.widget-view+json": {
       "model_id": "42a8b70ead2b4e9c9dcb337e0c21f96e",
       "version_major": 2,
       "version_minor": 0
      },
      "text/plain": [
       "Evaluating:   0%|          | 0/2000 [00:00<?, ?it/s]"
      ]
     },
     "metadata": {},
     "output_type": "display_data"
    },
    {
     "name": "stdout",
     "output_type": "stream",
     "text": [
      "Epoch 12 | Ratings Only | Recall@10: 0.4450 | NDCG@10: 0.3061\n"
     ]
    },
    {
     "data": {
      "application/vnd.jupyter.widget-view+json": {
       "model_id": "24a7d2c2672642d2a914f620c2207e86",
       "version_major": 2,
       "version_minor": 0
      },
      "text/plain": [
       "Evaluating:   0%|          | 0/2000 [00:00<?, ?it/s]"
      ]
     },
     "metadata": {},
     "output_type": "display_data"
    },
    {
     "name": "stdout",
     "output_type": "stream",
     "text": [
      "Epoch 13 | Ratings Only | Recall@10: 0.4360 | NDCG@10: 0.3035\n"
     ]
    },
    {
     "data": {
      "application/vnd.jupyter.widget-view+json": {
       "model_id": "8858bcf13b7a4e14a3555e4bd9fa1978",
       "version_major": 2,
       "version_minor": 0
      },
      "text/plain": [
       "Evaluating:   0%|          | 0/2000 [00:00<?, ?it/s]"
      ]
     },
     "metadata": {},
     "output_type": "display_data"
    },
    {
     "name": "stdout",
     "output_type": "stream",
     "text": [
      "Epoch 14 | Ratings Only | Recall@10: 0.4275 | NDCG@10: 0.2972\n"
     ]
    },
    {
     "data": {
      "application/vnd.jupyter.widget-view+json": {
       "model_id": "5ff10024a0be480499f9315bc7109af6",
       "version_major": 2,
       "version_minor": 0
      },
      "text/plain": [
       "Evaluating:   0%|          | 0/2000 [00:00<?, ?it/s]"
      ]
     },
     "metadata": {},
     "output_type": "display_data"
    },
    {
     "name": "stdout",
     "output_type": "stream",
     "text": [
      "Epoch 15 | Ratings Only | Recall@10: 0.4240 | NDCG@10: 0.2938\n"
     ]
    },
    {
     "data": {
      "application/vnd.jupyter.widget-view+json": {
       "model_id": "79012e2f0dfc4704ba95de4bd037c9aa",
       "version_major": 2,
       "version_minor": 0
      },
      "text/plain": [
       "Evaluating:   0%|          | 0/2000 [00:00<?, ?it/s]"
      ]
     },
     "metadata": {},
     "output_type": "display_data"
    },
    {
     "name": "stdout",
     "output_type": "stream",
     "text": [
      "Epoch 16 | Ratings Only | Recall@10: 0.4290 | NDCG@10: 0.2977\n"
     ]
    },
    {
     "data": {
      "application/vnd.jupyter.widget-view+json": {
       "model_id": "3cafb73a0ad3474bb2ba233f88106057",
       "version_major": 2,
       "version_minor": 0
      },
      "text/plain": [
       "Evaluating:   0%|          | 0/2000 [00:00<?, ?it/s]"
      ]
     },
     "metadata": {},
     "output_type": "display_data"
    },
    {
     "name": "stdout",
     "output_type": "stream",
     "text": [
      "Epoch 17 | Ratings Only | Recall@10: 0.4360 | NDCG@10: 0.2959\n"
     ]
    },
    {
     "data": {
      "application/vnd.jupyter.widget-view+json": {
       "model_id": "664604e56ee440dfaf6d5d91267f47d7",
       "version_major": 2,
       "version_minor": 0
      },
      "text/plain": [
       "Evaluating:   0%|          | 0/2000 [00:00<?, ?it/s]"
      ]
     },
     "metadata": {},
     "output_type": "display_data"
    },
    {
     "name": "stdout",
     "output_type": "stream",
     "text": [
      "Epoch 18 | Ratings Only | Recall@10: 0.4285 | NDCG@10: 0.2846\n"
     ]
    },
    {
     "data": {
      "application/vnd.jupyter.widget-view+json": {
       "model_id": "f11d20835eff4c5bbd3cfc8f7bce949e",
       "version_major": 2,
       "version_minor": 0
      },
      "text/plain": [
       "Evaluating:   0%|          | 0/2000 [00:00<?, ?it/s]"
      ]
     },
     "metadata": {},
     "output_type": "display_data"
    },
    {
     "name": "stdout",
     "output_type": "stream",
     "text": [
      "Epoch 19 | Ratings Only | Recall@10: 0.4395 | NDCG@10: 0.2939\n"
     ]
    },
    {
     "data": {
      "application/vnd.jupyter.widget-view+json": {
       "model_id": "84b1341cfe384232b83a8f5cf57d4960",
       "version_major": 2,
       "version_minor": 0
      },
      "text/plain": [
       "Evaluating:   0%|          | 0/2000 [00:00<?, ?it/s]"
      ]
     },
     "metadata": {},
     "output_type": "display_data"
    },
    {
     "name": "stdout",
     "output_type": "stream",
     "text": [
      "Epoch 20 | Ratings Only | Recall@10: 0.4415 | NDCG@10: 0.2906\n"
     ]
    },
    {
     "data": {
      "application/vnd.jupyter.widget-view+json": {
       "model_id": "6cb152050198448798e439ed0933d81a",
       "version_major": 2,
       "version_minor": 0
      },
      "text/plain": [
       "Evaluating:   0%|          | 0/2000 [00:00<?, ?it/s]"
      ]
     },
     "metadata": {},
     "output_type": "display_data"
    },
    {
     "name": "stdout",
     "output_type": "stream",
     "text": [
      "Epoch 21 | Ratings Only | Recall@10: 0.4455 | NDCG@10: 0.2975\n"
     ]
    },
    {
     "data": {
      "application/vnd.jupyter.widget-view+json": {
       "model_id": "0c8dde9218c8462fad0477471b3213d2",
       "version_major": 2,
       "version_minor": 0
      },
      "text/plain": [
       "Evaluating:   0%|          | 0/2000 [00:00<?, ?it/s]"
      ]
     },
     "metadata": {},
     "output_type": "display_data"
    },
    {
     "name": "stdout",
     "output_type": "stream",
     "text": [
      "Epoch 22 | Ratings Only | Recall@10: 0.4495 | NDCG@10: 0.2976\n"
     ]
    },
    {
     "data": {
      "application/vnd.jupyter.widget-view+json": {
       "model_id": "ae2393eb0eaa4605a35d331acfe18430",
       "version_major": 2,
       "version_minor": 0
      },
      "text/plain": [
       "Evaluating:   0%|          | 0/2000 [00:00<?, ?it/s]"
      ]
     },
     "metadata": {},
     "output_type": "display_data"
    },
    {
     "name": "stdout",
     "output_type": "stream",
     "text": [
      "Epoch 23 | Ratings Only | Recall@10: 0.4455 | NDCG@10: 0.2982\n"
     ]
    },
    {
     "data": {
      "application/vnd.jupyter.widget-view+json": {
       "model_id": "234d13ea82dd43a6b954879faa82f6e8",
       "version_major": 2,
       "version_minor": 0
      },
      "text/plain": [
       "Evaluating:   0%|          | 0/2000 [00:00<?, ?it/s]"
      ]
     },
     "metadata": {},
     "output_type": "display_data"
    },
    {
     "name": "stdout",
     "output_type": "stream",
     "text": [
      "Epoch 24 | Ratings Only | Recall@10: 0.4430 | NDCG@10: 0.2922\n"
     ]
    },
    {
     "data": {
      "application/vnd.jupyter.widget-view+json": {
       "model_id": "16e1a50e004d4b7cb359a2a2ccafbe7f",
       "version_major": 2,
       "version_minor": 0
      },
      "text/plain": [
       "Evaluating:   0%|          | 0/2000 [00:00<?, ?it/s]"
      ]
     },
     "metadata": {},
     "output_type": "display_data"
    },
    {
     "name": "stdout",
     "output_type": "stream",
     "text": [
      "Epoch 25 | Ratings Only | Recall@10: 0.4400 | NDCG@10: 0.2936\n"
     ]
    },
    {
     "data": {
      "application/vnd.jupyter.widget-view+json": {
       "model_id": "9290267f95614042b9d490c40ae958c1",
       "version_major": 2,
       "version_minor": 0
      },
      "text/plain": [
       "Evaluating:   0%|          | 0/2000 [00:00<?, ?it/s]"
      ]
     },
     "metadata": {},
     "output_type": "display_data"
    },
    {
     "name": "stdout",
     "output_type": "stream",
     "text": [
      "Epoch 26 | Ratings Only | Recall@10: 0.4420 | NDCG@10: 0.2961\n"
     ]
    },
    {
     "data": {
      "application/vnd.jupyter.widget-view+json": {
       "model_id": "b5486a065eb243e2a406334a22c6e42e",
       "version_major": 2,
       "version_minor": 0
      },
      "text/plain": [
       "Evaluating:   0%|          | 0/2000 [00:00<?, ?it/s]"
      ]
     },
     "metadata": {},
     "output_type": "display_data"
    },
    {
     "name": "stdout",
     "output_type": "stream",
     "text": [
      "Epoch 27 | Ratings Only | Recall@10: 0.4400 | NDCG@10: 0.2982\n"
     ]
    },
    {
     "data": {
      "application/vnd.jupyter.widget-view+json": {
       "model_id": "93ebe1b6bb68409a8912058e0bfc8127",
       "version_major": 2,
       "version_minor": 0
      },
      "text/plain": [
       "Evaluating:   0%|          | 0/2000 [00:00<?, ?it/s]"
      ]
     },
     "metadata": {},
     "output_type": "display_data"
    },
    {
     "name": "stdout",
     "output_type": "stream",
     "text": [
      "Epoch 28 | Ratings Only | Recall@10: 0.4320 | NDCG@10: 0.2893\n"
     ]
    },
    {
     "data": {
      "application/vnd.jupyter.widget-view+json": {
       "model_id": "5f9ec7517a3c450da6a715b9dac6be7d",
       "version_major": 2,
       "version_minor": 0
      },
      "text/plain": [
       "Evaluating:   0%|          | 0/2000 [00:00<?, ?it/s]"
      ]
     },
     "metadata": {},
     "output_type": "display_data"
    },
    {
     "name": "stdout",
     "output_type": "stream",
     "text": [
      "Epoch 29 | Ratings Only | Recall@10: 0.4320 | NDCG@10: 0.2889\n"
     ]
    },
    {
     "data": {
      "application/vnd.jupyter.widget-view+json": {
       "model_id": "554b326d526048febd0b9bdce86614d0",
       "version_major": 2,
       "version_minor": 0
      },
      "text/plain": [
       "Evaluating:   0%|          | 0/2000 [00:00<?, ?it/s]"
      ]
     },
     "metadata": {},
     "output_type": "display_data"
    },
    {
     "name": "stdout",
     "output_type": "stream",
     "text": [
      "Epoch 30 | Ratings Only | Recall@10: 0.4380 | NDCG@10: 0.3009\n"
     ]
    },
    {
     "data": {
      "application/vnd.jupyter.widget-view+json": {
       "model_id": "b9692daafe55447ab9410c5b68b82a00",
       "version_major": 2,
       "version_minor": 0
      },
      "text/plain": [
       "Evaluating:   0%|          | 0/2000 [00:00<?, ?it/s]"
      ]
     },
     "metadata": {},
     "output_type": "display_data"
    },
    {
     "name": "stdout",
     "output_type": "stream",
     "text": [
      "Epoch 31 | Ratings Only | Recall@10: 0.4220 | NDCG@10: 0.2885\n"
     ]
    },
    {
     "data": {
      "application/vnd.jupyter.widget-view+json": {
       "model_id": "ecb4fb36bf3249728c3adff8ba8d135a",
       "version_major": 2,
       "version_minor": 0
      },
      "text/plain": [
       "Evaluating:   0%|          | 0/2000 [00:00<?, ?it/s]"
      ]
     },
     "metadata": {},
     "output_type": "display_data"
    },
    {
     "name": "stdout",
     "output_type": "stream",
     "text": [
      "Epoch 32 | Ratings Only | Recall@10: 0.4210 | NDCG@10: 0.2884\n"
     ]
    },
    {
     "data": {
      "application/vnd.jupyter.widget-view+json": {
       "model_id": "d4142817ea3541c6b6be9b2c49f76f6b",
       "version_major": 2,
       "version_minor": 0
      },
      "text/plain": [
       "Evaluating:   0%|          | 0/2000 [00:00<?, ?it/s]"
      ]
     },
     "metadata": {},
     "output_type": "display_data"
    },
    {
     "name": "stdout",
     "output_type": "stream",
     "text": [
      "Epoch 33 | Ratings Only | Recall@10: 0.4260 | NDCG@10: 0.2903\n"
     ]
    },
    {
     "data": {
      "application/vnd.jupyter.widget-view+json": {
       "model_id": "26140c0d49394576a41e5a67192d8db1",
       "version_major": 2,
       "version_minor": 0
      },
      "text/plain": [
       "Evaluating:   0%|          | 0/2000 [00:00<?, ?it/s]"
      ]
     },
     "metadata": {},
     "output_type": "display_data"
    },
    {
     "name": "stdout",
     "output_type": "stream",
     "text": [
      "Epoch 34 | Ratings Only | Recall@10: 0.4270 | NDCG@10: 0.2918\n"
     ]
    },
    {
     "data": {
      "application/vnd.jupyter.widget-view+json": {
       "model_id": "7bbc15e1d5e3402494d935c49139dabb",
       "version_major": 2,
       "version_minor": 0
      },
      "text/plain": [
       "Evaluating:   0%|          | 0/2000 [00:00<?, ?it/s]"
      ]
     },
     "metadata": {},
     "output_type": "display_data"
    },
    {
     "name": "stdout",
     "output_type": "stream",
     "text": [
      "Epoch 35 | Ratings Only | Recall@10: 0.4305 | NDCG@10: 0.2864\n"
     ]
    },
    {
     "data": {
      "application/vnd.jupyter.widget-view+json": {
       "model_id": "ce55b33aebf34a9ba7ae35784af32e09",
       "version_major": 2,
       "version_minor": 0
      },
      "text/plain": [
       "Evaluating:   0%|          | 0/2000 [00:00<?, ?it/s]"
      ]
     },
     "metadata": {},
     "output_type": "display_data"
    },
    {
     "name": "stdout",
     "output_type": "stream",
     "text": [
      "Epoch 36 | Ratings Only | Recall@10: 0.4265 | NDCG@10: 0.2913\n"
     ]
    },
    {
     "data": {
      "application/vnd.jupyter.widget-view+json": {
       "model_id": "47b033bf84d44d949ba46202d464d068",
       "version_major": 2,
       "version_minor": 0
      },
      "text/plain": [
       "Evaluating:   0%|          | 0/2000 [00:00<?, ?it/s]"
      ]
     },
     "metadata": {},
     "output_type": "display_data"
    },
    {
     "name": "stdout",
     "output_type": "stream",
     "text": [
      "Epoch 37 | Ratings Only | Recall@10: 0.4245 | NDCG@10: 0.2922\n"
     ]
    },
    {
     "data": {
      "application/vnd.jupyter.widget-view+json": {
       "model_id": "1737ac6995584996a311be541a83090a",
       "version_major": 2,
       "version_minor": 0
      },
      "text/plain": [
       "Evaluating:   0%|          | 0/2000 [00:00<?, ?it/s]"
      ]
     },
     "metadata": {},
     "output_type": "display_data"
    },
    {
     "name": "stdout",
     "output_type": "stream",
     "text": [
      "Epoch 38 | Ratings Only | Recall@10: 0.4195 | NDCG@10: 0.2930\n"
     ]
    },
    {
     "data": {
      "application/vnd.jupyter.widget-view+json": {
       "model_id": "6dfa278ca5fd4168b4e282de29e97947",
       "version_major": 2,
       "version_minor": 0
      },
      "text/plain": [
       "Evaluating:   0%|          | 0/2000 [00:00<?, ?it/s]"
      ]
     },
     "metadata": {},
     "output_type": "display_data"
    },
    {
     "name": "stdout",
     "output_type": "stream",
     "text": [
      "Epoch 39 | Ratings Only | Recall@10: 0.4190 | NDCG@10: 0.2978\n"
     ]
    },
    {
     "data": {
      "application/vnd.jupyter.widget-view+json": {
       "model_id": "72d42294e89a4479893532088c6749fc",
       "version_major": 2,
       "version_minor": 0
      },
      "text/plain": [
       "Evaluating:   0%|          | 0/2000 [00:00<?, ?it/s]"
      ]
     },
     "metadata": {},
     "output_type": "display_data"
    },
    {
     "name": "stdout",
     "output_type": "stream",
     "text": [
      "Epoch 40 | Ratings Only | Recall@10: 0.4235 | NDCG@10: 0.2978\n"
     ]
    },
    {
     "data": {
      "application/vnd.jupyter.widget-view+json": {
       "model_id": "4e3ae635faa84de58a301a48511b7431",
       "version_major": 2,
       "version_minor": 0
      },
      "text/plain": [
       "Evaluating:   0%|          | 0/2000 [00:00<?, ?it/s]"
      ]
     },
     "metadata": {},
     "output_type": "display_data"
    },
    {
     "name": "stdout",
     "output_type": "stream",
     "text": [
      "Epoch 41 | Ratings Only | Recall@10: 0.4270 | NDCG@10: 0.2929\n"
     ]
    },
    {
     "data": {
      "application/vnd.jupyter.widget-view+json": {
       "model_id": "1834a9a107e64b1a9e606fa9fe4cd9b7",
       "version_major": 2,
       "version_minor": 0
      },
      "text/plain": [
       "Evaluating:   0%|          | 0/2000 [00:00<?, ?it/s]"
      ]
     },
     "metadata": {},
     "output_type": "display_data"
    },
    {
     "name": "stdout",
     "output_type": "stream",
     "text": [
      "Epoch 42 | Ratings Only | Recall@10: 0.4275 | NDCG@10: 0.2985\n"
     ]
    },
    {
     "data": {
      "application/vnd.jupyter.widget-view+json": {
       "model_id": "fd6670e5c4cb4dc48cf82484f0466837",
       "version_major": 2,
       "version_minor": 0
      },
      "text/plain": [
       "Evaluating:   0%|          | 0/2000 [00:00<?, ?it/s]"
      ]
     },
     "metadata": {},
     "output_type": "display_data"
    },
    {
     "name": "stdout",
     "output_type": "stream",
     "text": [
      "Epoch 43 | Ratings Only | Recall@10: 0.4215 | NDCG@10: 0.2957\n"
     ]
    },
    {
     "data": {
      "application/vnd.jupyter.widget-view+json": {
       "model_id": "6a5c5425a5b849fe80a4fa43e38d7f97",
       "version_major": 2,
       "version_minor": 0
      },
      "text/plain": [
       "Evaluating:   0%|          | 0/2000 [00:00<?, ?it/s]"
      ]
     },
     "metadata": {},
     "output_type": "display_data"
    },
    {
     "name": "stdout",
     "output_type": "stream",
     "text": [
      "Epoch 44 | Ratings Only | Recall@10: 0.4155 | NDCG@10: 0.2937\n"
     ]
    },
    {
     "data": {
      "application/vnd.jupyter.widget-view+json": {
       "model_id": "f9728a9fc3fa46a797d8b38ba291596a",
       "version_major": 2,
       "version_minor": 0
      },
      "text/plain": [
       "Evaluating:   0%|          | 0/2000 [00:00<?, ?it/s]"
      ]
     },
     "metadata": {},
     "output_type": "display_data"
    },
    {
     "name": "stdout",
     "output_type": "stream",
     "text": [
      "Epoch 45 | Ratings Only | Recall@10: 0.4190 | NDCG@10: 0.2929\n"
     ]
    },
    {
     "data": {
      "application/vnd.jupyter.widget-view+json": {
       "model_id": "df80f33a243a4d77b44872a18408d644",
       "version_major": 2,
       "version_minor": 0
      },
      "text/plain": [
       "Evaluating:   0%|          | 0/2000 [00:00<?, ?it/s]"
      ]
     },
     "metadata": {},
     "output_type": "display_data"
    },
    {
     "name": "stdout",
     "output_type": "stream",
     "text": [
      "Epoch 46 | Ratings Only | Recall@10: 0.4165 | NDCG@10: 0.2924\n"
     ]
    },
    {
     "data": {
      "application/vnd.jupyter.widget-view+json": {
       "model_id": "e4f10b99add44d77bf8b10ca3dc8458d",
       "version_major": 2,
       "version_minor": 0
      },
      "text/plain": [
       "Evaluating:   0%|          | 0/2000 [00:00<?, ?it/s]"
      ]
     },
     "metadata": {},
     "output_type": "display_data"
    },
    {
     "name": "stdout",
     "output_type": "stream",
     "text": [
      "Epoch 47 | Ratings Only | Recall@10: 0.4145 | NDCG@10: 0.2910\n"
     ]
    },
    {
     "data": {
      "application/vnd.jupyter.widget-view+json": {
       "model_id": "a37047294cbb47f28b967c85bd9f2eb9",
       "version_major": 2,
       "version_minor": 0
      },
      "text/plain": [
       "Evaluating:   0%|          | 0/2000 [00:00<?, ?it/s]"
      ]
     },
     "metadata": {},
     "output_type": "display_data"
    },
    {
     "name": "stdout",
     "output_type": "stream",
     "text": [
      "Epoch 48 | Ratings Only | Recall@10: 0.4170 | NDCG@10: 0.2841\n"
     ]
    },
    {
     "data": {
      "application/vnd.jupyter.widget-view+json": {
       "model_id": "d939a74642be4bd79139915e61689bef",
       "version_major": 2,
       "version_minor": 0
      },
      "text/plain": [
       "Evaluating:   0%|          | 0/2000 [00:00<?, ?it/s]"
      ]
     },
     "metadata": {},
     "output_type": "display_data"
    },
    {
     "name": "stdout",
     "output_type": "stream",
     "text": [
      "Epoch 49 | Ratings Only | Recall@10: 0.4145 | NDCG@10: 0.2958\n"
     ]
    },
    {
     "data": {
      "application/vnd.jupyter.widget-view+json": {
       "model_id": "da1337b1d5f64009a4ef619abd84d78b",
       "version_major": 2,
       "version_minor": 0
      },
      "text/plain": [
       "Evaluating:   0%|          | 0/2000 [00:00<?, ?it/s]"
      ]
     },
     "metadata": {},
     "output_type": "display_data"
    },
    {
     "name": "stdout",
     "output_type": "stream",
     "text": [
      "Epoch 50 | Ratings Only | Recall@10: 0.4050 | NDCG@10: 0.2842\n",
      "Loading data for experiment: Limited Features...\n"
     ]
    },
    {
     "name": "stderr",
     "output_type": "stream",
     "text": [
      "C:\\Users\\a.khajooei\\AppData\\Local\\Temp\\ipykernel_13344\\1830394765.py:54: SettingWithCopyWarning: \n",
      "A value is trying to be set on a copy of a slice from a DataFrame.\n",
      "Try using .loc[row_indexer,col_indexer] = value instead\n",
      "\n",
      "See the caveats in the documentation: https://pandas.pydata.org/pandas-docs/stable/user_guide/indexing.html#returning-a-view-versus-a-copy\n",
      "  users_df['Age'] = users_df['Age'].fillna(users_df['Age'].median()).astype(int)\n"
     ]
    },
    {
     "data": {
      "application/vnd.jupyter.widget-view+json": {
       "model_id": "7d0aef25c1ff4705af125393a36eb218",
       "version_major": 2,
       "version_minor": 0
      },
      "text/plain": [
       "Training 'Limited Features':   0%|          | 0/50 [00:00<?, ?it/s]"
      ]
     },
     "metadata": {},
     "output_type": "display_data"
    },
    {
     "data": {
      "application/vnd.jupyter.widget-view+json": {
       "model_id": "5a4c164a31104b88ba58fe41b785fcb9",
       "version_major": 2,
       "version_minor": 0
      },
      "text/plain": [
       "Evaluating:   0%|          | 0/2000 [00:00<?, ?it/s]"
      ]
     },
     "metadata": {},
     "output_type": "display_data"
    },
    {
     "name": "stdout",
     "output_type": "stream",
     "text": [
      "Epoch 01 | Limited Features | Recall@10: 0.1805 | NDCG@10: 0.1012\n"
     ]
    },
    {
     "data": {
      "application/vnd.jupyter.widget-view+json": {
       "model_id": "81eeccdfaf87448e95c41e1d1e05b9d2",
       "version_major": 2,
       "version_minor": 0
      },
      "text/plain": [
       "Evaluating:   0%|          | 0/2000 [00:00<?, ?it/s]"
      ]
     },
     "metadata": {},
     "output_type": "display_data"
    },
    {
     "name": "stdout",
     "output_type": "stream",
     "text": [
      "Epoch 02 | Limited Features | Recall@10: 0.2705 | NDCG@10: 0.1803\n"
     ]
    },
    {
     "data": {
      "application/vnd.jupyter.widget-view+json": {
       "model_id": "43e9e4162ceb44458b62e3816ff30231",
       "version_major": 2,
       "version_minor": 0
      },
      "text/plain": [
       "Evaluating:   0%|          | 0/2000 [00:00<?, ?it/s]"
      ]
     },
     "metadata": {},
     "output_type": "display_data"
    },
    {
     "name": "stdout",
     "output_type": "stream",
     "text": [
      "Epoch 03 | Limited Features | Recall@10: 0.3355 | NDCG@10: 0.2484\n"
     ]
    },
    {
     "data": {
      "application/vnd.jupyter.widget-view+json": {
       "model_id": "b5b1dacd77af4d148d0ef87008a27471",
       "version_major": 2,
       "version_minor": 0
      },
      "text/plain": [
       "Evaluating:   0%|          | 0/2000 [00:00<?, ?it/s]"
      ]
     },
     "metadata": {},
     "output_type": "display_data"
    },
    {
     "name": "stdout",
     "output_type": "stream",
     "text": [
      "Epoch 04 | Limited Features | Recall@10: 0.3710 | NDCG@10: 0.2856\n"
     ]
    },
    {
     "data": {
      "application/vnd.jupyter.widget-view+json": {
       "model_id": "323d1b1441234cd69f67bfc8ee196d98",
       "version_major": 2,
       "version_minor": 0
      },
      "text/plain": [
       "Evaluating:   0%|          | 0/2000 [00:00<?, ?it/s]"
      ]
     },
     "metadata": {},
     "output_type": "display_data"
    },
    {
     "name": "stdout",
     "output_type": "stream",
     "text": [
      "Epoch 05 | Limited Features | Recall@10: 0.4250 | NDCG@10: 0.3285\n"
     ]
    },
    {
     "data": {
      "application/vnd.jupyter.widget-view+json": {
       "model_id": "20df9339d4ba40e29eaa3bd055526ea0",
       "version_major": 2,
       "version_minor": 0
      },
      "text/plain": [
       "Evaluating:   0%|          | 0/2000 [00:00<?, ?it/s]"
      ]
     },
     "metadata": {},
     "output_type": "display_data"
    },
    {
     "name": "stdout",
     "output_type": "stream",
     "text": [
      "Epoch 06 | Limited Features | Recall@10: 0.4585 | NDCG@10: 0.3622\n"
     ]
    },
    {
     "data": {
      "application/vnd.jupyter.widget-view+json": {
       "model_id": "fc6062165c524eafa76ce91b27fa8f92",
       "version_major": 2,
       "version_minor": 0
      },
      "text/plain": [
       "Evaluating:   0%|          | 0/2000 [00:00<?, ?it/s]"
      ]
     },
     "metadata": {},
     "output_type": "display_data"
    },
    {
     "name": "stdout",
     "output_type": "stream",
     "text": [
      "Epoch 07 | Limited Features | Recall@10: 0.5080 | NDCG@10: 0.4011\n"
     ]
    },
    {
     "data": {
      "application/vnd.jupyter.widget-view+json": {
       "model_id": "4fb92550142241fa8475ee1d07de7434",
       "version_major": 2,
       "version_minor": 0
      },
      "text/plain": [
       "Evaluating:   0%|          | 0/2000 [00:00<?, ?it/s]"
      ]
     },
     "metadata": {},
     "output_type": "display_data"
    },
    {
     "name": "stdout",
     "output_type": "stream",
     "text": [
      "Epoch 08 | Limited Features | Recall@10: 0.5390 | NDCG@10: 0.4224\n"
     ]
    },
    {
     "data": {
      "application/vnd.jupyter.widget-view+json": {
       "model_id": "2626f918264f437bad0f58182e238fa7",
       "version_major": 2,
       "version_minor": 0
      },
      "text/plain": [
       "Evaluating:   0%|          | 0/2000 [00:00<?, ?it/s]"
      ]
     },
     "metadata": {},
     "output_type": "display_data"
    },
    {
     "name": "stdout",
     "output_type": "stream",
     "text": [
      "Epoch 09 | Limited Features | Recall@10: 0.5775 | NDCG@10: 0.4521\n"
     ]
    },
    {
     "data": {
      "application/vnd.jupyter.widget-view+json": {
       "model_id": "e5ea224bd4264ebaaaf806e23ebf3bdf",
       "version_major": 2,
       "version_minor": 0
      },
      "text/plain": [
       "Evaluating:   0%|          | 0/2000 [00:00<?, ?it/s]"
      ]
     },
     "metadata": {},
     "output_type": "display_data"
    },
    {
     "name": "stdout",
     "output_type": "stream",
     "text": [
      "Epoch 10 | Limited Features | Recall@10: 0.6250 | NDCG@10: 0.4858\n"
     ]
    },
    {
     "data": {
      "application/vnd.jupyter.widget-view+json": {
       "model_id": "2bbb109508714e0291826a8032f59649",
       "version_major": 2,
       "version_minor": 0
      },
      "text/plain": [
       "Evaluating:   0%|          | 0/2000 [00:00<?, ?it/s]"
      ]
     },
     "metadata": {},
     "output_type": "display_data"
    },
    {
     "name": "stdout",
     "output_type": "stream",
     "text": [
      "Epoch 11 | Limited Features | Recall@10: 0.6420 | NDCG@10: 0.5099\n"
     ]
    },
    {
     "data": {
      "application/vnd.jupyter.widget-view+json": {
       "model_id": "27ab764a15d24806a1fa027540c407ae",
       "version_major": 2,
       "version_minor": 0
      },
      "text/plain": [
       "Evaluating:   0%|          | 0/2000 [00:00<?, ?it/s]"
      ]
     },
     "metadata": {},
     "output_type": "display_data"
    },
    {
     "name": "stdout",
     "output_type": "stream",
     "text": [
      "Epoch 12 | Limited Features | Recall@10: 0.6695 | NDCG@10: 0.5232\n"
     ]
    },
    {
     "data": {
      "application/vnd.jupyter.widget-view+json": {
       "model_id": "c3087fa883bb4b92b10245d8d74322e7",
       "version_major": 2,
       "version_minor": 0
      },
      "text/plain": [
       "Evaluating:   0%|          | 0/2000 [00:00<?, ?it/s]"
      ]
     },
     "metadata": {},
     "output_type": "display_data"
    },
    {
     "name": "stdout",
     "output_type": "stream",
     "text": [
      "Epoch 13 | Limited Features | Recall@10: 0.6930 | NDCG@10: 0.5352\n"
     ]
    },
    {
     "data": {
      "application/vnd.jupyter.widget-view+json": {
       "model_id": "f81e5cb7099047868fda1c92322290ea",
       "version_major": 2,
       "version_minor": 0
      },
      "text/plain": [
       "Evaluating:   0%|          | 0/2000 [00:00<?, ?it/s]"
      ]
     },
     "metadata": {},
     "output_type": "display_data"
    },
    {
     "name": "stdout",
     "output_type": "stream",
     "text": [
      "Epoch 14 | Limited Features | Recall@10: 0.7165 | NDCG@10: 0.5501\n"
     ]
    },
    {
     "data": {
      "application/vnd.jupyter.widget-view+json": {
       "model_id": "9b8e946bc0c6462da883b4cacfb49622",
       "version_major": 2,
       "version_minor": 0
      },
      "text/plain": [
       "Evaluating:   0%|          | 0/2000 [00:00<?, ?it/s]"
      ]
     },
     "metadata": {},
     "output_type": "display_data"
    },
    {
     "name": "stdout",
     "output_type": "stream",
     "text": [
      "Epoch 15 | Limited Features | Recall@10: 0.7295 | NDCG@10: 0.5565\n"
     ]
    },
    {
     "data": {
      "application/vnd.jupyter.widget-view+json": {
       "model_id": "85e63b4a34b74ba28e1544138e1822b9",
       "version_major": 2,
       "version_minor": 0
      },
      "text/plain": [
       "Evaluating:   0%|          | 0/2000 [00:00<?, ?it/s]"
      ]
     },
     "metadata": {},
     "output_type": "display_data"
    },
    {
     "name": "stdout",
     "output_type": "stream",
     "text": [
      "Epoch 16 | Limited Features | Recall@10: 0.7325 | NDCG@10: 0.5671\n"
     ]
    },
    {
     "data": {
      "application/vnd.jupyter.widget-view+json": {
       "model_id": "2f0167cecff745e382715fac51226a21",
       "version_major": 2,
       "version_minor": 0
      },
      "text/plain": [
       "Evaluating:   0%|          | 0/2000 [00:00<?, ?it/s]"
      ]
     },
     "metadata": {},
     "output_type": "display_data"
    },
    {
     "name": "stdout",
     "output_type": "stream",
     "text": [
      "Epoch 17 | Limited Features | Recall@10: 0.7455 | NDCG@10: 0.5734\n"
     ]
    },
    {
     "data": {
      "application/vnd.jupyter.widget-view+json": {
       "model_id": "fffb9284190c4bb1895947c9870ced4c",
       "version_major": 2,
       "version_minor": 0
      },
      "text/plain": [
       "Evaluating:   0%|          | 0/2000 [00:00<?, ?it/s]"
      ]
     },
     "metadata": {},
     "output_type": "display_data"
    },
    {
     "name": "stdout",
     "output_type": "stream",
     "text": [
      "Epoch 18 | Limited Features | Recall@10: 0.7440 | NDCG@10: 0.5832\n"
     ]
    },
    {
     "data": {
      "application/vnd.jupyter.widget-view+json": {
       "model_id": "5332af1933fb4d6f80823e9c89d40ba6",
       "version_major": 2,
       "version_minor": 0
      },
      "text/plain": [
       "Evaluating:   0%|          | 0/2000 [00:00<?, ?it/s]"
      ]
     },
     "metadata": {},
     "output_type": "display_data"
    },
    {
     "name": "stdout",
     "output_type": "stream",
     "text": [
      "Epoch 19 | Limited Features | Recall@10: 0.7545 | NDCG@10: 0.5850\n"
     ]
    },
    {
     "data": {
      "application/vnd.jupyter.widget-view+json": {
       "model_id": "d39061bad44b49ac82a9388cd7e2dd2c",
       "version_major": 2,
       "version_minor": 0
      },
      "text/plain": [
       "Evaluating:   0%|          | 0/2000 [00:00<?, ?it/s]"
      ]
     },
     "metadata": {},
     "output_type": "display_data"
    },
    {
     "name": "stdout",
     "output_type": "stream",
     "text": [
      "Epoch 20 | Limited Features | Recall@10: 0.7545 | NDCG@10: 0.5879\n"
     ]
    },
    {
     "data": {
      "application/vnd.jupyter.widget-view+json": {
       "model_id": "7f4916158b3243459ee085b4158ecc86",
       "version_major": 2,
       "version_minor": 0
      },
      "text/plain": [
       "Evaluating:   0%|          | 0/2000 [00:00<?, ?it/s]"
      ]
     },
     "metadata": {},
     "output_type": "display_data"
    },
    {
     "name": "stdout",
     "output_type": "stream",
     "text": [
      "Epoch 21 | Limited Features | Recall@10: 0.7550 | NDCG@10: 0.5916\n"
     ]
    },
    {
     "data": {
      "application/vnd.jupyter.widget-view+json": {
       "model_id": "a6907e6582c8456588e707a96cbda06a",
       "version_major": 2,
       "version_minor": 0
      },
      "text/plain": [
       "Evaluating:   0%|          | 0/2000 [00:00<?, ?it/s]"
      ]
     },
     "metadata": {},
     "output_type": "display_data"
    },
    {
     "name": "stdout",
     "output_type": "stream",
     "text": [
      "Epoch 22 | Limited Features | Recall@10: 0.7535 | NDCG@10: 0.5970\n"
     ]
    },
    {
     "data": {
      "application/vnd.jupyter.widget-view+json": {
       "model_id": "ab93312ad96a4f158ff88d611b5a00ab",
       "version_major": 2,
       "version_minor": 0
      },
      "text/plain": [
       "Evaluating:   0%|          | 0/2000 [00:00<?, ?it/s]"
      ]
     },
     "metadata": {},
     "output_type": "display_data"
    },
    {
     "name": "stdout",
     "output_type": "stream",
     "text": [
      "Epoch 23 | Limited Features | Recall@10: 0.7520 | NDCG@10: 0.5899\n"
     ]
    },
    {
     "data": {
      "application/vnd.jupyter.widget-view+json": {
       "model_id": "a7c739ada60d4a47bfc97697ce73caf5",
       "version_major": 2,
       "version_minor": 0
      },
      "text/plain": [
       "Evaluating:   0%|          | 0/2000 [00:00<?, ?it/s]"
      ]
     },
     "metadata": {},
     "output_type": "display_data"
    },
    {
     "name": "stdout",
     "output_type": "stream",
     "text": [
      "Epoch 24 | Limited Features | Recall@10: 0.7575 | NDCG@10: 0.5939\n"
     ]
    },
    {
     "data": {
      "application/vnd.jupyter.widget-view+json": {
       "model_id": "e0d7d26b102643a3805ddf5c5657479c",
       "version_major": 2,
       "version_minor": 0
      },
      "text/plain": [
       "Evaluating:   0%|          | 0/2000 [00:00<?, ?it/s]"
      ]
     },
     "metadata": {},
     "output_type": "display_data"
    },
    {
     "name": "stdout",
     "output_type": "stream",
     "text": [
      "Epoch 25 | Limited Features | Recall@10: 0.7575 | NDCG@10: 0.5925\n"
     ]
    },
    {
     "data": {
      "application/vnd.jupyter.widget-view+json": {
       "model_id": "ab5dc0e3b948467a98ce580f1bf636c0",
       "version_major": 2,
       "version_minor": 0
      },
      "text/plain": [
       "Evaluating:   0%|          | 0/2000 [00:00<?, ?it/s]"
      ]
     },
     "metadata": {},
     "output_type": "display_data"
    },
    {
     "name": "stdout",
     "output_type": "stream",
     "text": [
      "Epoch 26 | Limited Features | Recall@10: 0.7565 | NDCG@10: 0.5980\n"
     ]
    },
    {
     "data": {
      "application/vnd.jupyter.widget-view+json": {
       "model_id": "7e8a8ee978c84fce833d06b5c3f72b24",
       "version_major": 2,
       "version_minor": 0
      },
      "text/plain": [
       "Evaluating:   0%|          | 0/2000 [00:00<?, ?it/s]"
      ]
     },
     "metadata": {},
     "output_type": "display_data"
    },
    {
     "name": "stdout",
     "output_type": "stream",
     "text": [
      "Epoch 27 | Limited Features | Recall@10: 0.7570 | NDCG@10: 0.6051\n"
     ]
    },
    {
     "data": {
      "application/vnd.jupyter.widget-view+json": {
       "model_id": "ebab5fbf0c95441b88c87ab3dc1826bb",
       "version_major": 2,
       "version_minor": 0
      },
      "text/plain": [
       "Evaluating:   0%|          | 0/2000 [00:00<?, ?it/s]"
      ]
     },
     "metadata": {},
     "output_type": "display_data"
    },
    {
     "name": "stdout",
     "output_type": "stream",
     "text": [
      "Epoch 28 | Limited Features | Recall@10: 0.7565 | NDCG@10: 0.5979\n"
     ]
    },
    {
     "data": {
      "application/vnd.jupyter.widget-view+json": {
       "model_id": "e61bda2b838d4118ba172515b1b26336",
       "version_major": 2,
       "version_minor": 0
      },
      "text/plain": [
       "Evaluating:   0%|          | 0/2000 [00:00<?, ?it/s]"
      ]
     },
     "metadata": {},
     "output_type": "display_data"
    },
    {
     "name": "stdout",
     "output_type": "stream",
     "text": [
      "Epoch 29 | Limited Features | Recall@10: 0.7605 | NDCG@10: 0.6020\n"
     ]
    },
    {
     "data": {
      "application/vnd.jupyter.widget-view+json": {
       "model_id": "1f908d2f78cc4feda63801b9ad90510b",
       "version_major": 2,
       "version_minor": 0
      },
      "text/plain": [
       "Evaluating:   0%|          | 0/2000 [00:00<?, ?it/s]"
      ]
     },
     "metadata": {},
     "output_type": "display_data"
    },
    {
     "name": "stdout",
     "output_type": "stream",
     "text": [
      "Epoch 30 | Limited Features | Recall@10: 0.7565 | NDCG@10: 0.5976\n"
     ]
    },
    {
     "data": {
      "application/vnd.jupyter.widget-view+json": {
       "model_id": "85258b4e6cae4674a215784cb8e21fa6",
       "version_major": 2,
       "version_minor": 0
      },
      "text/plain": [
       "Evaluating:   0%|          | 0/2000 [00:00<?, ?it/s]"
      ]
     },
     "metadata": {},
     "output_type": "display_data"
    },
    {
     "name": "stdout",
     "output_type": "stream",
     "text": [
      "Epoch 31 | Limited Features | Recall@10: 0.7505 | NDCG@10: 0.6001\n"
     ]
    },
    {
     "data": {
      "application/vnd.jupyter.widget-view+json": {
       "model_id": "481ed1bc3b054ae5b4a25e796a66a3a2",
       "version_major": 2,
       "version_minor": 0
      },
      "text/plain": [
       "Evaluating:   0%|          | 0/2000 [00:00<?, ?it/s]"
      ]
     },
     "metadata": {},
     "output_type": "display_data"
    },
    {
     "name": "stdout",
     "output_type": "stream",
     "text": [
      "Epoch 32 | Limited Features | Recall@10: 0.7555 | NDCG@10: 0.6005\n"
     ]
    },
    {
     "data": {
      "application/vnd.jupyter.widget-view+json": {
       "model_id": "5c182e49f255485f9e413d852a96d2b0",
       "version_major": 2,
       "version_minor": 0
      },
      "text/plain": [
       "Evaluating:   0%|          | 0/2000 [00:00<?, ?it/s]"
      ]
     },
     "metadata": {},
     "output_type": "display_data"
    },
    {
     "name": "stdout",
     "output_type": "stream",
     "text": [
      "Epoch 33 | Limited Features | Recall@10: 0.7510 | NDCG@10: 0.5948\n"
     ]
    },
    {
     "data": {
      "application/vnd.jupyter.widget-view+json": {
       "model_id": "e6c06637928e452681f720a8fc8f20d0",
       "version_major": 2,
       "version_minor": 0
      },
      "text/plain": [
       "Evaluating:   0%|          | 0/2000 [00:00<?, ?it/s]"
      ]
     },
     "metadata": {},
     "output_type": "display_data"
    },
    {
     "name": "stdout",
     "output_type": "stream",
     "text": [
      "Epoch 34 | Limited Features | Recall@10: 0.7450 | NDCG@10: 0.5978\n"
     ]
    },
    {
     "data": {
      "application/vnd.jupyter.widget-view+json": {
       "model_id": "217d232bfe0f4362a0906c7d1ccaec95",
       "version_major": 2,
       "version_minor": 0
      },
      "text/plain": [
       "Evaluating:   0%|          | 0/2000 [00:00<?, ?it/s]"
      ]
     },
     "metadata": {},
     "output_type": "display_data"
    },
    {
     "name": "stdout",
     "output_type": "stream",
     "text": [
      "Epoch 35 | Limited Features | Recall@10: 0.7430 | NDCG@10: 0.5903\n"
     ]
    },
    {
     "data": {
      "application/vnd.jupyter.widget-view+json": {
       "model_id": "23ccd3cedfab4b4b8265791286ed16b3",
       "version_major": 2,
       "version_minor": 0
      },
      "text/plain": [
       "Evaluating:   0%|          | 0/2000 [00:00<?, ?it/s]"
      ]
     },
     "metadata": {},
     "output_type": "display_data"
    },
    {
     "name": "stdout",
     "output_type": "stream",
     "text": [
      "Epoch 36 | Limited Features | Recall@10: 0.7450 | NDCG@10: 0.5922\n"
     ]
    },
    {
     "data": {
      "application/vnd.jupyter.widget-view+json": {
       "model_id": "456f6d71b1bb4e1e84b10b19ebe24611",
       "version_major": 2,
       "version_minor": 0
      },
      "text/plain": [
       "Evaluating:   0%|          | 0/2000 [00:00<?, ?it/s]"
      ]
     },
     "metadata": {},
     "output_type": "display_data"
    },
    {
     "name": "stdout",
     "output_type": "stream",
     "text": [
      "Epoch 37 | Limited Features | Recall@10: 0.7465 | NDCG@10: 0.5956\n"
     ]
    },
    {
     "data": {
      "application/vnd.jupyter.widget-view+json": {
       "model_id": "7780e9980f054170b28a0c6c0b646ba3",
       "version_major": 2,
       "version_minor": 0
      },
      "text/plain": [
       "Evaluating:   0%|          | 0/2000 [00:00<?, ?it/s]"
      ]
     },
     "metadata": {},
     "output_type": "display_data"
    },
    {
     "name": "stdout",
     "output_type": "stream",
     "text": [
      "Epoch 38 | Limited Features | Recall@10: 0.7370 | NDCG@10: 0.5973\n"
     ]
    },
    {
     "data": {
      "application/vnd.jupyter.widget-view+json": {
       "model_id": "48721c1f05dc4ad6a51e260093ee482f",
       "version_major": 2,
       "version_minor": 0
      },
      "text/plain": [
       "Evaluating:   0%|          | 0/2000 [00:00<?, ?it/s]"
      ]
     },
     "metadata": {},
     "output_type": "display_data"
    },
    {
     "name": "stdout",
     "output_type": "stream",
     "text": [
      "Epoch 39 | Limited Features | Recall@10: 0.7465 | NDCG@10: 0.5983\n"
     ]
    },
    {
     "data": {
      "application/vnd.jupyter.widget-view+json": {
       "model_id": "5236044b4c7546dc93f402f3ca5079a7",
       "version_major": 2,
       "version_minor": 0
      },
      "text/plain": [
       "Evaluating:   0%|          | 0/2000 [00:00<?, ?it/s]"
      ]
     },
     "metadata": {},
     "output_type": "display_data"
    },
    {
     "name": "stdout",
     "output_type": "stream",
     "text": [
      "Epoch 40 | Limited Features | Recall@10: 0.7440 | NDCG@10: 0.5936\n"
     ]
    },
    {
     "data": {
      "application/vnd.jupyter.widget-view+json": {
       "model_id": "e57e635a18394c5c86a46b50c07e7871",
       "version_major": 2,
       "version_minor": 0
      },
      "text/plain": [
       "Evaluating:   0%|          | 0/2000 [00:00<?, ?it/s]"
      ]
     },
     "metadata": {},
     "output_type": "display_data"
    },
    {
     "name": "stdout",
     "output_type": "stream",
     "text": [
      "Epoch 41 | Limited Features | Recall@10: 0.7375 | NDCG@10: 0.5927\n"
     ]
    },
    {
     "data": {
      "application/vnd.jupyter.widget-view+json": {
       "model_id": "747e5c25a7bc4dd18cbabbf266c47c92",
       "version_major": 2,
       "version_minor": 0
      },
      "text/plain": [
       "Evaluating:   0%|          | 0/2000 [00:00<?, ?it/s]"
      ]
     },
     "metadata": {},
     "output_type": "display_data"
    },
    {
     "name": "stdout",
     "output_type": "stream",
     "text": [
      "Epoch 42 | Limited Features | Recall@10: 0.7415 | NDCG@10: 0.5944\n"
     ]
    },
    {
     "data": {
      "application/vnd.jupyter.widget-view+json": {
       "model_id": "2945cfcd4911400481783ccf0461198a",
       "version_major": 2,
       "version_minor": 0
      },
      "text/plain": [
       "Evaluating:   0%|          | 0/2000 [00:00<?, ?it/s]"
      ]
     },
     "metadata": {},
     "output_type": "display_data"
    },
    {
     "name": "stdout",
     "output_type": "stream",
     "text": [
      "Epoch 43 | Limited Features | Recall@10: 0.7350 | NDCG@10: 0.5839\n"
     ]
    },
    {
     "data": {
      "application/vnd.jupyter.widget-view+json": {
       "model_id": "d643a83e033849ddbe863f4e78da9737",
       "version_major": 2,
       "version_minor": 0
      },
      "text/plain": [
       "Evaluating:   0%|          | 0/2000 [00:00<?, ?it/s]"
      ]
     },
     "metadata": {},
     "output_type": "display_data"
    },
    {
     "name": "stdout",
     "output_type": "stream",
     "text": [
      "Epoch 44 | Limited Features | Recall@10: 0.7325 | NDCG@10: 0.5936\n"
     ]
    },
    {
     "data": {
      "application/vnd.jupyter.widget-view+json": {
       "model_id": "2b038d2a35434e57812b0332e8caccd7",
       "version_major": 2,
       "version_minor": 0
      },
      "text/plain": [
       "Evaluating:   0%|          | 0/2000 [00:00<?, ?it/s]"
      ]
     },
     "metadata": {},
     "output_type": "display_data"
    },
    {
     "name": "stdout",
     "output_type": "stream",
     "text": [
      "Epoch 45 | Limited Features | Recall@10: 0.7305 | NDCG@10: 0.5901\n"
     ]
    },
    {
     "data": {
      "application/vnd.jupyter.widget-view+json": {
       "model_id": "69c0c6a9bede46cf9daaa4fa18584821",
       "version_major": 2,
       "version_minor": 0
      },
      "text/plain": [
       "Evaluating:   0%|          | 0/2000 [00:00<?, ?it/s]"
      ]
     },
     "metadata": {},
     "output_type": "display_data"
    },
    {
     "name": "stdout",
     "output_type": "stream",
     "text": [
      "Epoch 46 | Limited Features | Recall@10: 0.7300 | NDCG@10: 0.5928\n"
     ]
    },
    {
     "data": {
      "application/vnd.jupyter.widget-view+json": {
       "model_id": "6f2a9bae75514cbe9b4737751c9a6c8b",
       "version_major": 2,
       "version_minor": 0
      },
      "text/plain": [
       "Evaluating:   0%|          | 0/2000 [00:00<?, ?it/s]"
      ]
     },
     "metadata": {},
     "output_type": "display_data"
    },
    {
     "name": "stdout",
     "output_type": "stream",
     "text": [
      "Epoch 47 | Limited Features | Recall@10: 0.7300 | NDCG@10: 0.5925\n"
     ]
    },
    {
     "data": {
      "application/vnd.jupyter.widget-view+json": {
       "model_id": "2a4baba8bf254b3c907c6b3ca00d9010",
       "version_major": 2,
       "version_minor": 0
      },
      "text/plain": [
       "Evaluating:   0%|          | 0/2000 [00:00<?, ?it/s]"
      ]
     },
     "metadata": {},
     "output_type": "display_data"
    },
    {
     "name": "stdout",
     "output_type": "stream",
     "text": [
      "Epoch 48 | Limited Features | Recall@10: 0.7245 | NDCG@10: 0.5899\n"
     ]
    },
    {
     "data": {
      "application/vnd.jupyter.widget-view+json": {
       "model_id": "0ae993d8c85f4d87a9e1c1d239851d75",
       "version_major": 2,
       "version_minor": 0
      },
      "text/plain": [
       "Evaluating:   0%|          | 0/2000 [00:00<?, ?it/s]"
      ]
     },
     "metadata": {},
     "output_type": "display_data"
    },
    {
     "name": "stdout",
     "output_type": "stream",
     "text": [
      "Epoch 49 | Limited Features | Recall@10: 0.7210 | NDCG@10: 0.5809\n"
     ]
    },
    {
     "data": {
      "application/vnd.jupyter.widget-view+json": {
       "model_id": "b47a3259dbdb4640b98cdaf0073bc4bb",
       "version_major": 2,
       "version_minor": 0
      },
      "text/plain": [
       "Evaluating:   0%|          | 0/2000 [00:00<?, ?it/s]"
      ]
     },
     "metadata": {},
     "output_type": "display_data"
    },
    {
     "name": "stdout",
     "output_type": "stream",
     "text": [
      "Epoch 50 | Limited Features | Recall@10: 0.7185 | NDCG@10: 0.5836\n",
      "Loading data for experiment: Full Features...\n"
     ]
    },
    {
     "name": "stderr",
     "output_type": "stream",
     "text": [
      "C:\\Users\\a.khajooei\\AppData\\Local\\Temp\\ipykernel_13344\\1830394765.py:54: SettingWithCopyWarning: \n",
      "A value is trying to be set on a copy of a slice from a DataFrame.\n",
      "Try using .loc[row_indexer,col_indexer] = value instead\n",
      "\n",
      "See the caveats in the documentation: https://pandas.pydata.org/pandas-docs/stable/user_guide/indexing.html#returning-a-view-versus-a-copy\n",
      "  users_df['Age'] = users_df['Age'].fillna(users_df['Age'].median()).astype(int)\n"
     ]
    },
    {
     "data": {
      "application/vnd.jupyter.widget-view+json": {
       "model_id": "8d2791cc7ebd4b74ba54e2cc557caa86",
       "version_major": 2,
       "version_minor": 0
      },
      "text/plain": [
       "Training 'Full Features':   0%|          | 0/50 [00:00<?, ?it/s]"
      ]
     },
     "metadata": {},
     "output_type": "display_data"
    },
    {
     "data": {
      "application/vnd.jupyter.widget-view+json": {
       "model_id": "fa85952e6888405f8cb30137712232fd",
       "version_major": 2,
       "version_minor": 0
      },
      "text/plain": [
       "Evaluating:   0%|          | 0/2000 [00:00<?, ?it/s]"
      ]
     },
     "metadata": {},
     "output_type": "display_data"
    },
    {
     "name": "stdout",
     "output_type": "stream",
     "text": [
      "Epoch 01 | Full Features | Recall@10: 0.2205 | NDCG@10: 0.1318\n"
     ]
    },
    {
     "data": {
      "application/vnd.jupyter.widget-view+json": {
       "model_id": "0860c28f089d41dabbe2b8e97f84b759",
       "version_major": 2,
       "version_minor": 0
      },
      "text/plain": [
       "Evaluating:   0%|          | 0/2000 [00:00<?, ?it/s]"
      ]
     },
     "metadata": {},
     "output_type": "display_data"
    },
    {
     "name": "stdout",
     "output_type": "stream",
     "text": [
      "Epoch 02 | Full Features | Recall@10: 0.3060 | NDCG@10: 0.2195\n"
     ]
    },
    {
     "data": {
      "application/vnd.jupyter.widget-view+json": {
       "model_id": "b445a04e076045d3aa16c3e5c0415b0d",
       "version_major": 2,
       "version_minor": 0
      },
      "text/plain": [
       "Evaluating:   0%|          | 0/2000 [00:00<?, ?it/s]"
      ]
     },
     "metadata": {},
     "output_type": "display_data"
    },
    {
     "name": "stdout",
     "output_type": "stream",
     "text": [
      "Epoch 03 | Full Features | Recall@10: 0.3760 | NDCG@10: 0.2836\n"
     ]
    },
    {
     "data": {
      "application/vnd.jupyter.widget-view+json": {
       "model_id": "d7dcdd5d1fdc4135b0f0a4d03af8731a",
       "version_major": 2,
       "version_minor": 0
      },
      "text/plain": [
       "Evaluating:   0%|          | 0/2000 [00:00<?, ?it/s]"
      ]
     },
     "metadata": {},
     "output_type": "display_data"
    },
    {
     "name": "stdout",
     "output_type": "stream",
     "text": [
      "Epoch 04 | Full Features | Recall@10: 0.4255 | NDCG@10: 0.3295\n"
     ]
    },
    {
     "data": {
      "application/vnd.jupyter.widget-view+json": {
       "model_id": "9421e40aa065474a8609cc5fd06ede40",
       "version_major": 2,
       "version_minor": 0
      },
      "text/plain": [
       "Evaluating:   0%|          | 0/2000 [00:00<?, ?it/s]"
      ]
     },
     "metadata": {},
     "output_type": "display_data"
    },
    {
     "name": "stdout",
     "output_type": "stream",
     "text": [
      "Epoch 05 | Full Features | Recall@10: 0.4730 | NDCG@10: 0.3715\n"
     ]
    },
    {
     "data": {
      "application/vnd.jupyter.widget-view+json": {
       "model_id": "9496ad5f869240209168a7f3186929e0",
       "version_major": 2,
       "version_minor": 0
      },
      "text/plain": [
       "Evaluating:   0%|          | 0/2000 [00:00<?, ?it/s]"
      ]
     },
     "metadata": {},
     "output_type": "display_data"
    },
    {
     "name": "stdout",
     "output_type": "stream",
     "text": [
      "Epoch 06 | Full Features | Recall@10: 0.5060 | NDCG@10: 0.4142\n"
     ]
    },
    {
     "data": {
      "application/vnd.jupyter.widget-view+json": {
       "model_id": "5c4ee966037c433caed2ac70ca7fedf3",
       "version_major": 2,
       "version_minor": 0
      },
      "text/plain": [
       "Evaluating:   0%|          | 0/2000 [00:00<?, ?it/s]"
      ]
     },
     "metadata": {},
     "output_type": "display_data"
    },
    {
     "name": "stdout",
     "output_type": "stream",
     "text": [
      "Epoch 07 | Full Features | Recall@10: 0.5520 | NDCG@10: 0.4502\n"
     ]
    },
    {
     "data": {
      "application/vnd.jupyter.widget-view+json": {
       "model_id": "6a61d0da54af4fac9fbc8b59fb19197a",
       "version_major": 2,
       "version_minor": 0
      },
      "text/plain": [
       "Evaluating:   0%|          | 0/2000 [00:00<?, ?it/s]"
      ]
     },
     "metadata": {},
     "output_type": "display_data"
    },
    {
     "name": "stdout",
     "output_type": "stream",
     "text": [
      "Epoch 08 | Full Features | Recall@10: 0.5890 | NDCG@10: 0.4861\n"
     ]
    },
    {
     "data": {
      "application/vnd.jupyter.widget-view+json": {
       "model_id": "0ecc5a8bb6a640d19c37797c0194ea0d",
       "version_major": 2,
       "version_minor": 0
      },
      "text/plain": [
       "Evaluating:   0%|          | 0/2000 [00:00<?, ?it/s]"
      ]
     },
     "metadata": {},
     "output_type": "display_data"
    },
    {
     "name": "stdout",
     "output_type": "stream",
     "text": [
      "Epoch 09 | Full Features | Recall@10: 0.6255 | NDCG@10: 0.5221\n"
     ]
    },
    {
     "data": {
      "application/vnd.jupyter.widget-view+json": {
       "model_id": "84bc59ded6f44ba8b4c80943b23b502f",
       "version_major": 2,
       "version_minor": 0
      },
      "text/plain": [
       "Evaluating:   0%|          | 0/2000 [00:00<?, ?it/s]"
      ]
     },
     "metadata": {},
     "output_type": "display_data"
    },
    {
     "name": "stdout",
     "output_type": "stream",
     "text": [
      "Epoch 10 | Full Features | Recall@10: 0.6590 | NDCG@10: 0.5540\n"
     ]
    },
    {
     "data": {
      "application/vnd.jupyter.widget-view+json": {
       "model_id": "7e7a50c8b0fc4a36a6d1f00d02854a3f",
       "version_major": 2,
       "version_minor": 0
      },
      "text/plain": [
       "Evaluating:   0%|          | 0/2000 [00:00<?, ?it/s]"
      ]
     },
     "metadata": {},
     "output_type": "display_data"
    },
    {
     "name": "stdout",
     "output_type": "stream",
     "text": [
      "Epoch 11 | Full Features | Recall@10: 0.6860 | NDCG@10: 0.5825\n"
     ]
    },
    {
     "data": {
      "application/vnd.jupyter.widget-view+json": {
       "model_id": "643f7f633cc143019cab34a29e71fcbe",
       "version_major": 2,
       "version_minor": 0
      },
      "text/plain": [
       "Evaluating:   0%|          | 0/2000 [00:00<?, ?it/s]"
      ]
     },
     "metadata": {},
     "output_type": "display_data"
    },
    {
     "name": "stdout",
     "output_type": "stream",
     "text": [
      "Epoch 12 | Full Features | Recall@10: 0.7200 | NDCG@10: 0.6149\n"
     ]
    },
    {
     "data": {
      "application/vnd.jupyter.widget-view+json": {
       "model_id": "dafc9f0e1dca4a2ca7b44b49044ec2ef",
       "version_major": 2,
       "version_minor": 0
      },
      "text/plain": [
       "Evaluating:   0%|          | 0/2000 [00:00<?, ?it/s]"
      ]
     },
     "metadata": {},
     "output_type": "display_data"
    },
    {
     "name": "stdout",
     "output_type": "stream",
     "text": [
      "Epoch 13 | Full Features | Recall@10: 0.7325 | NDCG@10: 0.6376\n"
     ]
    },
    {
     "data": {
      "application/vnd.jupyter.widget-view+json": {
       "model_id": "c2e3823b2bc843bda0cabb367c2335a1",
       "version_major": 2,
       "version_minor": 0
      },
      "text/plain": [
       "Evaluating:   0%|          | 0/2000 [00:00<?, ?it/s]"
      ]
     },
     "metadata": {},
     "output_type": "display_data"
    },
    {
     "name": "stdout",
     "output_type": "stream",
     "text": [
      "Epoch 14 | Full Features | Recall@10: 0.7485 | NDCG@10: 0.6632\n"
     ]
    },
    {
     "data": {
      "application/vnd.jupyter.widget-view+json": {
       "model_id": "43910965af2144829bee7071ab59f455",
       "version_major": 2,
       "version_minor": 0
      },
      "text/plain": [
       "Evaluating:   0%|          | 0/2000 [00:00<?, ?it/s]"
      ]
     },
     "metadata": {},
     "output_type": "display_data"
    },
    {
     "name": "stdout",
     "output_type": "stream",
     "text": [
      "Epoch 15 | Full Features | Recall@10: 0.7700 | NDCG@10: 0.6791\n"
     ]
    },
    {
     "data": {
      "application/vnd.jupyter.widget-view+json": {
       "model_id": "0ea79b47a73d42f18586152e4e238fce",
       "version_major": 2,
       "version_minor": 0
      },
      "text/plain": [
       "Evaluating:   0%|          | 0/2000 [00:00<?, ?it/s]"
      ]
     },
     "metadata": {},
     "output_type": "display_data"
    },
    {
     "name": "stdout",
     "output_type": "stream",
     "text": [
      "Epoch 16 | Full Features | Recall@10: 0.7755 | NDCG@10: 0.6935\n"
     ]
    },
    {
     "data": {
      "application/vnd.jupyter.widget-view+json": {
       "model_id": "7604423149844febb17ab86292ba21ec",
       "version_major": 2,
       "version_minor": 0
      },
      "text/plain": [
       "Evaluating:   0%|          | 0/2000 [00:00<?, ?it/s]"
      ]
     },
     "metadata": {},
     "output_type": "display_data"
    },
    {
     "name": "stdout",
     "output_type": "stream",
     "text": [
      "Epoch 17 | Full Features | Recall@10: 0.7805 | NDCG@10: 0.7072\n"
     ]
    },
    {
     "data": {
      "application/vnd.jupyter.widget-view+json": {
       "model_id": "a347e309f23c4f58b5e4a3aa7a3e84b9",
       "version_major": 2,
       "version_minor": 0
      },
      "text/plain": [
       "Evaluating:   0%|          | 0/2000 [00:00<?, ?it/s]"
      ]
     },
     "metadata": {},
     "output_type": "display_data"
    },
    {
     "name": "stdout",
     "output_type": "stream",
     "text": [
      "Epoch 18 | Full Features | Recall@10: 0.7825 | NDCG@10: 0.7164\n"
     ]
    },
    {
     "data": {
      "application/vnd.jupyter.widget-view+json": {
       "model_id": "30808f7372cb4181b506f992254047cd",
       "version_major": 2,
       "version_minor": 0
      },
      "text/plain": [
       "Evaluating:   0%|          | 0/2000 [00:00<?, ?it/s]"
      ]
     },
     "metadata": {},
     "output_type": "display_data"
    },
    {
     "name": "stdout",
     "output_type": "stream",
     "text": [
      "Epoch 19 | Full Features | Recall@10: 0.7855 | NDCG@10: 0.7234\n"
     ]
    },
    {
     "data": {
      "application/vnd.jupyter.widget-view+json": {
       "model_id": "943caccd00bf4910b722b5028c87c4c8",
       "version_major": 2,
       "version_minor": 0
      },
      "text/plain": [
       "Evaluating:   0%|          | 0/2000 [00:00<?, ?it/s]"
      ]
     },
     "metadata": {},
     "output_type": "display_data"
    },
    {
     "name": "stdout",
     "output_type": "stream",
     "text": [
      "Epoch 20 | Full Features | Recall@10: 0.7825 | NDCG@10: 0.7329\n"
     ]
    },
    {
     "data": {
      "application/vnd.jupyter.widget-view+json": {
       "model_id": "0c128d73ab2e4dbabeb8df899e7240e0",
       "version_major": 2,
       "version_minor": 0
      },
      "text/plain": [
       "Evaluating:   0%|          | 0/2000 [00:00<?, ?it/s]"
      ]
     },
     "metadata": {},
     "output_type": "display_data"
    },
    {
     "name": "stdout",
     "output_type": "stream",
     "text": [
      "Epoch 21 | Full Features | Recall@10: 0.7840 | NDCG@10: 0.7301\n"
     ]
    },
    {
     "data": {
      "application/vnd.jupyter.widget-view+json": {
       "model_id": "4e745ca0d607494abc2cce366c79af7b",
       "version_major": 2,
       "version_minor": 0
      },
      "text/plain": [
       "Evaluating:   0%|          | 0/2000 [00:00<?, ?it/s]"
      ]
     },
     "metadata": {},
     "output_type": "display_data"
    },
    {
     "name": "stdout",
     "output_type": "stream",
     "text": [
      "Epoch 22 | Full Features | Recall@10: 0.7875 | NDCG@10: 0.7403\n"
     ]
    },
    {
     "data": {
      "application/vnd.jupyter.widget-view+json": {
       "model_id": "e3fe789dfb1b46c0afa80cc57a6a8fdb",
       "version_major": 2,
       "version_minor": 0
      },
      "text/plain": [
       "Evaluating:   0%|          | 0/2000 [00:00<?, ?it/s]"
      ]
     },
     "metadata": {},
     "output_type": "display_data"
    },
    {
     "name": "stdout",
     "output_type": "stream",
     "text": [
      "Epoch 23 | Full Features | Recall@10: 0.7840 | NDCG@10: 0.7450\n"
     ]
    },
    {
     "data": {
      "application/vnd.jupyter.widget-view+json": {
       "model_id": "e6d55271112f49e498804a839c43a7d6",
       "version_major": 2,
       "version_minor": 0
      },
      "text/plain": [
       "Evaluating:   0%|          | 0/2000 [00:00<?, ?it/s]"
      ]
     },
     "metadata": {},
     "output_type": "display_data"
    },
    {
     "name": "stdout",
     "output_type": "stream",
     "text": [
      "Epoch 24 | Full Features | Recall@10: 0.7865 | NDCG@10: 0.7458\n"
     ]
    },
    {
     "data": {
      "application/vnd.jupyter.widget-view+json": {
       "model_id": "2bb46466f40b47698145038c8012add6",
       "version_major": 2,
       "version_minor": 0
      },
      "text/plain": [
       "Evaluating:   0%|          | 0/2000 [00:00<?, ?it/s]"
      ]
     },
     "metadata": {},
     "output_type": "display_data"
    },
    {
     "name": "stdout",
     "output_type": "stream",
     "text": [
      "Epoch 25 | Full Features | Recall@10: 0.7855 | NDCG@10: 0.7477\n"
     ]
    },
    {
     "data": {
      "application/vnd.jupyter.widget-view+json": {
       "model_id": "aab8d681e4ff4f0da041312dd3c1b8b0",
       "version_major": 2,
       "version_minor": 0
      },
      "text/plain": [
       "Evaluating:   0%|          | 0/2000 [00:00<?, ?it/s]"
      ]
     },
     "metadata": {},
     "output_type": "display_data"
    },
    {
     "name": "stdout",
     "output_type": "stream",
     "text": [
      "Epoch 26 | Full Features | Recall@10: 0.7845 | NDCG@10: 0.7495\n"
     ]
    },
    {
     "data": {
      "application/vnd.jupyter.widget-view+json": {
       "model_id": "8c5495e23a1040c9a22b0f8eef0c9f5f",
       "version_major": 2,
       "version_minor": 0
      },
      "text/plain": [
       "Evaluating:   0%|          | 0/2000 [00:00<?, ?it/s]"
      ]
     },
     "metadata": {},
     "output_type": "display_data"
    },
    {
     "name": "stdout",
     "output_type": "stream",
     "text": [
      "Epoch 27 | Full Features | Recall@10: 0.7845 | NDCG@10: 0.7489\n"
     ]
    },
    {
     "data": {
      "application/vnd.jupyter.widget-view+json": {
       "model_id": "7ba91ed9b6c54920b716a6ca8f1b6ca5",
       "version_major": 2,
       "version_minor": 0
      },
      "text/plain": [
       "Evaluating:   0%|          | 0/2000 [00:00<?, ?it/s]"
      ]
     },
     "metadata": {},
     "output_type": "display_data"
    },
    {
     "name": "stdout",
     "output_type": "stream",
     "text": [
      "Epoch 28 | Full Features | Recall@10: 0.7845 | NDCG@10: 0.7531\n"
     ]
    },
    {
     "data": {
      "application/vnd.jupyter.widget-view+json": {
       "model_id": "97531b62ff5740c5bb51e5ab0b25c90b",
       "version_major": 2,
       "version_minor": 0
      },
      "text/plain": [
       "Evaluating:   0%|          | 0/2000 [00:00<?, ?it/s]"
      ]
     },
     "metadata": {},
     "output_type": "display_data"
    },
    {
     "name": "stdout",
     "output_type": "stream",
     "text": [
      "Epoch 29 | Full Features | Recall@10: 0.7875 | NDCG@10: 0.7547\n"
     ]
    },
    {
     "data": {
      "application/vnd.jupyter.widget-view+json": {
       "model_id": "356ebc61f8974ff3966c7d00d41cadca",
       "version_major": 2,
       "version_minor": 0
      },
      "text/plain": [
       "Evaluating:   0%|          | 0/2000 [00:00<?, ?it/s]"
      ]
     },
     "metadata": {},
     "output_type": "display_data"
    },
    {
     "name": "stdout",
     "output_type": "stream",
     "text": [
      "Epoch 30 | Full Features | Recall@10: 0.7880 | NDCG@10: 0.7530\n"
     ]
    },
    {
     "data": {
      "application/vnd.jupyter.widget-view+json": {
       "model_id": "140beb428af94ac8889b0f1259c821f8",
       "version_major": 2,
       "version_minor": 0
      },
      "text/plain": [
       "Evaluating:   0%|          | 0/2000 [00:00<?, ?it/s]"
      ]
     },
     "metadata": {},
     "output_type": "display_data"
    },
    {
     "name": "stdout",
     "output_type": "stream",
     "text": [
      "Epoch 31 | Full Features | Recall@10: 0.7850 | NDCG@10: 0.7524\n"
     ]
    },
    {
     "data": {
      "application/vnd.jupyter.widget-view+json": {
       "model_id": "426bbff0f4984e9b87776122df6f2f88",
       "version_major": 2,
       "version_minor": 0
      },
      "text/plain": [
       "Evaluating:   0%|          | 0/2000 [00:00<?, ?it/s]"
      ]
     },
     "metadata": {},
     "output_type": "display_data"
    },
    {
     "name": "stdout",
     "output_type": "stream",
     "text": [
      "Epoch 32 | Full Features | Recall@10: 0.7885 | NDCG@10: 0.7564\n"
     ]
    },
    {
     "data": {
      "application/vnd.jupyter.widget-view+json": {
       "model_id": "75f372f652484512970f0ae11c3d27d1",
       "version_major": 2,
       "version_minor": 0
      },
      "text/plain": [
       "Evaluating:   0%|          | 0/2000 [00:00<?, ?it/s]"
      ]
     },
     "metadata": {},
     "output_type": "display_data"
    },
    {
     "name": "stdout",
     "output_type": "stream",
     "text": [
      "Epoch 33 | Full Features | Recall@10: 0.7840 | NDCG@10: 0.7503\n"
     ]
    },
    {
     "data": {
      "application/vnd.jupyter.widget-view+json": {
       "model_id": "b1fe405c11a149b3bb1071b935c1d8b1",
       "version_major": 2,
       "version_minor": 0
      },
      "text/plain": [
       "Evaluating:   0%|          | 0/2000 [00:00<?, ?it/s]"
      ]
     },
     "metadata": {},
     "output_type": "display_data"
    },
    {
     "name": "stdout",
     "output_type": "stream",
     "text": [
      "Epoch 34 | Full Features | Recall@10: 0.7825 | NDCG@10: 0.7518\n"
     ]
    },
    {
     "data": {
      "application/vnd.jupyter.widget-view+json": {
       "model_id": "808198dc310e450bbcc46b901072814f",
       "version_major": 2,
       "version_minor": 0
      },
      "text/plain": [
       "Evaluating:   0%|          | 0/2000 [00:00<?, ?it/s]"
      ]
     },
     "metadata": {},
     "output_type": "display_data"
    },
    {
     "name": "stdout",
     "output_type": "stream",
     "text": [
      "Epoch 35 | Full Features | Recall@10: 0.7835 | NDCG@10: 0.7521\n"
     ]
    },
    {
     "data": {
      "application/vnd.jupyter.widget-view+json": {
       "model_id": "fbdbf061a7f94c48a2c6397bf964b64a",
       "version_major": 2,
       "version_minor": 0
      },
      "text/plain": [
       "Evaluating:   0%|          | 0/2000 [00:00<?, ?it/s]"
      ]
     },
     "metadata": {},
     "output_type": "display_data"
    },
    {
     "name": "stdout",
     "output_type": "stream",
     "text": [
      "Epoch 36 | Full Features | Recall@10: 0.7840 | NDCG@10: 0.7563\n"
     ]
    },
    {
     "data": {
      "application/vnd.jupyter.widget-view+json": {
       "model_id": "8ffe234ab94e40e38ea0ad2374a845c5",
       "version_major": 2,
       "version_minor": 0
      },
      "text/plain": [
       "Evaluating:   0%|          | 0/2000 [00:00<?, ?it/s]"
      ]
     },
     "metadata": {},
     "output_type": "display_data"
    },
    {
     "name": "stdout",
     "output_type": "stream",
     "text": [
      "Epoch 37 | Full Features | Recall@10: 0.7805 | NDCG@10: 0.7532\n"
     ]
    },
    {
     "data": {
      "application/vnd.jupyter.widget-view+json": {
       "model_id": "a552a07ca2504c34a0d46dde023feb94",
       "version_major": 2,
       "version_minor": 0
      },
      "text/plain": [
       "Evaluating:   0%|          | 0/2000 [00:00<?, ?it/s]"
      ]
     },
     "metadata": {},
     "output_type": "display_data"
    },
    {
     "name": "stdout",
     "output_type": "stream",
     "text": [
      "Epoch 38 | Full Features | Recall@10: 0.7815 | NDCG@10: 0.7542\n"
     ]
    },
    {
     "data": {
      "application/vnd.jupyter.widget-view+json": {
       "model_id": "eabc7ebcc8634b1b85a06490e9926e1b",
       "version_major": 2,
       "version_minor": 0
      },
      "text/plain": [
       "Evaluating:   0%|          | 0/2000 [00:00<?, ?it/s]"
      ]
     },
     "metadata": {},
     "output_type": "display_data"
    },
    {
     "name": "stdout",
     "output_type": "stream",
     "text": [
      "Epoch 39 | Full Features | Recall@10: 0.7820 | NDCG@10: 0.7555\n"
     ]
    },
    {
     "data": {
      "application/vnd.jupyter.widget-view+json": {
       "model_id": "6c46289d8b1b4763abf936ed1efc400a",
       "version_major": 2,
       "version_minor": 0
      },
      "text/plain": [
       "Evaluating:   0%|          | 0/2000 [00:00<?, ?it/s]"
      ]
     },
     "metadata": {},
     "output_type": "display_data"
    },
    {
     "name": "stdout",
     "output_type": "stream",
     "text": [
      "Epoch 40 | Full Features | Recall@10: 0.7815 | NDCG@10: 0.7518\n"
     ]
    },
    {
     "data": {
      "application/vnd.jupyter.widget-view+json": {
       "model_id": "eeb6f4f1e13b4c92a9b161e1ba8478c3",
       "version_major": 2,
       "version_minor": 0
      },
      "text/plain": [
       "Evaluating:   0%|          | 0/2000 [00:00<?, ?it/s]"
      ]
     },
     "metadata": {},
     "output_type": "display_data"
    },
    {
     "name": "stdout",
     "output_type": "stream",
     "text": [
      "Epoch 41 | Full Features | Recall@10: 0.7810 | NDCG@10: 0.7568\n"
     ]
    },
    {
     "data": {
      "application/vnd.jupyter.widget-view+json": {
       "model_id": "ebd715b3235e4ff08dbdd7f4d4591b05",
       "version_major": 2,
       "version_minor": 0
      },
      "text/plain": [
       "Evaluating:   0%|          | 0/2000 [00:00<?, ?it/s]"
      ]
     },
     "metadata": {},
     "output_type": "display_data"
    },
    {
     "name": "stdout",
     "output_type": "stream",
     "text": [
      "Epoch 42 | Full Features | Recall@10: 0.7800 | NDCG@10: 0.7558\n"
     ]
    },
    {
     "data": {
      "application/vnd.jupyter.widget-view+json": {
       "model_id": "0db82b3c16484a2b94da7be7e2dd8c41",
       "version_major": 2,
       "version_minor": 0
      },
      "text/plain": [
       "Evaluating:   0%|          | 0/2000 [00:00<?, ?it/s]"
      ]
     },
     "metadata": {},
     "output_type": "display_data"
    },
    {
     "name": "stdout",
     "output_type": "stream",
     "text": [
      "Epoch 43 | Full Features | Recall@10: 0.7815 | NDCG@10: 0.7565\n"
     ]
    },
    {
     "data": {
      "application/vnd.jupyter.widget-view+json": {
       "model_id": "43746c2fe45a4ee18db1e41654972f9c",
       "version_major": 2,
       "version_minor": 0
      },
      "text/plain": [
       "Evaluating:   0%|          | 0/2000 [00:00<?, ?it/s]"
      ]
     },
     "metadata": {},
     "output_type": "display_data"
    },
    {
     "name": "stdout",
     "output_type": "stream",
     "text": [
      "Epoch 44 | Full Features | Recall@10: 0.7780 | NDCG@10: 0.7580\n"
     ]
    },
    {
     "data": {
      "application/vnd.jupyter.widget-view+json": {
       "model_id": "cb218d9925ef4f79b37ba4c383d5f16d",
       "version_major": 2,
       "version_minor": 0
      },
      "text/plain": [
       "Evaluating:   0%|          | 0/2000 [00:00<?, ?it/s]"
      ]
     },
     "metadata": {},
     "output_type": "display_data"
    },
    {
     "name": "stdout",
     "output_type": "stream",
     "text": [
      "Epoch 45 | Full Features | Recall@10: 0.7795 | NDCG@10: 0.7542\n"
     ]
    },
    {
     "data": {
      "application/vnd.jupyter.widget-view+json": {
       "model_id": "8fe056a7066d4926b329776d305c4036",
       "version_major": 2,
       "version_minor": 0
      },
      "text/plain": [
       "Evaluating:   0%|          | 0/2000 [00:00<?, ?it/s]"
      ]
     },
     "metadata": {},
     "output_type": "display_data"
    },
    {
     "name": "stdout",
     "output_type": "stream",
     "text": [
      "Epoch 46 | Full Features | Recall@10: 0.7755 | NDCG@10: 0.7561\n"
     ]
    },
    {
     "data": {
      "application/vnd.jupyter.widget-view+json": {
       "model_id": "e0818d003f134357861677ce8599303c",
       "version_major": 2,
       "version_minor": 0
      },
      "text/plain": [
       "Evaluating:   0%|          | 0/2000 [00:00<?, ?it/s]"
      ]
     },
     "metadata": {},
     "output_type": "display_data"
    },
    {
     "name": "stdout",
     "output_type": "stream",
     "text": [
      "Epoch 47 | Full Features | Recall@10: 0.7760 | NDCG@10: 0.7537\n"
     ]
    },
    {
     "data": {
      "application/vnd.jupyter.widget-view+json": {
       "model_id": "3758f16721da4b9fa53027c25d0fc180",
       "version_major": 2,
       "version_minor": 0
      },
      "text/plain": [
       "Evaluating:   0%|          | 0/2000 [00:00<?, ?it/s]"
      ]
     },
     "metadata": {},
     "output_type": "display_data"
    },
    {
     "name": "stdout",
     "output_type": "stream",
     "text": [
      "Epoch 48 | Full Features | Recall@10: 0.7800 | NDCG@10: 0.7567\n"
     ]
    },
    {
     "data": {
      "application/vnd.jupyter.widget-view+json": {
       "model_id": "d841ac7b1ab44c368fd3028413530eb4",
       "version_major": 2,
       "version_minor": 0
      },
      "text/plain": [
       "Evaluating:   0%|          | 0/2000 [00:00<?, ?it/s]"
      ]
     },
     "metadata": {},
     "output_type": "display_data"
    },
    {
     "name": "stdout",
     "output_type": "stream",
     "text": [
      "Epoch 49 | Full Features | Recall@10: 0.7830 | NDCG@10: 0.7571\n"
     ]
    },
    {
     "data": {
      "application/vnd.jupyter.widget-view+json": {
       "model_id": "7c80a00ea27a4d308e660ac150f5d03d",
       "version_major": 2,
       "version_minor": 0
      },
      "text/plain": [
       "Evaluating:   0%|          | 0/2000 [00:00<?, ?it/s]"
      ]
     },
     "metadata": {},
     "output_type": "display_data"
    },
    {
     "name": "stdout",
     "output_type": "stream",
     "text": [
      "Epoch 50 | Full Features | Recall@10: 0.7795 | NDCG@10: 0.7566\n"
     ]
    },
    {
     "data": {
      "image/png": "[encoded data removed]",
      "text/plain": [
       "<Figure size 1600x600 with 2 Axes>"
      ]
     },
     "metadata": {},
     "output_type": "display_data"
    }
   ],
   "source": [
    "# ─── 1 │ Imports & Config ─────────────────────────────────────────────\n",
    "import pandas as pd\n",
    "import torch\n",
    "import numpy as np\n",
    "import matplotlib.pyplot as plt\n",
    "from torch.utils.data import Dataset, DataLoader\n",
    "import torch.nn as nn\n",
    "from tqdm.auto import tqdm, trange\n",
    "import copy\n",
    "\n",
    "# ---------------- Experiment Configurations ----------------\n",
    "EXPERIMENTS = {\n",
    "    \"Ratings Only\": {\n",
    "        \"user_features\": [],\n",
    "        \"book_features\": []\n",
    "    },\n",
    "    \"Limited Features\": {\n",
    "        \"user_features\": [\"Age\"],\n",
    "        \"book_features\": [\"genre_cluster\"]\n",
    "    },\n",
    "    \"Full Features\": {\n",
    "        \"user_features\": [\"Age\"],\n",
    "        \"book_features\": [\"genre_cluster\", \"tone_cluster\", \"audience_cluster\"]\n",
    "    }\n",
    "}\n",
    "\n",
    "# ---------------- Global Hyper‑parameters ----------------\n",
    "LIKE_TH = 1\n",
    "EPOCHS = 50\n",
    "BASE_EMB_DIM = 64\n",
    "FEATURE_EMB_DIM = 16\n",
    "BATCH_SIZE = 4096\n",
    "LEARNING_RATE = 1e-3\n",
    "WEIGHT_DECAY = 1e-5\n",
    "DEVICE = \"cuda\" if torch.cuda.is_available() else \"cpu\"\n",
    "\n",
    "# ─── 2 │ Data Loading & Preprocessing Function (CORRECTED) ────────────\n",
    "def load_and_preprocess_data(config):\n",
    "    print(f\"Loading data for experiment: {config['name']}...\")\n",
    "    try:\n",
    "        ratings_raw = pd.read_csv(\"data/Ratings.csv\")\n",
    "        users_df_raw = pd.read_csv(\"data/Users.csv\")\n",
    "        books_meta_df_raw = pd.read_csv(\"clustered_outputs/clustered_books_metadata.csv\")\n",
    "    except FileNotFoundError as e:\n",
    "        print(f\"Error loading data files: {e}\")\n",
    "        return None\n",
    "\n",
    "    book_cols = ['ISBN'] + config['book_features']\n",
    "    user_cols = ['User-ID'] + config['user_features']\n",
    "    books_meta_df = books_meta_df_raw[book_cols]\n",
    "    users_df = users_df_raw[user_cols]\n",
    "\n",
    "    if \"Age\" in users_df.columns:\n",
    "        users_df['Age'] = users_df['Age'].fillna(users_df['Age'].median()).astype(int)\n",
    "\n",
    "    df = pd.merge(ratings_raw, users_df, on='User-ID', how='left')\n",
    "    df = pd.merge(df, books_meta_df, on='ISBN', how='left')\n",
    "    df = df.dropna(subset=['User-ID', 'ISBN'] + config['user_features'] + config['book_features'])\n",
    "    df = df[df[\"Book-Rating\"] >= LIKE_TH]\n",
    "\n",
    "    mappings = {\"user_idx\": {u: i for i, u in enumerate(df[\"User-ID\"].unique())},\n",
    "                \"book_idx\": {b: i for i, b in enumerate(df[\"ISBN\"].unique())}}\n",
    "    for col in config['user_features'] + config['book_features']:\n",
    "        mappings[f\"{col}_idx\"] = {val: i for i, val in enumerate(df[col].unique())}\n",
    "\n",
    "    # --- THIS IS THE CORRECTED LOGIC ---\n",
    "    for col, mapping in mappings.items():\n",
    "        if col == 'user_idx':\n",
    "            source_col = 'User-ID'\n",
    "        elif col == 'book_idx':\n",
    "            source_col = 'ISBN'\n",
    "        else:\n",
    "            source_col = col.replace('_idx', '')\n",
    "        df[col] = df[source_col].map(mapping)\n",
    "    # ------------------------------------\n",
    "\n",
    "    df['rank_latest'] = df.groupby('user_idx')['Book-Rating'].rank(method='first', ascending=False)\n",
    "    train_df = df[df['rank_latest'] != 1].copy()\n",
    "    test_df = df[df['rank_latest'] == 1].copy()\n",
    "    \n",
    "    idx_cols = list(mappings.keys())\n",
    "    train_df = train_df.dropna(subset=idx_cols).astype({k: int for k in idx_cols})\n",
    "    test_df = test_df.dropna(subset=idx_cols).astype({k: int for k in idx_cols})\n",
    "    \n",
    "    test_df = test_df.sample(n=min(len(test_df), 2000), random_state=42)\n",
    "    sizes = {f\"n_{col.replace('_idx', '')}\": len(mapping) for col, mapping in mappings.items()}\n",
    "    \n",
    "    return train_df, test_df, mappings, sizes\n",
    "\n",
    "# ─── 3 │ Flexible Dataset and Model ───────────────────────────────────\n",
    "class NCFDataset(Dataset):\n",
    "    def __init__(self, df, n_books, config):\n",
    "        self.df = df\n",
    "        self.n_books = n_books\n",
    "        self.config = config\n",
    "        self.user_item_set = set(zip(df.user_idx.values, df.book_idx.values))\n",
    "        self.all_feature_cols = ['user_idx', 'book_idx'] + [f\"{col}_idx\" for col in config['user_features'] + config['book_features']]\n",
    "\n",
    "    def __len__(self):\n",
    "        return len(self.df)\n",
    "\n",
    "    def __getitem__(self, idx):\n",
    "        row = self.df.iloc[idx]\n",
    "        features = {col.replace('_idx',''): row[col] for col in self.all_feature_cols}\n",
    "        features['item_pos'] = features.pop('book')\n",
    "\n",
    "        item_neg = np.random.randint(self.n_books)\n",
    "        while (features['user'], item_neg) in self.user_item_set:\n",
    "            item_neg = np.random.randint(self.n_books)\n",
    "        features['item_neg'] = item_neg\n",
    "        return features\n",
    "\n",
    "def collate_fn(batch, config):\n",
    "    batch_size = len(batch)\n",
    "    features = {'user': torch.tensor([item['user'] for item in batch], dtype=torch.long).repeat_interleave(2)}\n",
    "    \n",
    "    pos_items = torch.tensor([item['item_pos'] for item in batch], dtype=torch.long)\n",
    "    neg_items = torch.tensor([item['item_neg'] for item in batch], dtype=torch.long)\n",
    "    features['item'] = torch.stack([pos_items, neg_items], dim=1).flatten()\n",
    "    \n",
    "    for col in config['user_features'] + config['book_features']:\n",
    "        features[col] = torch.tensor([item[col] for item in batch], dtype=torch.long).repeat_interleave(2)\n",
    "        \n",
    "    labels = torch.tensor([1, 0] * batch_size, dtype=torch.float32)\n",
    "    return features, labels\n",
    "\n",
    "class HybridNCF(nn.Module):\n",
    "    def __init__(self, sizes, config):\n",
    "        super().__init__()\n",
    "        self.config = config\n",
    "        self.gmf_user_emb = nn.Embedding(sizes['n_user'], BASE_EMB_DIM)\n",
    "        self.gmf_item_emb = nn.Embedding(sizes['n_book'], BASE_EMB_DIM)\n",
    "        \n",
    "        self.mlp_user_emb = nn.Embedding(sizes['n_user'], BASE_EMB_DIM)\n",
    "        self.mlp_item_emb = nn.Embedding(sizes['n_book'], BASE_EMB_DIM)\n",
    "        \n",
    "        self.feature_embeddings = nn.ModuleDict()\n",
    "        mlp_input_dim = BASE_EMB_DIM * 2\n",
    "        for col in config['user_features'] + config['book_features']:\n",
    "            # Correctly reference the size from the 'sizes' dictionary\n",
    "            size_key = f\"n_{col}\"\n",
    "            self.feature_embeddings[col] = nn.Embedding(sizes[size_key], FEATURE_EMB_DIM)\n",
    "            mlp_input_dim += FEATURE_EMB_DIM\n",
    "            \n",
    "        mlp_layers_def = [mlp_input_dim, 256, 128, 64]\n",
    "        self.mlp = nn.Sequential(*[\n",
    "            layer for i in range(len(mlp_layers_def) - 1) \n",
    "            for layer in (nn.Linear(mlp_layers_def[i], mlp_layers_def[i+1]), nn.ReLU())])\n",
    "        \n",
    "        self.predict_layer = nn.Linear(BASE_EMB_DIM + mlp_layers_def[-1], 1)\n",
    "\n",
    "    def forward(self, features):\n",
    "        user, item = features['user'], features['item']\n",
    "        gmf_vector = self.gmf_user_emb(user) * self.gmf_item_emb(item)\n",
    "        \n",
    "        mlp_inputs = [self.mlp_user_emb(user), self.mlp_item_emb(item)]\n",
    "        for col in self.config['user_features'] + self.config['book_features']:\n",
    "            mlp_inputs.append(self.feature_embeddings[col](features[col]))\n",
    "            \n",
    "        mlp_vector = self.mlp(torch.cat(mlp_inputs, dim=-1))\n",
    "        final_vector = torch.cat([gmf_vector, mlp_vector], dim=-1)\n",
    "        return self.predict_layer(final_vector).squeeze()\n",
    "\n",
    "# ─── 4 │ Flexible Evaluation and Training Loop ────────────────────────\n",
    "def evaluate(model, test_df, n_books, config, top_k=10, n_neg_samples=100):\n",
    "    model.eval()\n",
    "    hits, ndcg_sum, total = 0, 0, 0\n",
    "    all_book_indices = np.arange(n_books)\n",
    "    \n",
    "    with torch.no_grad():\n",
    "        for _, row in tqdm(test_df.iterrows(), total=len(test_df), desc=\"Evaluating\", leave=False):\n",
    "            features = {col.replace('_idx', ''): int(row[col]) for col in row.index if '_idx' in col}\n",
    "            pos_b_idx = features.pop('book')\n",
    "            \n",
    "            neg_b_indices = np.random.choice(all_book_indices, n_neg_samples, replace=False)\n",
    "            eval_b_indices = torch.tensor([pos_b_idx] + list(neg_b_indices), device=DEVICE)\n",
    "            \n",
    "            eval_features = {'item': eval_b_indices}\n",
    "            for col, val in features.items():\n",
    "                eval_features[col] = torch.tensor([val] * len(eval_b_indices), device=DEVICE)\n",
    "            \n",
    "            scores = model(eval_features).cpu().numpy()\n",
    "            rank = np.sum(scores >= scores[0])\n",
    "            if rank <= top_k:\n",
    "                hits += 1\n",
    "                ndcg_sum += 1 / np.log2(rank + 1)\n",
    "            total += 1\n",
    "    return (hits / total, ndcg_sum / total) if total else (0, 0)\n",
    "\n",
    "def run_experiment(config):\n",
    "    data = load_and_preprocess_data(config)\n",
    "    if not data: return None\n",
    "    train_df, test_df, mappings, sizes = data\n",
    "\n",
    "    train_ds = NCFDataset(train_df, sizes['n_book'], config)\n",
    "    train_dl = DataLoader(train_ds, batch_size=BATCH_SIZE // 2, shuffle=True, \n",
    "                          collate_fn=lambda batch: collate_fn(batch, config), num_workers=0)\n",
    "\n",
    "    model = HybridNCF(sizes, config).to(DEVICE)\n",
    "    opt = torch.optim.Adam(model.parameters(), lr=LEARNING_RATE, weight_decay=WEIGHT_DECAY)\n",
    "    loss_fn = nn.BCEWithLogitsLoss()\n",
    "\n",
    "    recall_hist, ndcg_hist = [], []\n",
    "    for epoch in trange(EPOCHS, desc=f\"Training '{config['name']}'\"):\n",
    "        model.train()\n",
    "        for features, labels in train_dl:\n",
    "            features = {k: v.to(DEVICE) for k, v in features.items()}\n",
    "            labels = labels.to(DEVICE)\n",
    "            \n",
    "            opt.zero_grad()\n",
    "            predictions = model(features)\n",
    "            loss = loss_fn(predictions, labels)\n",
    "            loss.backward()\n",
    "            opt.step()\n",
    "            \n",
    "        recall, ndcg = evaluate(model, test_df, sizes['n_book'], config)\n",
    "        recall_hist.append(recall)\n",
    "        ndcg_hist.append(ndcg)\n",
    "        print(f\"Epoch {epoch+1:02d} | {config['name']} | Recall@10: {recall:.4f} | NDCG@10: {ndcg:.4f}\")\n",
    "\n",
    "    return {'recall': recall_hist, 'ndcg': ndcg_hist}\n",
    "\n",
    "# ─── 5 │ Main Execution and Plotting ──────────────────────────────────\n",
    "results = {}\n",
    "for name, config in EXPERIMENTS.items():\n",
    "    exp_config = copy.deepcopy(config)\n",
    "    exp_config['name'] = name\n",
    "    results[name] = run_experiment(exp_config)\n",
    "\n",
    "plt.figure(figsize=(16, 6))\n",
    "epochs_range = range(1, EPOCHS + 1)\n",
    "colors = ['#1f77b4', '#ff7f0e', '#2ca02c']\n",
    "linestyles = ['-', '--', ':']\n",
    "\n",
    "plt.subplot(1, 2, 1)\n",
    "for i, (name, res) in enumerate(results.items()):\n",
    "    if res:\n",
    "        plt.plot(epochs_range, res['recall'], marker='o', linestyle=linestyles[i], color=colors[i], label=name)\n",
    "plt.title(\"Recall@10 Comparison\")\n",
    "plt.xlabel(\"Epoch\")\n",
    "plt.ylabel(\"Recall@10\")\n",
    "plt.legend()\n",
    "plt.grid(True)\n",
    "\n",
    "plt.subplot(1, 2, 2)\n",
    "for i, (name, res) in enumerate(results.items()):\n",
    "    if res:\n",
    "        plt.plot(epochs_range, res['ndcg'], marker='o', linestyle=linestyles[i], color=colors[i], label=name)\n",
    "plt.title(\"NDCG@10 Comparison\")\n",
    "plt.xlabel(\"Epoch\")\n",
    "plt.ylabel(\"NDCG@10\")\n",
    "plt.legend()\n",
    "plt.grid(True)\n",
    "\n",
    "plt.tight_layout()\n",
    "plt.show()"
   ]
  },
  {
   "cell_type": "code",
   "execution_count": null,
   "id": "575b612c",
   "metadata": {},
   "outputs": [],
   "source": []
  }
 ],
 "metadata": {
  "kernelspec": {
   "display_name": ".venv (3.13.3)",
   "language": "python",
   "name": "python3"
  },
  "language_info": {
   "codemirror_mode": {
    "name": "ipython",
    "version": 3
   },
   "file_extension": ".py",
   "mimetype": "text/x-python",
   "name": "python",
   "nbconvert_exporter": "python",
   "pygments_lexer": "ipython3",
   "version": "3.13.3"
  }
 },
 "nbformat": 4,
 "nbformat_minor": 5
}
