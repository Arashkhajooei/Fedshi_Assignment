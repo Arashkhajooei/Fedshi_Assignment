{
 "cells": [
  {
   "cell_type": "code",
   "execution_count": 19,
   "id": "4dd652fd",
   "metadata": {},
   "outputs": [
    {
     "data": {
      "application/vnd.jupyter.widget-view+json": {
       "model_id": "13be1701f61b483a9c40300d4e32cf2b",
       "version_major": 2,
       "version_minor": 0
      },
      "text/plain": [
       "Training:   0%|          | 0/30 [00:00<?, ?it/s]"
      ]
     },
     "metadata": {},
     "output_type": "display_data"
    },
    {
     "data": {
      "application/vnd.jupyter.widget-view+json": {
       "model_id": "c30fd5c4730940978cbab02d09c64a26",
       "version_major": 2,
       "version_minor": 0
      },
      "text/plain": [
       "Epoch 1:   0%|          | 0/98 [00:00<?, ?it/s]"
      ]
     },
     "metadata": {},
     "output_type": "display_data"
    },
    {
     "data": {
      "application/vnd.jupyter.widget-view+json": {
       "model_id": "7e2df1e7c0a347fe9e7b909036e6fcc7",
       "version_major": 2,
       "version_minor": 0
      },
      "text/plain": [
       "Evaluating:   0%|          | 0/2000 [00:00<?, ?it/s]"
      ]
     },
     "metadata": {},
     "output_type": "display_data"
    },
    {
     "name": "stdout",
     "output_type": "stream",
     "text": [
      "Epoch 01 │ BPR-Loss: 614.654 │ Recall@10: 0.0970 │ NDCG@10: 0.0478\n"
     ]
    },
    {
     "data": {
      "application/vnd.jupyter.widget-view+json": {
       "model_id": "3d4ed198e630459c983e15a39fbb510e",
       "version_major": 2,
       "version_minor": 0
      },
      "text/plain": [
       "Epoch 2:   0%|          | 0/98 [00:00<?, ?it/s]"
      ]
     },
     "metadata": {},
     "output_type": "display_data"
    },
    {
     "data": {
      "application/vnd.jupyter.widget-view+json": {
       "model_id": "2fccd557e3934bca81c0cee178c7efef",
       "version_major": 2,
       "version_minor": 0
      },
      "text/plain": [
       "Evaluating:   0%|          | 0/2000 [00:00<?, ?it/s]"
      ]
     },
     "metadata": {},
     "output_type": "display_data"
    },
    {
     "name": "stdout",
     "output_type": "stream",
     "text": [
      "Epoch 02 │ BPR-Loss: 367.470 │ Recall@10: 0.0965 │ NDCG@10: 0.0472\n"
     ]
    },
    {
     "data": {
      "application/vnd.jupyter.widget-view+json": {
       "model_id": "2fc638384ea24a39ae3632ba5feb7ba1",
       "version_major": 2,
       "version_minor": 0
      },
      "text/plain": [
       "Epoch 3:   0%|          | 0/98 [00:00<?, ?it/s]"
      ]
     },
     "metadata": {},
     "output_type": "display_data"
    },
    {
     "data": {
      "application/vnd.jupyter.widget-view+json": {
       "model_id": "878f4b916eb640d2a5c36ad22637503c",
       "version_major": 2,
       "version_minor": 0
      },
      "text/plain": [
       "Evaluating:   0%|          | 0/2000 [00:00<?, ?it/s]"
      ]
     },
     "metadata": {},
     "output_type": "display_data"
    },
    {
     "name": "stdout",
     "output_type": "stream",
     "text": [
      "Epoch 03 │ BPR-Loss: 230.131 │ Recall@10: 0.0980 │ NDCG@10: 0.0468\n"
     ]
    },
    {
     "data": {
      "application/vnd.jupyter.widget-view+json": {
       "model_id": "c76a0dc048df43a3bb4620360b2a5592",
       "version_major": 2,
       "version_minor": 0
      },
      "text/plain": [
       "Epoch 4:   0%|          | 0/98 [00:00<?, ?it/s]"
      ]
     },
     "metadata": {},
     "output_type": "display_data"
    },
    {
     "data": {
      "application/vnd.jupyter.widget-view+json": {
       "model_id": "dcee83cf43b74a01b7778313dd72989e",
       "version_major": 2,
       "version_minor": 0
      },
      "text/plain": [
       "Evaluating:   0%|          | 0/2000 [00:00<?, ?it/s]"
      ]
     },
     "metadata": {},
     "output_type": "display_data"
    },
    {
     "name": "stdout",
     "output_type": "stream",
     "text": [
      "Epoch 04 │ BPR-Loss: 154.599 │ Recall@10: 0.0975 │ NDCG@10: 0.0473\n"
     ]
    },
    {
     "data": {
      "application/vnd.jupyter.widget-view+json": {
       "model_id": "e4b597c17636458998ba542b608587fc",
       "version_major": 2,
       "version_minor": 0
      },
      "text/plain": [
       "Epoch 5:   0%|          | 0/98 [00:00<?, ?it/s]"
      ]
     },
     "metadata": {},
     "output_type": "display_data"
    },
    {
     "data": {
      "application/vnd.jupyter.widget-view+json": {
       "model_id": "941b4206a6c344708f6f6a59d811a355",
       "version_major": 2,
       "version_minor": 0
      },
      "text/plain": [
       "Evaluating:   0%|          | 0/2000 [00:00<?, ?it/s]"
      ]
     },
     "metadata": {},
     "output_type": "display_data"
    },
    {
     "name": "stdout",
     "output_type": "stream",
     "text": [
      "Epoch 05 │ BPR-Loss: 110.097 │ Recall@10: 0.1005 │ NDCG@10: 0.0497\n"
     ]
    },
    {
     "data": {
      "application/vnd.jupyter.widget-view+json": {
       "model_id": "5e128a39f8bc4ce2b69e133af3bbfab8",
       "version_major": 2,
       "version_minor": 0
      },
      "text/plain": [
       "Epoch 6:   0%|          | 0/98 [00:00<?, ?it/s]"
      ]
     },
     "metadata": {},
     "output_type": "display_data"
    },
    {
     "data": {
      "application/vnd.jupyter.widget-view+json": {
       "model_id": "d3635c47e5864a9b874940ab7a60a743",
       "version_major": 2,
       "version_minor": 0
      },
      "text/plain": [
       "Evaluating:   0%|          | 0/2000 [00:00<?, ?it/s]"
      ]
     },
     "metadata": {},
     "output_type": "display_data"
    },
    {
     "name": "stdout",
     "output_type": "stream",
     "text": [
      "Epoch 06 │ BPR-Loss: 82.986 │ Recall@10: 0.1030 │ NDCG@10: 0.0495\n"
     ]
    },
    {
     "data": {
      "application/vnd.jupyter.widget-view+json": {
       "model_id": "729936d0877842a284e50be100d4bb49",
       "version_major": 2,
       "version_minor": 0
      },
      "text/plain": [
       "Epoch 7:   0%|          | 0/98 [00:00<?, ?it/s]"
      ]
     },
     "metadata": {},
     "output_type": "display_data"
    },
    {
     "data": {
      "application/vnd.jupyter.widget-view+json": {
       "model_id": "99df4a18222c46f8a93d2b61f1062ef3",
       "version_major": 2,
       "version_minor": 0
      },
      "text/plain": [
       "Evaluating:   0%|          | 0/2000 [00:00<?, ?it/s]"
      ]
     },
     "metadata": {},
     "output_type": "display_data"
    },
    {
     "name": "stdout",
     "output_type": "stream",
     "text": [
      "Epoch 07 │ BPR-Loss: 63.919 │ Recall@10: 0.1140 │ NDCG@10: 0.0547\n"
     ]
    },
    {
     "data": {
      "application/vnd.jupyter.widget-view+json": {
       "model_id": "2ddfbaa0eb0c4a7a9a83d6b955563e00",
       "version_major": 2,
       "version_minor": 0
      },
      "text/plain": [
       "Epoch 8:   0%|          | 0/98 [00:00<?, ?it/s]"
      ]
     },
     "metadata": {},
     "output_type": "display_data"
    },
    {
     "data": {
      "application/vnd.jupyter.widget-view+json": {
       "model_id": "16dc88b549894419927aa3086403b640",
       "version_major": 2,
       "version_minor": 0
      },
      "text/plain": [
       "Evaluating:   0%|          | 0/2000 [00:00<?, ?it/s]"
      ]
     },
     "metadata": {},
     "output_type": "display_data"
    },
    {
     "name": "stdout",
     "output_type": "stream",
     "text": [
      "Epoch 08 │ BPR-Loss: 51.223 │ Recall@10: 0.1130 │ NDCG@10: 0.0553\n"
     ]
    },
    {
     "data": {
      "application/vnd.jupyter.widget-view+json": {
       "model_id": "2b240d533131413ab5f6ff728786ff2e",
       "version_major": 2,
       "version_minor": 0
      },
      "text/plain": [
       "Epoch 9:   0%|          | 0/98 [00:00<?, ?it/s]"
      ]
     },
     "metadata": {},
     "output_type": "display_data"
    },
    {
     "data": {
      "application/vnd.jupyter.widget-view+json": {
       "model_id": "8f6261f0f4b74c849d496f6ee594fe17",
       "version_major": 2,
       "version_minor": 0
      },
      "text/plain": [
       "Evaluating:   0%|          | 0/2000 [00:00<?, ?it/s]"
      ]
     },
     "metadata": {},
     "output_type": "display_data"
    },
    {
     "name": "stdout",
     "output_type": "stream",
     "text": [
      "Epoch 09 │ BPR-Loss: 41.973 │ Recall@10: 0.1180 │ NDCG@10: 0.0551\n"
     ]
    },
    {
     "data": {
      "application/vnd.jupyter.widget-view+json": {
       "model_id": "ac3563f4ad984a88b60fade15091dd3a",
       "version_major": 2,
       "version_minor": 0
      },
      "text/plain": [
       "Epoch 10:   0%|          | 0/98 [00:00<?, ?it/s]"
      ]
     },
     "metadata": {},
     "output_type": "display_data"
    },
    {
     "data": {
      "application/vnd.jupyter.widget-view+json": {
       "model_id": "129c0ae7cd7d46e79d09e88f26ba83c4",
       "version_major": 2,
       "version_minor": 0
      },
      "text/plain": [
       "Evaluating:   0%|          | 0/2000 [00:00<?, ?it/s]"
      ]
     },
     "metadata": {},
     "output_type": "display_data"
    },
    {
     "name": "stdout",
     "output_type": "stream",
     "text": [
      "Epoch 10 │ BPR-Loss: 35.274 │ Recall@10: 0.1135 │ NDCG@10: 0.0572\n"
     ]
    },
    {
     "data": {
      "application/vnd.jupyter.widget-view+json": {
       "model_id": "5c5bbd4b33b24c89a7e3c339a3865a77",
       "version_major": 2,
       "version_minor": 0
      },
      "text/plain": [
       "Epoch 11:   0%|          | 0/98 [00:00<?, ?it/s]"
      ]
     },
     "metadata": {},
     "output_type": "display_data"
    },
    {
     "data": {
      "application/vnd.jupyter.widget-view+json": {
       "model_id": "ae8f901f04cb486ebaa005c25da70b6a",
       "version_major": 2,
       "version_minor": 0
      },
      "text/plain": [
       "Evaluating:   0%|          | 0/2000 [00:00<?, ?it/s]"
      ]
     },
     "metadata": {},
     "output_type": "display_data"
    },
    {
     "name": "stdout",
     "output_type": "stream",
     "text": [
      "Epoch 11 │ BPR-Loss: 29.694 │ Recall@10: 0.1220 │ NDCG@10: 0.0591\n"
     ]
    },
    {
     "data": {
      "application/vnd.jupyter.widget-view+json": {
       "model_id": "e20a9f7cbf3f4885bb4f8e1ec24f8ca1",
       "version_major": 2,
       "version_minor": 0
      },
      "text/plain": [
       "Epoch 12:   0%|          | 0/98 [00:00<?, ?it/s]"
      ]
     },
     "metadata": {},
     "output_type": "display_data"
    },
    {
     "data": {
      "application/vnd.jupyter.widget-view+json": {
       "model_id": "d415fef2c06947be8766a3af6a44d191",
       "version_major": 2,
       "version_minor": 0
      },
      "text/plain": [
       "Evaluating:   0%|          | 0/2000 [00:00<?, ?it/s]"
      ]
     },
     "metadata": {},
     "output_type": "display_data"
    },
    {
     "name": "stdout",
     "output_type": "stream",
     "text": [
      "Epoch 12 │ BPR-Loss: 25.414 │ Recall@10: 0.1195 │ NDCG@10: 0.0570\n"
     ]
    },
    {
     "data": {
      "application/vnd.jupyter.widget-view+json": {
       "model_id": "00df9e006e004a918412651abe9ba5e1",
       "version_major": 2,
       "version_minor": 0
      },
      "text/plain": [
       "Epoch 13:   0%|          | 0/98 [00:00<?, ?it/s]"
      ]
     },
     "metadata": {},
     "output_type": "display_data"
    },
    {
     "data": {
      "application/vnd.jupyter.widget-view+json": {
       "model_id": "5ba20db4a5114c078465e15351d44bd8",
       "version_major": 2,
       "version_minor": 0
      },
      "text/plain": [
       "Evaluating:   0%|          | 0/2000 [00:00<?, ?it/s]"
      ]
     },
     "metadata": {},
     "output_type": "display_data"
    },
    {
     "name": "stdout",
     "output_type": "stream",
     "text": [
      "Epoch 13 │ BPR-Loss: 22.038 │ Recall@10: 0.1265 │ NDCG@10: 0.0611\n"
     ]
    },
    {
     "data": {
      "application/vnd.jupyter.widget-view+json": {
       "model_id": "5cad0fde41e340e6885e406db1e3e208",
       "version_major": 2,
       "version_minor": 0
      },
      "text/plain": [
       "Epoch 14:   0%|          | 0/98 [00:00<?, ?it/s]"
      ]
     },
     "metadata": {},
     "output_type": "display_data"
    },
    {
     "data": {
      "application/vnd.jupyter.widget-view+json": {
       "model_id": "e1e28f676b3c4288af27cc4521e5ba74",
       "version_major": 2,
       "version_minor": 0
      },
      "text/plain": [
       "Evaluating:   0%|          | 0/2000 [00:00<?, ?it/s]"
      ]
     },
     "metadata": {},
     "output_type": "display_data"
    },
    {
     "name": "stdout",
     "output_type": "stream",
     "text": [
      "Epoch 14 │ BPR-Loss: 19.443 │ Recall@10: 0.1350 │ NDCG@10: 0.0635\n"
     ]
    },
    {
     "data": {
      "application/vnd.jupyter.widget-view+json": {
       "model_id": "e8e6b1cd7157436aa37a798c566deddb",
       "version_major": 2,
       "version_minor": 0
      },
      "text/plain": [
       "Epoch 15:   0%|          | 0/98 [00:00<?, ?it/s]"
      ]
     },
     "metadata": {},
     "output_type": "display_data"
    },
    {
     "data": {
      "application/vnd.jupyter.widget-view+json": {
       "model_id": "6e5027bc6dd84da8b44a5f52b9d3aa00",
       "version_major": 2,
       "version_minor": 0
      },
      "text/plain": [
       "Evaluating:   0%|          | 0/2000 [00:00<?, ?it/s]"
      ]
     },
     "metadata": {},
     "output_type": "display_data"
    },
    {
     "name": "stdout",
     "output_type": "stream",
     "text": [
      "Epoch 15 │ BPR-Loss: 16.973 │ Recall@10: 0.1245 │ NDCG@10: 0.0602\n"
     ]
    },
    {
     "data": {
      "application/vnd.jupyter.widget-view+json": {
       "model_id": "f6615f02c423486e86e4f30d68c56af3",
       "version_major": 2,
       "version_minor": 0
      },
      "text/plain": [
       "Epoch 16:   0%|          | 0/98 [00:00<?, ?it/s]"
      ]
     },
     "metadata": {},
     "output_type": "display_data"
    },
    {
     "data": {
      "application/vnd.jupyter.widget-view+json": {
       "model_id": "adde7a1a6a8f4cef87af72a662320db5",
       "version_major": 2,
       "version_minor": 0
      },
      "text/plain": [
       "Evaluating:   0%|          | 0/2000 [00:00<?, ?it/s]"
      ]
     },
     "metadata": {},
     "output_type": "display_data"
    },
    {
     "name": "stdout",
     "output_type": "stream",
     "text": [
      "Epoch 16 │ BPR-Loss: 15.484 │ Recall@10: 0.1315 │ NDCG@10: 0.0626\n"
     ]
    },
    {
     "data": {
      "application/vnd.jupyter.widget-view+json": {
       "model_id": "8486bfb8c70c4d28b7d0596dcdbbbb06",
       "version_major": 2,
       "version_minor": 0
      },
      "text/plain": [
       "Epoch 17:   0%|          | 0/98 [00:00<?, ?it/s]"
      ]
     },
     "metadata": {},
     "output_type": "display_data"
    },
    {
     "data": {
      "application/vnd.jupyter.widget-view+json": {
       "model_id": "720dde0689b6415786da266f483736f6",
       "version_major": 2,
       "version_minor": 0
      },
      "text/plain": [
       "Evaluating:   0%|          | 0/2000 [00:00<?, ?it/s]"
      ]
     },
     "metadata": {},
     "output_type": "display_data"
    },
    {
     "name": "stdout",
     "output_type": "stream",
     "text": [
      "Epoch 17 │ BPR-Loss: 13.736 │ Recall@10: 0.1320 │ NDCG@10: 0.0624\n"
     ]
    },
    {
     "data": {
      "application/vnd.jupyter.widget-view+json": {
       "model_id": "933fe580d9eb4ef8b40e1b3578958686",
       "version_major": 2,
       "version_minor": 0
      },
      "text/plain": [
       "Epoch 18:   0%|          | 0/98 [00:00<?, ?it/s]"
      ]
     },
     "metadata": {},
     "output_type": "display_data"
    },
    {
     "data": {
      "application/vnd.jupyter.widget-view+json": {
       "model_id": "d088478b5e6747c0b501c2105156d44f",
       "version_major": 2,
       "version_minor": 0
      },
      "text/plain": [
       "Evaluating:   0%|          | 0/2000 [00:00<?, ?it/s]"
      ]
     },
     "metadata": {},
     "output_type": "display_data"
    },
    {
     "name": "stdout",
     "output_type": "stream",
     "text": [
      "Epoch 18 │ BPR-Loss: 12.498 │ Recall@10: 0.1285 │ NDCG@10: 0.0650\n"
     ]
    },
    {
     "data": {
      "application/vnd.jupyter.widget-view+json": {
       "model_id": "a6b6198f49dc425abebec5818daaa100",
       "version_major": 2,
       "version_minor": 0
      },
      "text/plain": [
       "Epoch 19:   0%|          | 0/98 [00:00<?, ?it/s]"
      ]
     },
     "metadata": {},
     "output_type": "display_data"
    },
    {
     "data": {
      "application/vnd.jupyter.widget-view+json": {
       "model_id": "7ad3a595a91f452b8a91a29ff2e98954",
       "version_major": 2,
       "version_minor": 0
      },
      "text/plain": [
       "Evaluating:   0%|          | 0/2000 [00:00<?, ?it/s]"
      ]
     },
     "metadata": {},
     "output_type": "display_data"
    },
    {
     "name": "stdout",
     "output_type": "stream",
     "text": [
      "Epoch 19 │ BPR-Loss: 11.348 │ Recall@10: 0.1385 │ NDCG@10: 0.0664\n"
     ]
    },
    {
     "data": {
      "application/vnd.jupyter.widget-view+json": {
       "model_id": "2d67ca71cff24561a541761afdb7ee7b",
       "version_major": 2,
       "version_minor": 0
      },
      "text/plain": [
       "Epoch 20:   0%|          | 0/98 [00:00<?, ?it/s]"
      ]
     },
     "metadata": {},
     "output_type": "display_data"
    },
    {
     "data": {
      "application/vnd.jupyter.widget-view+json": {
       "model_id": "7af129280c254434a0093a1a5978ac15",
       "version_major": 2,
       "version_minor": 0
      },
      "text/plain": [
       "Evaluating:   0%|          | 0/2000 [00:00<?, ?it/s]"
      ]
     },
     "metadata": {},
     "output_type": "display_data"
    },
    {
     "name": "stdout",
     "output_type": "stream",
     "text": [
      "Epoch 20 │ BPR-Loss: 10.231 │ Recall@10: 0.1370 │ NDCG@10: 0.0651\n"
     ]
    },
    {
     "data": {
      "application/vnd.jupyter.widget-view+json": {
       "model_id": "848c40d721aa4bafba3c64db64914dbf",
       "version_major": 2,
       "version_minor": 0
      },
      "text/plain": [
       "Epoch 21:   0%|          | 0/98 [00:00<?, ?it/s]"
      ]
     },
     "metadata": {},
     "output_type": "display_data"
    },
    {
     "data": {
      "application/vnd.jupyter.widget-view+json": {
       "model_id": "33c4cb09affc4142941b73861607100b",
       "version_major": 2,
       "version_minor": 0
      },
      "text/plain": [
       "Evaluating:   0%|          | 0/2000 [00:00<?, ?it/s]"
      ]
     },
     "metadata": {},
     "output_type": "display_data"
    },
    {
     "name": "stdout",
     "output_type": "stream",
     "text": [
      "Epoch 21 │ BPR-Loss: 9.571 │ Recall@10: 0.1420 │ NDCG@10: 0.0679\n"
     ]
    },
    {
     "data": {
      "application/vnd.jupyter.widget-view+json": {
       "model_id": "a1a85f372e7d49fc9ced03f10e9e1978",
       "version_major": 2,
       "version_minor": 0
      },
      "text/plain": [
       "Epoch 22:   0%|          | 0/98 [00:00<?, ?it/s]"
      ]
     },
     "metadata": {},
     "output_type": "display_data"
    },
    {
     "data": {
      "application/vnd.jupyter.widget-view+json": {
       "model_id": "c9de47b5195c4244b3c1ba53663e9c76",
       "version_major": 2,
       "version_minor": 0
      },
      "text/plain": [
       "Evaluating:   0%|          | 0/2000 [00:00<?, ?it/s]"
      ]
     },
     "metadata": {},
     "output_type": "display_data"
    },
    {
     "name": "stdout",
     "output_type": "stream",
     "text": [
      "Epoch 22 │ BPR-Loss: 8.837 │ Recall@10: 0.1455 │ NDCG@10: 0.0689\n"
     ]
    },
    {
     "data": {
      "application/vnd.jupyter.widget-view+json": {
       "model_id": "2aabc1b4a00c4119bc3db3d8b208c15a",
       "version_major": 2,
       "version_minor": 0
      },
      "text/plain": [
       "Epoch 23:   0%|          | 0/98 [00:00<?, ?it/s]"
      ]
     },
     "metadata": {},
     "output_type": "display_data"
    },
    {
     "data": {
      "application/vnd.jupyter.widget-view+json": {
       "model_id": "cf15902aeee24495a0bbc4743a6416b3",
       "version_major": 2,
       "version_minor": 0
      },
      "text/plain": [
       "Evaluating:   0%|          | 0/2000 [00:00<?, ?it/s]"
      ]
     },
     "metadata": {},
     "output_type": "display_data"
    },
    {
     "name": "stdout",
     "output_type": "stream",
     "text": [
      "Epoch 23 │ BPR-Loss: 7.895 │ Recall@10: 0.1425 │ NDCG@10: 0.0683\n"
     ]
    },
    {
     "data": {
      "application/vnd.jupyter.widget-view+json": {
       "model_id": "3c486169712348be9d2dfa6b563a4a0f",
       "version_major": 2,
       "version_minor": 0
      },
      "text/plain": [
       "Epoch 24:   0%|          | 0/98 [00:00<?, ?it/s]"
      ]
     },
     "metadata": {},
     "output_type": "display_data"
    },
    {
     "data": {
      "application/vnd.jupyter.widget-view+json": {
       "model_id": "8f82452226234ceb9e832450d51926ab",
       "version_major": 2,
       "version_minor": 0
      },
      "text/plain": [
       "Evaluating:   0%|          | 0/2000 [00:00<?, ?it/s]"
      ]
     },
     "metadata": {},
     "output_type": "display_data"
    },
    {
     "name": "stdout",
     "output_type": "stream",
     "text": [
      "Epoch 24 │ BPR-Loss: 7.285 │ Recall@10: 0.1390 │ NDCG@10: 0.0692\n"
     ]
    },
    {
     "data": {
      "application/vnd.jupyter.widget-view+json": {
       "model_id": "fbcad82d6c00413980a60cbfde84a996",
       "version_major": 2,
       "version_minor": 0
      },
      "text/plain": [
       "Epoch 25:   0%|          | 0/98 [00:00<?, ?it/s]"
      ]
     },
     "metadata": {},
     "output_type": "display_data"
    },
    {
     "data": {
      "application/vnd.jupyter.widget-view+json": {
       "model_id": "bd7a8649e2234774a516d1eba85c7e9c",
       "version_major": 2,
       "version_minor": 0
      },
      "text/plain": [
       "Evaluating:   0%|          | 0/2000 [00:00<?, ?it/s]"
      ]
     },
     "metadata": {},
     "output_type": "display_data"
    },
    {
     "name": "stdout",
     "output_type": "stream",
     "text": [
      "Epoch 25 │ BPR-Loss: 6.918 │ Recall@10: 0.1385 │ NDCG@10: 0.0675\n"
     ]
    },
    {
     "data": {
      "application/vnd.jupyter.widget-view+json": {
       "model_id": "7507222018724e4ea0b41fc89b938f90",
       "version_major": 2,
       "version_minor": 0
      },
      "text/plain": [
       "Epoch 26:   0%|          | 0/98 [00:00<?, ?it/s]"
      ]
     },
     "metadata": {},
     "output_type": "display_data"
    },
    {
     "data": {
      "application/vnd.jupyter.widget-view+json": {
       "model_id": "0881e3c9432b444c8b904b902b8708c4",
       "version_major": 2,
       "version_minor": 0
      },
      "text/plain": [
       "Evaluating:   0%|          | 0/2000 [00:00<?, ?it/s]"
      ]
     },
     "metadata": {},
     "output_type": "display_data"
    },
    {
     "name": "stdout",
     "output_type": "stream",
     "text": [
      "Epoch 26 │ BPR-Loss: 6.514 │ Recall@10: 0.1480 │ NDCG@10: 0.0723\n"
     ]
    },
    {
     "data": {
      "application/vnd.jupyter.widget-view+json": {
       "model_id": "9ff42ca9c3924fd293583c0601c83aac",
       "version_major": 2,
       "version_minor": 0
      },
      "text/plain": [
       "Epoch 27:   0%|          | 0/98 [00:00<?, ?it/s]"
      ]
     },
     "metadata": {},
     "output_type": "display_data"
    },
    {
     "data": {
      "application/vnd.jupyter.widget-view+json": {
       "model_id": "6734f0dd1de946808496d861f7867ace",
       "version_major": 2,
       "version_minor": 0
      },
      "text/plain": [
       "Evaluating:   0%|          | 0/2000 [00:00<?, ?it/s]"
      ]
     },
     "metadata": {},
     "output_type": "display_data"
    },
    {
     "name": "stdout",
     "output_type": "stream",
     "text": [
      "Epoch 27 │ BPR-Loss: 6.030 │ Recall@10: 0.1380 │ NDCG@10: 0.0672\n"
     ]
    },
    {
     "data": {
      "application/vnd.jupyter.widget-view+json": {
       "model_id": "576b653be7264035a29e257cea9f7253",
       "version_major": 2,
       "version_minor": 0
      },
      "text/plain": [
       "Epoch 28:   0%|          | 0/98 [00:00<?, ?it/s]"
      ]
     },
     "metadata": {},
     "output_type": "display_data"
    },
    {
     "data": {
      "application/vnd.jupyter.widget-view+json": {
       "model_id": "afad94dc6bf5482ea18e2454a09405a3",
       "version_major": 2,
       "version_minor": 0
      },
      "text/plain": [
       "Evaluating:   0%|          | 0/2000 [00:00<?, ?it/s]"
      ]
     },
     "metadata": {},
     "output_type": "display_data"
    },
    {
     "name": "stdout",
     "output_type": "stream",
     "text": [
      "Epoch 28 │ BPR-Loss: 5.789 │ Recall@10: 0.1460 │ NDCG@10: 0.0718\n"
     ]
    },
    {
     "data": {
      "application/vnd.jupyter.widget-view+json": {
       "model_id": "ccbf73b1a1b2449499b13a40706284b2",
       "version_major": 2,
       "version_minor": 0
      },
      "text/plain": [
       "Epoch 29:   0%|          | 0/98 [00:00<?, ?it/s]"
      ]
     },
     "metadata": {},
     "output_type": "display_data"
    },
    {
     "data": {
      "application/vnd.jupyter.widget-view+json": {
       "model_id": "93615c0c926c43a191ea3d0d0dd28858",
       "version_major": 2,
       "version_minor": 0
      },
      "text/plain": [
       "Evaluating:   0%|          | 0/2000 [00:00<?, ?it/s]"
      ]
     },
     "metadata": {},
     "output_type": "display_data"
    },
    {
     "name": "stdout",
     "output_type": "stream",
     "text": [
      "Epoch 29 │ BPR-Loss: 5.258 │ Recall@10: 0.1505 │ NDCG@10: 0.0735\n"
     ]
    },
    {
     "data": {
      "application/vnd.jupyter.widget-view+json": {
       "model_id": "efa9438a90c94c398dc4c7d47149c776",
       "version_major": 2,
       "version_minor": 0
      },
      "text/plain": [
       "Epoch 30:   0%|          | 0/98 [00:00<?, ?it/s]"
      ]
     },
     "metadata": {},
     "output_type": "display_data"
    },
    {
     "data": {
      "application/vnd.jupyter.widget-view+json": {
       "model_id": "49df3ea3cc784bb9a37671bca28dbd23",
       "version_major": 2,
       "version_minor": 0
      },
      "text/plain": [
       "Evaluating:   0%|          | 0/2000 [00:00<?, ?it/s]"
      ]
     },
     "metadata": {},
     "output_type": "display_data"
    },
    {
     "name": "stdout",
     "output_type": "stream",
     "text": [
      "Epoch 30 │ BPR-Loss: 5.139 │ Recall@10: 0.1485 │ NDCG@10: 0.0713\n"
     ]
    },
    {
     "data": {
      "image/png": "[encoded data removed]",
      "text/plain": [
       "<Figure size 1500x400 with 3 Axes>"
      ]
     },
     "metadata": {},
     "output_type": "display_data"
    }
   ],
   "source": [
    "# ─── 1 │ Imports & Config ─────────────────────────────────────────────\n",
    "import pandas as pd, torch, numpy as np\n",
    "import matplotlib.pyplot as plt\n",
    "from torch.utils.data import Dataset, DataLoader\n",
    "import torch.nn as nn\n",
    "from tqdm.auto import tqdm, trange\n",
    "\n",
    "# ---------------- Hyper‑parameters ----------------\n",
    "LIKE_TH     = 1        # treat ≥1 as positive\n",
    "EPOCHS      = 30       # BPR often needs a few more epochs\n",
    "EMB_DIM     = 128      # bigger latent space\n",
    "BATCH       = 4096     # keep batches moderate (pos+neg)\n",
    "EVAL_BATCH  = 2048     # scoring batch size\n",
    "DEVICE      = \"cuda\" if torch.cuda.is_available() else \"cpu\"\n",
    "# ---------------------------------------------------\n",
    "\n",
    "# ─── 2 │ Load & Filter Ratings ────────────────────────────────────────\n",
    "ratings_raw = pd.read_csv(\"data/Ratings.csv\")\n",
    "ratings_raw = ratings_raw[ratings_raw[\"Book-Rating\"] >= LIKE_TH]\n",
    "\n",
    "# ─── 3 │ Train/Test Split (leave‑one‑out per user) ─────────────────────\n",
    "def train_test_split(df):\n",
    "    train_idx, test_idx = [], []\n",
    "    for _, grp in df.groupby(\"User-ID\"):\n",
    "        if len(grp) < 2:\n",
    "            train_idx.extend(grp.index)\n",
    "        else:\n",
    "            test_idx.append(grp.index[-1])      # last rating as test\n",
    "            train_idx.extend(grp.index[:-1])\n",
    "    return df.loc[train_idx], df.loc[test_idx]\n",
    "\n",
    "train_df, test_df = train_test_split(ratings_raw)\n",
    "\n",
    "# ─── 4 │ Encode IDs ───────────────────────────────────────────────────\n",
    "user2idx = {u: i for i, u in enumerate(train_df[\"User-ID\"].unique())}\n",
    "book2idx = {b: i for i, b in enumerate(train_df[\"ISBN\"].unique())}\n",
    "idx2book = {i: b for b, i in book2idx.items()}\n",
    "\n",
    "train_df[\"user_idx\"] = train_df[\"User-ID\"].map(user2idx)\n",
    "train_df[\"book_idx\"] = train_df[\"ISBN\"].map(book2idx)\n",
    "test_df[\"user_idx\"]  = test_df[\"User-ID\"].map(user2idx)\n",
    "test_df[\"book_idx\"]  = test_df[\"ISBN\"].map(book2idx)\n",
    "test_df = test_df.dropna().astype({\"user_idx\": int, \"book_idx\": int})\n",
    "\n",
    "# Optional: subsample test set for speed during experiments\n",
    "test_df = test_df.sample(n=min(len(test_df), 2000), random_state=42)\n",
    "\n",
    "n_users, n_books = len(user2idx), len(book2idx)\n",
    "\n",
    "# ─── 5 │ Dataset w/ ONE negative per positive (paired) ───────────────\n",
    "class BPRDataset(Dataset):\n",
    "    def __init__(self, df, n_books):\n",
    "        self.pos_pairs = df[[\"user_idx\", \"book_idx\"]].values\n",
    "        self.user_book = set(map(tuple, self.pos_pairs))\n",
    "        self.n_books   = n_books\n",
    "\n",
    "    def __len__(self):\n",
    "        return len(self.pos_pairs)\n",
    "\n",
    "    def __getitem__(self, idx):\n",
    "        u, b_pos = self.pos_pairs[idx]\n",
    "        # sample a negative book for the same user\n",
    "        while True:\n",
    "            b_neg = np.random.randint(self.n_books)\n",
    "            if (u, b_neg) not in self.user_book:\n",
    "                break\n",
    "        return u, b_pos, b_neg  # note: returns a triplet\n",
    "\n",
    "def collate_bpr(batch):\n",
    "    users, pos, neg = zip(*batch)\n",
    "    return (torch.tensor(users),\n",
    "            torch.tensor(pos),\n",
    "            torch.tensor(neg))\n",
    "\n",
    "train_ds = BPRDataset(train_df, n_books)\n",
    "train_dl = DataLoader(train_ds, batch_size=BATCH,\n",
    "                      shuffle=True, collate_fn=collate_bpr)\n",
    "\n",
    "# ─── 6 │ Matrix‑Factorisation Model (+ bias) ──────────────────────────\n",
    "class MF_BPR(nn.Module):\n",
    "    def __init__(self, n_users, n_books, emb_dim):\n",
    "        super().__init__()\n",
    "        self.user_e  = nn.Embedding(n_users, emb_dim)\n",
    "        self.book_e  = nn.Embedding(n_books, emb_dim)\n",
    "        self.user_b  = nn.Embedding(n_users, 1)\n",
    "        self.book_b  = nn.Embedding(n_books, 1)\n",
    "\n",
    "    def forward(self, u, b):\n",
    "        \"\"\"returns score s(u,b)\"\"\"\n",
    "        dot = (self.user_e(u) * self.book_e(b)).sum(1)\n",
    "        return dot + self.user_b(u).squeeze(1) + self.book_b(b).squeeze(1)\n",
    "\n",
    "model = MF_BPR(n_users, n_books, EMB_DIM).to(DEVICE)\n",
    "opt   = torch.optim.Adam(model.parameters(), lr=1e-2)\n",
    "\n",
    "# ─── 7 │ BPR Loss fn (pair‑wise) ──────────────────────────────────────\n",
    "def bpr_loss(pos_scores, neg_scores):\n",
    "    return (-torch.log(torch.sigmoid(pos_scores - neg_scores))).mean()\n",
    "\n",
    "# ─── 8 │ Evaluation (Recall@10, NDCG@10) ─────────────────────────────\n",
    "\n",
    "def evaluate(model, test_df, train_df, top_k=10, n_neg_samples=100):\n",
    "    model.eval()\n",
    "    train_history = train_df.groupby(\"user_idx\")[\"book_idx\"].apply(set).to_dict()\n",
    "    all_book_indices = np.arange(n_books)\n",
    "\n",
    "    hits = ndcg_sum = total = 0\n",
    "    with torch.no_grad():\n",
    "        for _, row in tqdm(test_df.iterrows(), total=len(test_df), desc=\"Evaluating\", leave=False):\n",
    "            u_idx = int(row[\"user_idx\"])\n",
    "            pos_b_idx = int(row[\"book_idx\"])\n",
    "            \n",
    "            # Get books this user has already seen in training\n",
    "            seen_books = train_history.get(u_idx, set())\n",
    "            \n",
    "            # Sample N negative books the user has not seen\n",
    "            neg_b_indices = []\n",
    "            while len(neg_b_indices) < n_neg_samples:\n",
    "                samples = np.random.choice(all_book_indices, n_neg_samples - len(neg_b_indices))\n",
    "                # Add samples that are not the positive item and not in the seen list\n",
    "                neg_b_indices.extend([b for b in samples if b != pos_b_idx and b not in seen_books])\n",
    "\n",
    "            # Combine the one positive item with the 100 negative items\n",
    "            eval_b_indices = torch.tensor([pos_b_idx] + neg_b_indices, device=DEVICE)\n",
    "            \n",
    "            # Prepare user tensor\n",
    "            u_tensor = torch.tensor([u_idx] * len(eval_b_indices), device=DEVICE)\n",
    "\n",
    "            # Get scores\n",
    "            scores = model(u_tensor, eval_b_indices).cpu().numpy()\n",
    "\n",
    "            # The ground truth item is at index 0. Find its rank among all scored items.\n",
    "            rank = np.sum(scores >= scores[0])\n",
    "            \n",
    "            if rank <= top_k:\n",
    "                hits += 1\n",
    "                ndcg_sum += 1 / np.log2(rank + 1)\n",
    "            total += 1\n",
    "\n",
    "    recall = hits / total if total else 0\n",
    "    ndcg = ndcg_sum / total if total else 0\n",
    "    return recall, ndcg\n",
    "\n",
    "# ─── 9 │ Training & Evaluation Loop (MODIFIED) ───────────────────────\n",
    "loss_hist, recall_hist, ndcg_hist = [], [], []\n",
    "\n",
    "# The main training loop\n",
    "for epoch in trange(EPOCHS, desc=\"Training\"):\n",
    "    model.train()\n",
    "    epoch_loss = 0.0\n",
    "    # Loop over training batches\n",
    "    for users, pos_b, neg_b in tqdm(train_dl, leave=False, desc=f\"Epoch {epoch+1}\"):\n",
    "        users, pos_b, neg_b = (t.to(DEVICE) for t in (users, pos_b, neg_b))\n",
    "\n",
    "        pos_scores = model(users, pos_b)\n",
    "        neg_scores = model(users, neg_b)\n",
    "        loss = bpr_loss(pos_scores, neg_scores)\n",
    "\n",
    "        opt.zero_grad()\n",
    "        loss.backward()\n",
    "        opt.step()\n",
    "        epoch_loss += loss.item()\n",
    "\n",
    "    # --- THIS IS THE CORRECTED LOGIC ---\n",
    "    # Evaluate at the end of each epoch\n",
    "    recall, ndcg = evaluate(model, test_df, train_df, top_k=10)\n",
    "    \n",
    "    # Append all metrics for this epoch to their respective history lists\n",
    "    loss_hist.append(epoch_loss)\n",
    "    recall_hist.append(recall)\n",
    "    ndcg_hist.append(ndcg)\n",
    "\n",
    "    print(f\"Epoch {epoch+1:02d} │ BPR-Loss: {epoch_loss:.3f} │ Recall@10: {recall:.4f} │ NDCG@10: {ndcg:.4f}\")\n",
    "\n",
    "# ─── 10 │ Final Evaluation (REMOVED - now part of the loop) ──────────\n",
    "# This section is no longer needed.\n",
    "\n",
    "# ─── 11 │ Curves ─────────────────────────────────────────────────────\n",
    "plt.figure(figsize=(15, 4)) # Increased width for better spacing\n",
    "\n",
    "plt.subplot(1, 3, 1)\n",
    "plt.plot(range(1, EPOCHS + 1), loss_hist, marker='o')\n",
    "plt.title(\"BPR Training Loss\")\n",
    "plt.xlabel(\"Epoch\"); plt.ylabel(\"Loss\")\n",
    "\n",
    "plt.subplot(1, 3, 2)\n",
    "plt.plot(range(1, EPOCHS + 1), recall_hist, marker='o', color='green')\n",
    "plt.title(\"Recall@10\"); plt.xlabel(\"Epoch\"); plt.ylabel(\"Recall\")\n",
    "\n",
    "plt.subplot(1, 3, 3)\n",
    "plt.plot(range(1, EPOCHS + 1), ndcg_hist, marker='o', color='orange')\n",
    "plt.title(\"NDCG@10\"); plt.xlabel(\"Epoch\"); plt.ylabel(\"NDCG\")\n",
    "\n",
    "plt.tight_layout(); plt.show()"
   ]
  },
  {
   "cell_type": "code",
   "execution_count": 20,
   "id": "86731c1d",
   "metadata": {},
   "outputs": [
    {
     "ename": "ModuleNotFoundError",
     "evalue": "No module named 'optuna'",
     "output_type": "error",
     "traceback": [
      "\u001b[31m---------------------------------------------------------------------------\u001b[39m",
      "\u001b[31mModuleNotFoundError\u001b[39m                       Traceback (most recent call last)",
      "\u001b[36mCell\u001b[39m\u001b[36m \u001b[39m\u001b[32mIn[20]\u001b[39m\u001b[32m, line 9\u001b[39m\n\u001b[32m      7\u001b[39m \u001b[38;5;28;01mimport\u001b[39;00m\u001b[38;5;250m \u001b[39m\u001b[34;01mtorch\u001b[39;00m\u001b[34;01m.\u001b[39;00m\u001b[34;01mnn\u001b[39;00m\u001b[38;5;250m \u001b[39m\u001b[38;5;28;01mas\u001b[39;00m\u001b[38;5;250m \u001b[39m\u001b[34;01mnn\u001b[39;00m\n\u001b[32m      8\u001b[39m \u001b[38;5;28;01mfrom\u001b[39;00m\u001b[38;5;250m \u001b[39m\u001b[34;01mtqdm\u001b[39;00m\u001b[34;01m.\u001b[39;00m\u001b[34;01mauto\u001b[39;00m\u001b[38;5;250m \u001b[39m\u001b[38;5;28;01mimport\u001b[39;00m tqdm, trange\n\u001b[32m----> \u001b[39m\u001b[32m9\u001b[39m \u001b[38;5;28;01mimport\u001b[39;00m\u001b[38;5;250m \u001b[39m\u001b[34;01moptuna\u001b[39;00m\n\u001b[32m     11\u001b[39m \u001b[38;5;66;03m# ---------------- Hyper‑parameters ----------------\u001b[39;00m\n\u001b[32m     12\u001b[39m LIKE_TH       = \u001b[32m1\u001b[39m        \u001b[38;5;66;03m# Treat ratings >= 1 as positive\u001b[39;00m\n",
      "\u001b[31mModuleNotFoundError\u001b[39m: No module named 'optuna'"
     ]
    }
   ],
   "source": [
    "# ─── 1 │ Imports & Config ─────────────────────────────────────────────\n",
    "import pandas as pd\n",
    "import torch\n",
    "import numpy as np\n",
    "import matplotlib.pyplot as plt\n",
    "from torch.utils.data import Dataset, DataLoader\n",
    "import torch.nn as nn\n",
    "from tqdm.auto import tqdm, trange\n",
    "import optuna\n",
    "\n",
    "# ---------------- Hyper‑parameters ----------------\n",
    "LIKE_TH       = 1        # Treat ratings >= 1 as positive\n",
    "BATCH         = 4096     # Training batch size\n",
    "EVAL_BATCH    = 2048     # Scoring batch size\n",
    "OPTUNA_TRIALS = 25       # Number of Optuna trials to run\n",
    "TRIAL_EPOCHS  = 30       # Epochs for each Optuna trial (to keep it fast)\n",
    "FINAL_EPOCHS  = 100      # Epochs for the final model training\n",
    "DEVICE        = \"cuda\" if torch.cuda.is_available() else \"cpu\"\n",
    "# ---------------------------------------------------\n",
    "\n",
    "# ─── 2 │ Load & Prepare Data (No Changes) ─────────────────────────────\n",
    "# (Assuming data from previous steps is loaded and preprocessed)\n",
    "# This part of the code remains the same as your previous version.\n",
    "# For brevity, I'll assume train_df, test_df, n_users, n_books are available.\n",
    "\n",
    "ratings_raw = pd.read_csv(\"data/Ratings.csv\")\n",
    "ratings_raw = ratings_raw[ratings_raw[\"Book-Rating\"] >= LIKE_TH]\n",
    "\n",
    "def train_test_split(df):\n",
    "    train_idx, test_idx = [], []\n",
    "    df_grouped = df.groupby(\"User-ID\")\n",
    "    for _, grp in tqdm(df_grouped, desc=\"Splitting data\"):\n",
    "        if len(grp) < 2:\n",
    "            train_idx.extend(grp.index)\n",
    "        else:\n",
    "            test_idx.append(grp.index[-1])\n",
    "            train_idx.extend(grp.index[:-1])\n",
    "    return df.loc[train_idx], df.loc[test_idx]\n",
    "\n",
    "train_df, test_df = train_test_split(ratings_raw)\n",
    "\n",
    "user2idx = {u: i for i, u in enumerate(train_df[\"User-ID\"].unique())}\n",
    "book2idx = {b: i for i, b in enumerate(train_df[\"ISBN\"].unique())}\n",
    "\n",
    "train_df[\"user_idx\"] = train_df[\"User-ID\"].map(user2idx)\n",
    "train_df[\"book_idx\"] = train_df[\"ISBN\"].map(book2idx)\n",
    "test_df[\"user_idx\"]  = test_df[\"User-ID\"].map(user2idx)\n",
    "test_df[\"book_idx\"]  = test_df[\"ISBN\"].map(book2idx)\n",
    "test_df = test_df.dropna().astype({\"user_idx\": int, \"book_idx\": int})\n",
    "test_df = test_df.sample(n=min(len(test_df), 2000), random_state=42)\n",
    "\n",
    "n_users, n_books = len(user2idx), len(book2idx)\n",
    "\n",
    "# ─── 3 │ Dataset & Model Classes (No Changes) ─────────────────────────\n",
    "class BPRDataset(Dataset):\n",
    "    def __init__(self, df, n_books):\n",
    "        self.pos_pairs = df[[\"user_idx\", \"book_idx\"]].values\n",
    "        self.user_book_set = {tuple(x) for x in self.pos_pairs}\n",
    "        self.n_books = n_books\n",
    "    def __len__(self):\n",
    "        return len(self.pos_pairs)\n",
    "    def __getitem__(self, idx):\n",
    "        u, b_pos = self.pos_pairs[idx]\n",
    "        b_neg = np.random.randint(self.n_books)\n",
    "        while (u, b_neg) in self.user_book_set:\n",
    "            b_neg = np.random.randint(self.n_books)\n",
    "        return u, b_pos, b_neg\n",
    "\n",
    "def collate_bpr(batch):\n",
    "    users, pos, neg = zip(*batch)\n",
    "    return (torch.tensor(users), torch.tensor(pos), torch.tensor(neg))\n",
    "\n",
    "class MF_BPR(nn.Module):\n",
    "    def __init__(self, n_users, n_books, emb_dim):\n",
    "        super().__init__()\n",
    "        self.user_e = nn.Embedding(n_users, emb_dim)\n",
    "        self.book_e = nn.Embedding(n_books, emb_dim)\n",
    "    def forward(self, u, b):\n",
    "        return (self.user_e(u) * self.book_e(b)).sum(1)\n",
    "\n",
    "def bpr_loss(pos_scores, neg_scores):\n",
    "    return (-torch.log(torch.sigmoid(pos_scores - neg_scores))).mean()\n",
    "\n",
    "# ─── 4 │ Evaluation Function (No Changes) ─────────────────────────────\n",
    "def evaluate(model, test_df, train_history, top_k=10, n_neg_samples=100):\n",
    "    model.eval()\n",
    "    all_book_indices = np.arange(n_books)\n",
    "    hits = ndcg_sum = total = 0\n",
    "    with torch.no_grad():\n",
    "        for _, row in test_df.iterrows():\n",
    "            u_idx, pos_b_idx = int(row[\"user_idx\"]), int(row[\"book_idx\"])\n",
    "            seen_books = train_history.get(u_idx, set())\n",
    "            neg_b_indices = []\n",
    "            while len(neg_b_indices) < n_neg_samples:\n",
    "                samples = np.random.choice(all_book_indices, n_neg_samples)\n",
    "                neg_b_indices.extend([b for b in samples if b != pos_b_idx and b not in seen_books])\n",
    "            eval_b_indices = torch.tensor([pos_b_idx] + neg_b_indices[:n_neg_samples], device=DEVICE)\n",
    "            u_tensor = torch.tensor([u_idx] * len(eval_b_indices), device=DEVICE)\n",
    "            scores = model(u_tensor, eval_b_indices).cpu().numpy()\n",
    "            rank = np.sum(scores >= scores[0])\n",
    "            if rank <= top_k:\n",
    "                hits += 1\n",
    "                ndcg_sum += 1 / np.log2(rank + 1)\n",
    "            total += 1\n",
    "    return (hits / total, ndcg_sum / total) if total else (0, 0)\n",
    "\n",
    "# ─── 5 │ Optuna Objective Function ────────────────────────────────────\n",
    "def objective(trial):\n",
    "    # --- Suggest Hyperparameters ---\n",
    "    lr = trial.suggest_float(\"lr\", 1e-4, 1e-2, log=True)\n",
    "    emb_dim = trial.suggest_categorical(\"emb_dim\", [64, 128, 256])\n",
    "    weight_decay = trial.suggest_float(\"weight_decay\", 1e-6, 1e-4, log=True)\n",
    "    \n",
    "    # --- Setup Model, Data, and Optimizer ---\n",
    "    model = MF_BPR(n_users, n_books, emb_dim).to(DEVICE)\n",
    "    optimizer = torch.optim.Adam(model.parameters(), lr=lr, weight_decay=weight_decay)\n",
    "    train_ds = BPRDataset(train_df, n_books)\n",
    "    train_dl = DataLoader(train_ds, batch_size=BATCH, shuffle=True, collate_fn=collate_bpr)\n",
    "    train_history = train_df.groupby(\"user_idx\")[\"book_idx\"].apply(set).to_dict()\n",
    "\n",
    "    # --- Training Loop for the Trial ---\n",
    "    for epoch in range(TRIAL_EPOCHS):\n",
    "        model.train()\n",
    "        for users, pos_b, neg_b in train_dl:\n",
    "            users, pos_b, neg_b = (t.to(DEVICE) for t in (users, pos_b, neg_b))\n",
    "            optimizer.zero_grad()\n",
    "            pos_scores = model(users, pos_b)\n",
    "            neg_scores = model(users, neg_b)\n",
    "            loss = bpr_loss(pos_scores, neg_scores)\n",
    "            loss.backward()\n",
    "            optimizer.step()\n",
    "\n",
    "    # --- Final Evaluation for the Trial ---\n",
    "    recall, ndcg = evaluate(model, test_df, train_history)\n",
    "    return ndcg # Optuna will maximize this value\n",
    "\n",
    "# ─── 6 │ Run Hyperparameter Search ────────────────────────────────────\n",
    "print(\"🚀 Starting hyperparameter search with Optuna...\")\n",
    "study = optuna.create_study(direction=\"maximize\")\n",
    "study.optimize(objective, n_trials=OPTUNA_TRIALS, show_progress_bar=True)\n",
    "\n",
    "best_params = study.best_params\n",
    "print(f\"\\n✅ Search complete. Best NDCG: {study.best_value:.4f}\")\n",
    "print(f\"Best parameters: {best_params}\")\n",
    "\n",
    "# ─── 7 │ Train Final Model with Best Parameters ───────────────────────\n",
    "print(\"\\n🔥 Training final model with best parameters for 100 epochs...\")\n",
    "final_model = MF_BPR(n_users, n_books, emb_dim=best_params['emb_dim']).to(DEVICE)\n",
    "final_optimizer = torch.optim.Adam(final_model.parameters(), lr=best_params['lr'], weight_decay=best_params['weight_decay'])\n",
    "train_ds = BPRDataset(train_df, n_books)\n",
    "train_dl = DataLoader(train_ds, batch_size=BATCH, shuffle=True, collate_fn=collate_bpr)\n",
    "train_history = train_df.groupby(\"user_idx\")[\"book_idx\"].apply(set).to_dict()\n",
    "\n",
    "loss_hist, recall_hist, ndcg_hist = [], [], []\n",
    "\n",
    "for epoch in trange(FINAL_EPOCHS, desc=\"Final Training\"):\n",
    "    final_model.train()\n",
    "    epoch_loss = 0\n",
    "    for users, pos_b, neg_b in train_dl:\n",
    "        users, pos_b, neg_b = (t.to(DEVICE) for t in (users, pos_b, neg_b))\n",
    "        final_optimizer.zero_grad()\n",
    "        pos_scores = final_model(users, pos_b)\n",
    "        neg_scores = final_model(users, neg_b)\n",
    "        loss = bpr_loss(pos_scores, neg_scores)\n",
    "        loss.backward()\n",
    "        final_optimizer.step()\n",
    "        epoch_loss += loss.item()\n",
    "    \n",
    "    # Evaluate at the end of each epoch\n",
    "    recall, ndcg = evaluate(final_model, test_df, train_history)\n",
    "    loss_hist.append(epoch_loss)\n",
    "    recall_hist.append(recall)\n",
    "    ndcg_hist.append(ndcg)\n",
    "\n",
    "# ─── 8 │ Plot Final Results with Moving Average ───────────────────────\n",
    "print(\"\\n📊 Plotting final results...\")\n",
    "plt.style.use('default')\n",
    "plt.figure(figsize=(18, 5))\n",
    "\n",
    "# --- Loss Plot ---\n",
    "plt.subplot(1, 3, 1)\n",
    "plt.plot(range(1, FINAL_EPOCHS + 1), loss_hist, marker='.', linestyle='-', color='b')\n",
    "plt.title(\"BPR Training Loss\")\n",
    "plt.xlabel(\"Epoch\")\n",
    "plt.ylabel(\"Loss\")\n",
    "\n",
    "# --- Recall Plot ---\n",
    "recall_series = pd.Series(recall_hist)\n",
    "recall_ma = recall_series.rolling(window=10).mean()\n",
    "plt.subplot(1, 3, 2)\n",
    "plt.plot(range(1, FINAL_EPOCHS + 1), recall_series, color='green', alpha=0.3, label='Recall@10')\n",
    "plt.plot(range(1, FINAL_EPOCHS + 1), recall_ma, color='green', linestyle='--', label='10-Epoch MA')\n",
    "plt.title(\"Recall@10\")\n",
    "plt.xlabel(\"Epoch\")\n",
    "plt.ylabel(\"Recall\")\n",
    "plt.legend()\n",
    "\n",
    "# --- NDCG Plot ---\n",
    "ndcg_series = pd.Series(ndcg_hist)\n",
    "ndcg_ma = ndcg_series.rolling(window=10).mean()\n",
    "plt.subplot(1, 3, 3)\n",
    "plt.plot(range(1, FINAL_EPOCHS + 1), ndcg_series, color='orange', alpha=0.3, label='NDCG@10')\n",
    "plt.plot(range(1, FINAL_EPOCHS + 1), ndcg_ma, color='darkorange', linestyle='--', label='10-Epoch MA')\n",
    "plt.title(\"NDCG@10\")\n",
    "plt.xlabel(\"Epoch\")\n",
    "plt.ylabel(\"NDCG\")\n",
    "plt.legend()\n",
    "\n",
    "plt.tight_layout()\n",
    "plt.show()"
   ]
  },
  {
   "cell_type": "code",
   "execution_count": null,
   "id": "8ad58c25",
   "metadata": {},
   "outputs": [],
   "source": []
  }
 ],
 "metadata": {
  "kernelspec": {
   "display_name": ".venv (3.13.3)",
   "language": "python",
   "name": "python3"
  },
  "language_info": {
   "codemirror_mode": {
    "name": "ipython",
    "version": 3
   },
   "file_extension": ".py",
   "mimetype": "text/x-python",
   "name": "python",
   "nbconvert_exporter": "python",
   "pygments_lexer": "ipython3",
   "version": "3.13.3"
  }
 },
 "nbformat": 4,
 "nbformat_minor": 5
}
